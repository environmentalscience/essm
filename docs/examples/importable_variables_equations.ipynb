{
 "cells": [
  {
   "cell_type": "markdown",
   "metadata": {},
   "source": [
    "# Importable variables and equations\n",
    "This jupyter notebook can be found at:\n",
    "[https://github.com/environmentalscience/essm/blob/master/docs/examples/importable_variables_equations.ipynb](https://github.com/environmentalscience/essm/blob/master/docs/examples/importable_variables_equations.ipynb)\n",
    "\n",
    "Below, we will import some generic python packages that are used in this notebook:"
   ]
  },
  {
   "cell_type": "code",
   "execution_count": 1,
   "metadata": {},
   "outputs": [
    {
     "data": {
      "text/plain": [
       "'0.4.2.dev5'"
      ]
     },
     "execution_count": 1,
     "metadata": {},
     "output_type": "execute_result"
    }
   ],
   "source": [
    "# Checking for essm version installed\n",
    "import pkg_resources\n",
    "pkg_resources.get_distribution(\"essm\").version"
   ]
  },
  {
   "cell_type": "code",
   "execution_count": 14,
   "metadata": {},
   "outputs": [
    {
     "data": {
      "text/html": [
       "<style>.container { width:150% !important; }</style>"
      ],
      "text/plain": [
       "<IPython.core.display.HTML object>"
      ]
     },
     "metadata": {},
     "output_type": "display_data"
    }
   ],
   "source": [
    "from IPython.core.display import display, HTML\n",
    "display(HTML(\"<style>.container { width:150% !important; }</style>\"))"
   ]
  },
  {
   "cell_type": "code",
   "execution_count": 4,
   "metadata": {},
   "outputs": [],
   "source": [
    "from IPython.display import display\n",
    "from sympy import init_printing, latex\n",
    "init_printing() \n",
    "from sympy.printing import StrPrinter\n",
    "StrPrinter._print_Quantity = lambda self, expr: str(expr.abbrev)    # displays short units (m instead of meter)"
   ]
  },
  {
   "cell_type": "code",
   "execution_count": 5,
   "metadata": {},
   "outputs": [],
   "source": [
    "import scipy as sc\n",
    "# Import various functions from sympy\n",
    "from sympy import Derivative, Eq, exp, log, solve, Symbol"
   ]
  },
  {
   "cell_type": "code",
   "execution_count": 6,
   "metadata": {},
   "outputs": [],
   "source": [
    "from essm.variables.utils import generate_metadata_table, ListTable"
   ]
  },
  {
   "cell_type": "markdown",
   "metadata": {},
   "source": [
    "## General physics variables and equations\n",
    "### Variables\n",
    "Pre-defined thermodynamics variables can be imported from `essm.variables.physics.thermodynamics`:"
   ]
  },
  {
   "cell_type": "code",
   "execution_count": 7,
   "metadata": {},
   "outputs": [
    {
     "data": {
      "text/html": [
       "<table><tr><td>Symbol</td><td>Name</td><td>Description</td><td>Definition</td><td>Default value</td><td>Units</td></tr><tr><td>$\\alpha_a$</td><td>alpha_a</td><td>Thermal diffusivity of dry air.</td><td></td><td>-</td><td>m$^{2}$ s$^{-1}$</td></tr><tr><td>$\\lambda_E$</td><td>lambda_E</td><td>Latent heat of evaporation.</td><td></td><td>2450000.0</td><td>J kg$^{-1}$</td></tr><tr><td>$\\nu_a$</td><td>nu_a</td><td>Kinematic viscosity of dry air.</td><td></td><td>-</td><td>m$^{2}$ s$^{-1}$</td></tr><tr><td>$\\rho_a$</td><td>rho_a</td><td>Density of dry air.</td><td></td><td>-</td><td>kg m$^{-3}$</td></tr><tr><td>$\\sigma$</td><td>sigm</td><td>Stefan-Boltzmann constant.</td><td></td><td>5.67e-08</td><td>J s$^{-1}$ m$^{-2}$ K$^{-4}$</td></tr><tr><td>$c_{pa,mol}$</td><td>c_pamol</td><td>Molar specific heat of dry air.\n",
       "\n",
       "    https://en.wikipedia.org/wiki/Heat_capacity#Specific_heat_capacity\n",
       "    </td><td></td><td>29.19</td><td>J K$^{-1}$ mol$^{-1}$</td></tr><tr><td>$c_{pa}$</td><td>c_pa</td><td>Specific heat of dry air.</td><td></td><td>1010.0</td><td>J K$^{-1}$ kg$^{-1}$</td></tr><tr><td>$c_{pv}$</td><td>c_pv</td><td>Specific heat of water vapour at 300 K.\n",
       "\n",
       "    http://www.engineeringtoolbox.com/water-vapor-d_979.html\n",
       "    </td><td></td><td>1864</td><td>J K$^{-1}$ kg$^{-1}$</td></tr><tr><td>$C_{wa}$</td><td>C_wa</td><td>Concentration of water in air.</td><td></td><td>-</td><td>mol m$^{-3}$</td></tr><tr><td>$D_{va}$</td><td>D_va</td><td>Binary diffusion coefficient of water vapour in air.</td><td></td><td>-</td><td>m$^{2}$ s$^{-1}$</td></tr><tr><td>$g$</td><td>g</td><td>Gravitational acceleration.</td><td></td><td>9.81</td><td>m s$^{-2}$</td></tr><tr><td>$h_c$</td><td>h_c</td><td>Average 1-sided convective heat transfer coefficient.</td><td></td><td>-</td><td>J K$^{-1}$ s$^{-1}$ m$^{-2}$</td></tr><tr><td>$k_a$</td><td>k_a</td><td>Thermal conductivity of dry air.</td><td></td><td>-</td><td>J K$^{-1}$ m$^{-1}$ s$^{-1}$</td></tr><tr><td>$M_w$</td><td>M_w</td><td>Molar mass of water.</td><td></td><td>0.018</td><td>kg mol$^{-1}$</td></tr><tr><td>$M_{air}$</td><td>M_air</td><td>Molar mass of air.\n",
       "\n",
       "    http://www.engineeringtoolbox.com/molecular-mass-air-d_679.html\n",
       "    </td><td></td><td>0.02897</td><td>kg mol$^{-1}$</td></tr><tr><td>$M_{N_2}$</td><td>M_N2</td><td>Molar mass of nitrogen.</td><td></td><td>0.028</td><td>kg mol$^{-1}$</td></tr><tr><td>$M_{O_2}$</td><td>M_O2</td><td>Molar mass of oxygen.</td><td></td><td>0.032</td><td>kg mol$^{-1}$</td></tr><tr><td>$N_{Gr_L}$</td><td>Gr</td><td>Grashof number.</td><td></td><td>-</td><td>1</td></tr><tr><td>$N_{Le}$</td><td>Le</td><td>Lewis number.</td><td></td><td>-</td><td>1</td></tr><tr><td>$N_{Nu_L}$</td><td>Nu</td><td>Average Nusselt number over given length.</td><td></td><td>-</td><td>1</td></tr><tr><td>$N_{Pr}$</td><td>Pr</td><td>Prandtl number (0.71 for air).</td><td></td><td>-</td><td>1</td></tr><tr><td>$N_{Re_c}$</td><td>Re_c</td><td>Critical Reynolds number for the onset of turbulence.</td><td></td><td>-</td><td>1</td></tr><tr><td>$N_{Re_L}$</td><td>Re</td><td>Average Reynolds number over given length.</td><td></td><td>-</td><td>1</td></tr><tr><td>$P_a$</td><td>P_a</td><td>Air pressure.</td><td></td><td>-</td><td>Pa</td></tr><tr><td>$P_{N2}$</td><td>P_N2</td><td>Partial pressure of nitrogen.</td><td></td><td>-</td><td>Pa</td></tr><tr><td>$P_{O2}$</td><td>P_O2</td><td>Partial pressure of oxygen.</td><td></td><td>-</td><td>Pa</td></tr><tr><td>$P_{was}$</td><td>P_was</td><td>Saturation water vapour pressure at air temperature.</td><td></td><td>-</td><td>Pa</td></tr><tr><td>$P_{wa}$</td><td>P_wa</td><td>Water vapour pressure in the atmosphere.</td><td></td><td>-</td><td>Pa</td></tr><tr><td>$R_d$</td><td>R_d</td><td>Downwelling global radiation.</td><td></td><td>-</td><td>W m$^{-2}$</td></tr><tr><td>$R_s$</td><td>R_s</td><td>Solar shortwave flux per area.</td><td></td><td>-</td><td>J s$^{-1}$ m$^{-2}$</td></tr><tr><td>$R_u$</td><td>R_u</td><td>Upwelling global radiation.</td><td></td><td>-</td><td>W m$^{-2}$</td></tr><tr><td>$R_{mol}$</td><td>R_mol</td><td>Molar gas constant.</td><td></td><td>8.314472</td><td>J K$^{-1}$ mol$^{-1}$</td></tr><tr><td>$T_0$</td><td>T0</td><td>Freezing point in Kelvin.</td><td></td><td>273.15</td><td>K</td></tr><tr><td>$T_a$</td><td>T_a</td><td>Air temperature.</td><td></td><td>-</td><td>K</td></tr><tr><td>$v_w$</td><td>v_w</td><td>Wind velocity.</td><td></td><td>-</td><td>m s$^{-1}$</td></tr><tr><td>$x_{N2}$</td><td>x_N2</td><td>Mole fraction of nitrogen in dry air.</td><td></td><td>0.79</td><td>1</td></tr><tr><td>$x_{O2}$</td><td>x_O2</td><td>Mole fraction of oxygen in dry air.</td><td></td><td>0.21</td><td>1</td></tr></table>"
      ],
      "text/plain": [
       "[('Symbol', 'Name', 'Description', 'Definition', 'Default value', 'Units'),\n",
       " ('$\\\\alpha_a$',\n",
       "  'alpha_a',\n",
       "  'Thermal diffusivity of dry air.',\n",
       "  '',\n",
       "  '-',\n",
       "  'm$^{2}$ s$^{-1}$'),\n",
       " ('$\\\\lambda_E$',\n",
       "  'lambda_E',\n",
       "  'Latent heat of evaporation.',\n",
       "  '',\n",
       "  '2450000.0',\n",
       "  'J kg$^{-1}$'),\n",
       " ('$\\\\nu_a$',\n",
       "  'nu_a',\n",
       "  'Kinematic viscosity of dry air.',\n",
       "  '',\n",
       "  '-',\n",
       "  'm$^{2}$ s$^{-1}$'),\n",
       " ('$\\\\rho_a$', 'rho_a', 'Density of dry air.', '', '-', 'kg m$^{-3}$'),\n",
       " ('$\\\\sigma$',\n",
       "  'sigm',\n",
       "  'Stefan-Boltzmann constant.',\n",
       "  '',\n",
       "  '5.67e-08',\n",
       "  'J s$^{-1}$ m$^{-2}$ K$^{-4}$'),\n",
       " ('$c_{pa,mol}$',\n",
       "  'c_pamol',\n",
       "  'Molar specific heat of dry air.\\n\\n    https://en.wikipedia.org/wiki/Heat_capacity#Specific_heat_capacity\\n    ',\n",
       "  '',\n",
       "  '29.19',\n",
       "  'J K$^{-1}$ mol$^{-1}$'),\n",
       " ('$c_{pa}$',\n",
       "  'c_pa',\n",
       "  'Specific heat of dry air.',\n",
       "  '',\n",
       "  '1010.0',\n",
       "  'J K$^{-1}$ kg$^{-1}$'),\n",
       " ('$c_{pv}$',\n",
       "  'c_pv',\n",
       "  'Specific heat of water vapour at 300 K.\\n\\n    http://www.engineeringtoolbox.com/water-vapor-d_979.html\\n    ',\n",
       "  '',\n",
       "  '1864',\n",
       "  'J K$^{-1}$ kg$^{-1}$'),\n",
       " ('$C_{wa}$',\n",
       "  'C_wa',\n",
       "  'Concentration of water in air.',\n",
       "  '',\n",
       "  '-',\n",
       "  'mol m$^{-3}$'),\n",
       " ('$D_{va}$',\n",
       "  'D_va',\n",
       "  'Binary diffusion coefficient of water vapour in air.',\n",
       "  '',\n",
       "  '-',\n",
       "  'm$^{2}$ s$^{-1}$'),\n",
       " ('$g$', 'g', 'Gravitational acceleration.', '', '9.81', 'm s$^{-2}$'),\n",
       " ('$h_c$',\n",
       "  'h_c',\n",
       "  'Average 1-sided convective heat transfer coefficient.',\n",
       "  '',\n",
       "  '-',\n",
       "  'J K$^{-1}$ s$^{-1}$ m$^{-2}$'),\n",
       " ('$k_a$',\n",
       "  'k_a',\n",
       "  'Thermal conductivity of dry air.',\n",
       "  '',\n",
       "  '-',\n",
       "  'J K$^{-1}$ m$^{-1}$ s$^{-1}$'),\n",
       " ('$M_w$', 'M_w', 'Molar mass of water.', '', '0.018', 'kg mol$^{-1}$'),\n",
       " ('$M_{air}$',\n",
       "  'M_air',\n",
       "  'Molar mass of air.\\n\\n    http://www.engineeringtoolbox.com/molecular-mass-air-d_679.html\\n    ',\n",
       "  '',\n",
       "  '0.02897',\n",
       "  'kg mol$^{-1}$'),\n",
       " ('$M_{N_2}$',\n",
       "  'M_N2',\n",
       "  'Molar mass of nitrogen.',\n",
       "  '',\n",
       "  '0.028',\n",
       "  'kg mol$^{-1}$'),\n",
       " ('$M_{O_2}$', 'M_O2', 'Molar mass of oxygen.', '', '0.032', 'kg mol$^{-1}$'),\n",
       " ('$N_{Gr_L}$', 'Gr', 'Grashof number.', '', '-', '1'),\n",
       " ('$N_{Le}$', 'Le', 'Lewis number.', '', '-', '1'),\n",
       " ('$N_{Nu_L}$',\n",
       "  'Nu',\n",
       "  'Average Nusselt number over given length.',\n",
       "  '',\n",
       "  '-',\n",
       "  '1'),\n",
       " ('$N_{Pr}$', 'Pr', 'Prandtl number (0.71 for air).', '', '-', '1'),\n",
       " ('$N_{Re_c}$',\n",
       "  'Re_c',\n",
       "  'Critical Reynolds number for the onset of turbulence.',\n",
       "  '',\n",
       "  '-',\n",
       "  '1'),\n",
       " ('$N_{Re_L}$',\n",
       "  'Re',\n",
       "  'Average Reynolds number over given length.',\n",
       "  '',\n",
       "  '-',\n",
       "  '1'),\n",
       " ('$P_a$', 'P_a', 'Air pressure.', '', '-', 'Pa'),\n",
       " ('$P_{N2}$', 'P_N2', 'Partial pressure of nitrogen.', '', '-', 'Pa'),\n",
       " ('$P_{O2}$', 'P_O2', 'Partial pressure of oxygen.', '', '-', 'Pa'),\n",
       " ('$P_{was}$',\n",
       "  'P_was',\n",
       "  'Saturation water vapour pressure at air temperature.',\n",
       "  '',\n",
       "  '-',\n",
       "  'Pa'),\n",
       " ('$P_{wa}$',\n",
       "  'P_wa',\n",
       "  'Water vapour pressure in the atmosphere.',\n",
       "  '',\n",
       "  '-',\n",
       "  'Pa'),\n",
       " ('$R_d$', 'R_d', 'Downwelling global radiation.', '', '-', 'W m$^{-2}$'),\n",
       " ('$R_s$',\n",
       "  'R_s',\n",
       "  'Solar shortwave flux per area.',\n",
       "  '',\n",
       "  '-',\n",
       "  'J s$^{-1}$ m$^{-2}$'),\n",
       " ('$R_u$', 'R_u', 'Upwelling global radiation.', '', '-', 'W m$^{-2}$'),\n",
       " ('$R_{mol}$',\n",
       "  'R_mol',\n",
       "  'Molar gas constant.',\n",
       "  '',\n",
       "  '8.314472',\n",
       "  'J K$^{-1}$ mol$^{-1}$'),\n",
       " ('$T_0$', 'T0', 'Freezing point in Kelvin.', '', '273.15', 'K'),\n",
       " ('$T_a$', 'T_a', 'Air temperature.', '', '-', 'K'),\n",
       " ('$v_w$', 'v_w', 'Wind velocity.', '', '-', 'm s$^{-1}$'),\n",
       " ('$x_{N2}$',\n",
       "  'x_N2',\n",
       "  'Mole fraction of nitrogen in dry air.',\n",
       "  '',\n",
       "  '0.79',\n",
       "  '1'),\n",
       " ('$x_{O2}$', 'x_O2', 'Mole fraction of oxygen in dry air.', '', '0.21', '1')]"
      ]
     },
     "execution_count": 7,
     "metadata": {},
     "output_type": "execute_result"
    }
   ],
   "source": [
    "import essm.variables.physics.thermodynamics as physics_vars\n",
    "vars = ['physics_vars.' + name for name in physics_vars.__all__]\n",
    "generate_metadata_table([eval(name) for name in vars])"
   ]
  },
  {
   "cell_type": "markdown",
   "metadata": {},
   "source": [
    "Each of the above can also be imported one-by-one, using its Name, e.g.:\n",
    "\n",
    "`from essm.variables.physics.thermodynamics import R_mol`"
   ]
  },
  {
   "cell_type": "markdown",
   "metadata": {},
   "source": [
    "### Equations\n",
    "General equations based on the above variables can be imported from `essm.equations.physics.thermodynamics`:"
   ]
  },
  {
   "cell_type": "code",
   "execution_count": 8,
   "metadata": {},
   "outputs": [
    {
     "data": {
      "text/html": [
       "<table><tr><td>eq_Le</td><td>Le as function of alpha_a and D_va.\n",
       "\n",
       "    (Eq. B3 in :cite:`schymanski_leaf-scale_2017`)\n",
       "    </td><td>$N_{Le} = \\frac{\\alpha_a}{D_{va}}$</td></tr><tr><td>eq_Cwa</td><td>C_wa as a function of P_wa and T_a.\n",
       "\n",
       "    (Eq. B9 in :cite:`schymanski_leaf-scale_2017`)\n",
       "    </td><td>$C_{wa} = \\frac{P_{wa}}{R_{mol} T_a}$</td></tr><tr><td>eq_Nu_forced_all</td><td>Nu as function of Re and Re_c under forced conditions.\n",
       "\n",
       "    (Eqs. B13--B15 in :cite:`schymanski_leaf-scale_2017`)\n",
       "    </td><td>$N_{Nu_L} = - \\frac{\\sqrt[3]{N_{Pr}} \\left(- 37 N_{Re_L}^{\\frac{4}{5}} + 37 \\left(N_{Re_L} + N_{Re_c} - \\frac{\\left|{N_{Re_L} - N_{Re_c}}\\right|}{2}\\right)^{\\frac{4}{5}} - 664 \\sqrt{N_{Re_L} + N_{Re_c} - \\frac{\\left|{N_{Re_L} - N_{Re_c}}\\right|}{2}}\\right)}{1000}$</td></tr><tr><td>eq_Dva</td><td>D_va as a function of air temperature.\n",
       "\n",
       "    (Table A.3 in :cite:`monteith_principles_2007`)\n",
       "    </td><td>$D_{va} = T_a p_1 - p_2$</td></tr><tr><td>eq_alphaa</td><td>alpha_a as a function of air temperature.\n",
       "\n",
       "    (Table A.3 in :cite:`monteith_principles_2007`)\n",
       "    </td><td>$\\alpha_a = T_a p_1 - p_2$</td></tr><tr><td>eq_ka</td><td>k_a as a function of air temperature.\n",
       "\n",
       "    (Table A.3 in :cite:`monteith_principles_2007`)\n",
       "    </td><td>$k_a = T_a p_1 + p_2$</td></tr><tr><td>eq_nua</td><td>nu_a as a function of air temperature.\n",
       "\n",
       "    (Table A.3 in :cite:`monteith_principles_2007`)\n",
       "    </td><td>$\\nu_a = T_a p_1 - p_2$</td></tr><tr><td>eq_rhoa_Pwa_Ta</td><td>rho_a as a function of P_wa and T_a.\n",
       "\n",
       "    (Eq. B20 in :cite:`schymanski_leaf-scale_2017`)\n",
       "    </td><td>$\\rho_a = \\frac{M_{N_2} P_{N2} + M_{O_2} P_{O2} + M_w P_{wa}}{R_{mol} T_a}$</td></tr><tr><td>eq_Pa</td><td>Calculate air pressure.\n",
       "\n",
       "    From partial pressures of N2, O2 and H2O, following Dalton's law of\n",
       "    partial pressures.\n",
       "    </td><td>$P_a = P_{N2} + P_{O2} + P_{wa}$</td></tr><tr><td>eq_PN2_PO2</td><td>Calculate P_N2 as a function of P_O2.\n",
       "\n",
       "    It follows Dalton's law of partial pressures.\n",
       "    </td><td>$P_{N2} = \\frac{P_{O2} x_{N2}}{x_{O2}}$</td></tr><tr><td>eq_PO2</td><td>Calculate P_O2 as a function of P_a, P_N2 and P_wa.</td><td>$P_{O2} = \\frac{P_a x_{O2} - P_{wa} x_{O2}}{x_{N2} + x_{O2}}$</td></tr><tr><td>eq_PN2</td><td>Calculate P_N2 as a function of P_a, P_O2 and P_wa.</td><td>$P_{N2} = \\frac{P_a x_{N2} - P_{wa} x_{N2}}{x_{N2} + x_{O2}}$</td></tr><tr><td>eq_rhoa</td><td>Calculate rho_a from T_a, P_a and P_wa.</td><td>$\\rho_a = \\frac{x_{N2} \\left(M_{N_2} P_a - P_{wa} \\left(M_{N_2} - M_w\\right)\\right) + x_{O2} \\left(M_{O_2} P_a - P_{wa} \\left(M_{O_2} - M_w\\right)\\right)}{R_{mol} T_a x_{N2} + R_{mol} T_a x_{O2}}$</td></tr></table>"
      ],
      "text/plain": [
       "[('eq_Le',\n",
       "  'Le as function of alpha_a and D_va.\\n\\n    (Eq. B3 in :cite:`schymanski_leaf-scale_2017`)\\n    ',\n",
       "  '$N_{Le} = \\\\frac{\\\\alpha_a}{D_{va}}$'),\n",
       " ('eq_Cwa',\n",
       "  'C_wa as a function of P_wa and T_a.\\n\\n    (Eq. B9 in :cite:`schymanski_leaf-scale_2017`)\\n    ',\n",
       "  '$C_{wa} = \\\\frac{P_{wa}}{R_{mol} T_a}$'),\n",
       " ('eq_Nu_forced_all',\n",
       "  'Nu as function of Re and Re_c under forced conditions.\\n\\n    (Eqs. B13--B15 in :cite:`schymanski_leaf-scale_2017`)\\n    ',\n",
       "  '$N_{Nu_L} = - \\\\frac{\\\\sqrt[3]{N_{Pr}} \\\\left(- 37 N_{Re_L}^{\\\\frac{4}{5}} + 37 \\\\left(N_{Re_L} + N_{Re_c} - \\\\frac{\\\\left|{N_{Re_L} - N_{Re_c}}\\\\right|}{2}\\\\right)^{\\\\frac{4}{5}} - 664 \\\\sqrt{N_{Re_L} + N_{Re_c} - \\\\frac{\\\\left|{N_{Re_L} - N_{Re_c}}\\\\right|}{2}}\\\\right)}{1000}$'),\n",
       " ('eq_Dva',\n",
       "  'D_va as a function of air temperature.\\n\\n    (Table A.3 in :cite:`monteith_principles_2007`)\\n    ',\n",
       "  '$D_{va} = T_a p_1 - p_2$'),\n",
       " ('eq_alphaa',\n",
       "  'alpha_a as a function of air temperature.\\n\\n    (Table A.3 in :cite:`monteith_principles_2007`)\\n    ',\n",
       "  '$\\\\alpha_a = T_a p_1 - p_2$'),\n",
       " ('eq_ka',\n",
       "  'k_a as a function of air temperature.\\n\\n    (Table A.3 in :cite:`monteith_principles_2007`)\\n    ',\n",
       "  '$k_a = T_a p_1 + p_2$'),\n",
       " ('eq_nua',\n",
       "  'nu_a as a function of air temperature.\\n\\n    (Table A.3 in :cite:`monteith_principles_2007`)\\n    ',\n",
       "  '$\\\\nu_a = T_a p_1 - p_2$'),\n",
       " ('eq_rhoa_Pwa_Ta',\n",
       "  'rho_a as a function of P_wa and T_a.\\n\\n    (Eq. B20 in :cite:`schymanski_leaf-scale_2017`)\\n    ',\n",
       "  '$\\\\rho_a = \\\\frac{M_{N_2} P_{N2} + M_{O_2} P_{O2} + M_w P_{wa}}{R_{mol} T_a}$'),\n",
       " ('eq_Pa',\n",
       "  \"Calculate air pressure.\\n\\n    From partial pressures of N2, O2 and H2O, following Dalton's law of\\n    partial pressures.\\n    \",\n",
       "  '$P_a = P_{N2} + P_{O2} + P_{wa}$'),\n",
       " ('eq_PN2_PO2',\n",
       "  \"Calculate P_N2 as a function of P_O2.\\n\\n    It follows Dalton's law of partial pressures.\\n    \",\n",
       "  '$P_{N2} = \\\\frac{P_{O2} x_{N2}}{x_{O2}}$'),\n",
       " ('eq_PO2',\n",
       "  'Calculate P_O2 as a function of P_a, P_N2 and P_wa.',\n",
       "  '$P_{O2} = \\\\frac{P_a x_{O2} - P_{wa} x_{O2}}{x_{N2} + x_{O2}}$'),\n",
       " ('eq_PN2',\n",
       "  'Calculate P_N2 as a function of P_a, P_O2 and P_wa.',\n",
       "  '$P_{N2} = \\\\frac{P_a x_{N2} - P_{wa} x_{N2}}{x_{N2} + x_{O2}}$'),\n",
       " ('eq_rhoa',\n",
       "  'Calculate rho_a from T_a, P_a and P_wa.',\n",
       "  '$\\\\rho_a = \\\\frac{x_{N2} \\\\left(M_{N_2} P_a - P_{wa} \\\\left(M_{N_2} - M_w\\\\right)\\\\right) + x_{O2} \\\\left(M_{O_2} P_a - P_{wa} \\\\left(M_{O_2} - M_w\\\\right)\\\\right)}{R_{mol} T_a x_{N2} + R_{mol} T_a x_{O2}}$')]"
      ]
     },
     "execution_count": 8,
     "metadata": {},
     "output_type": "execute_result"
    }
   ],
   "source": [
    "import essm.equations.physics.thermodynamics as physics_eqs\n",
    "modstr = 'physics_eqs.'\n",
    "eqs = [name for name in physics_eqs.__all__]\n",
    "table = ListTable()\n",
    "#table.append(('Name', 'Description', 'Equation'))\n",
    "for name in eqs:\n",
    "    table.append((name, eval(modstr+name).__doc__, latex('$'+latex(eval(modstr+name))+'$')))\n",
    "table"
   ]
  },
  {
   "cell_type": "markdown",
   "metadata": {},
   "source": [
    "## Variables and equations related to plant leaves\n",
    "These refer to the model by Schymanski & Or (2017)."
   ]
  },
  {
   "cell_type": "markdown",
   "metadata": {},
   "source": [
    "### Variables for leaf energy and water balance\n",
    "Variables related to the model by can be imported from `essm.variables.leaf.energy_water`:"
   ]
  },
  {
   "cell_type": "code",
   "execution_count": 9,
   "metadata": {},
   "outputs": [
    {
     "name": "stderr",
     "output_type": "stream",
     "text": [
      "/home/stan/Programs/essm/essm/variables/_core.py:89: UserWarning: \"essm.variables.physics.thermodynamics:Gr\" will be overridden by \"essm.variables.leaf.energy_water:<class 'essm.variables.leaf.energy_water.Gr'>\"\n",
      "  instance[expr] = instance\n",
      "/home/stan/Programs/essm/essm/variables/_core.py:89: UserWarning: \"essm.variables.physics.thermodynamics:h_c\" will be overridden by \"essm.variables.leaf.energy_water:<class 'essm.variables.leaf.energy_water.h_c'>\"\n",
      "  instance[expr] = instance\n"
     ]
    },
    {
     "data": {
      "text/html": [
       "<table><tr><td>Symbol</td><td>Name</td><td>Description</td><td>Definition</td><td>Default value</td><td>Units</td></tr><tr><td>$\\alpha_l$</td><td>alpha_l</td><td>Leaf albedo, fraction of shortwave radiation reflected by the leaf.</td><td></td><td>-</td><td>1</td></tr><tr><td>$\\epsilon_l$</td><td>epsilon_l</td><td>Longwave emmissivity of the leaf surface.</td><td></td><td>1.0</td><td>1</td></tr><tr><td>$\\rho_{al}$</td><td>rho_al</td><td>Density of air at the leaf surface.</td><td></td><td>-</td><td>kg m$^{-3}$</td></tr><tr><td>$a_s$</td><td>a_s</td><td>Fraction of one-sided leaf area covered by stomata.\n",
       "\n",
       "    (1 if stomata are on one side only, 2 if they are on both sides).\n",
       "    </td><td></td><td>-</td><td>1</td></tr><tr><td>$a_{sh}$</td><td>a_sh</td><td>Fraction of projected area exchanging sensible heat with the air.</td><td></td><td>2.0</td><td>1</td></tr><tr><td>$C_{wl}$</td><td>C_wl</td><td>Concentration of water in the leaf air space.</td><td></td><td>-</td><td>mol m$^{-3}$</td></tr><tr><td>$E_l$</td><td>E_l</td><td>Latent heat flux from leaf.</td><td></td><td>-</td><td>J s$^{-1}$ m$^{-2}$</td></tr><tr><td>$E_{l,mol}$</td><td>E_lmol</td><td>Transpiration rate in molar units.</td><td></td><td>-</td><td>mol s$^{-1}$ m$^{-2}$</td></tr><tr><td>$g_{bw,mol}$</td><td>g_bwmol</td><td>Boundary layer conductance to water vapour.</td><td></td><td>-</td><td>mol s$^{-1}$ m$^{-2}$</td></tr><tr><td>$g_{bw}$</td><td>g_bw</td><td>Boundary layer conductance to water vapour.</td><td></td><td>-</td><td>m s$^{-1}$</td></tr><tr><td>$g_{sw,mol}$</td><td>g_swmol</td><td>Stomatal conductance to water vapour.</td><td></td><td>-</td><td>mol s$^{-1}$ m$^{-2}$</td></tr><tr><td>$g_{sw}$</td><td>g_sw</td><td>Stomatal conductance to water vapour.</td><td></td><td>-</td><td>m s$^{-1}$</td></tr><tr><td>$g_{tw,mol}$</td><td>g_twmol</td><td>Total leaf layer conductance to water vapour.</td><td></td><td>-</td><td>mol s$^{-1}$ m$^{-2}$</td></tr><tr><td>$g_{tw}$</td><td>g_tw</td><td>Total leaf conductance to water vapour.</td><td></td><td>-</td><td>m s$^{-1}$</td></tr><tr><td>$h_c$</td><td>h_c</td><td>Average 1-sided convective heat transfer coefficient.</td><td></td><td>-</td><td>J K$^{-1}$ s$^{-1}$ m$^{-2}$</td></tr><tr><td>$H_l$</td><td>H_l</td><td>Sensible heat flux from leaf.</td><td></td><td>-</td><td>J s$^{-1}$ m$^{-2}$</td></tr><tr><td>$L_A$</td><td>L_A</td><td>Leaf area.</td><td></td><td>-</td><td>m$^{2}$</td></tr><tr><td>$L_l$</td><td>L_l</td><td>Leaf width as characteristic length scale for convection.</td><td></td><td>-</td><td>m</td></tr><tr><td>$N_{Gr_L}$</td><td>Gr</td><td>Grashof number.</td><td></td><td>-</td><td>1</td></tr><tr><td>$P_{wl}$</td><td>P_wl</td><td>Water vapour pressure inside the leaf.</td><td></td><td>-</td><td>Pa</td></tr><tr><td>$r_{bw}$</td><td>r_bw</td><td>Boundary layer resistance to water vapour, inverse of $g_{bw}$.</td><td></td><td>-</td><td>s m$^{-1}$</td></tr><tr><td>$R_{la}$</td><td>R_la</td><td>Longwave radiation absorbed by leaf.</td><td></td><td>-</td><td>W m$^{-2}$</td></tr><tr><td>$R_{ld}$</td><td>R_ld</td><td>Downwards emitted/reflected global radiation from leaf.</td><td></td><td>-</td><td>W m$^{-2}$</td></tr><tr><td>$R_{ll}$</td><td>R_ll</td><td>Longwave radiation away from leaf.</td><td></td><td>-</td><td>W m$^{-2}$</td></tr><tr><td>$R_{lu}$</td><td>R_lu</td><td>Upwards emitted/reflected global radiation from leaf.</td><td></td><td>-</td><td>W m$^{-2}$</td></tr><tr><td>$r_{sw}$</td><td>r_sw</td><td>Stomatal resistance to water vapour, inverse of $g_{sw}$.</td><td></td><td>-</td><td>s m$^{-1}$</td></tr><tr><td>$r_{tw}$</td><td>r_tw</td><td>Total leaf resistance to water vapour, $r_{bv} + r_{sv}$.</td><td></td><td>-</td><td>s m$^{-1}$</td></tr><tr><td>$T_l$</td><td>T_l</td><td>Leaf temperature.</td><td></td><td>-</td><td>K</td></tr><tr><td>$T_w$</td><td>T_w</td><td>Radiative temperature of objects surrounding the leaf.</td><td></td><td>-</td><td>K</td></tr></table>"
      ],
      "text/plain": [
       "[('Symbol', 'Name', 'Description', 'Definition', 'Default value', 'Units'),\n",
       " ('$\\\\alpha_l$',\n",
       "  'alpha_l',\n",
       "  'Leaf albedo, fraction of shortwave radiation reflected by the leaf.',\n",
       "  '',\n",
       "  '-',\n",
       "  '1'),\n",
       " ('$\\\\epsilon_l$',\n",
       "  'epsilon_l',\n",
       "  'Longwave emmissivity of the leaf surface.',\n",
       "  '',\n",
       "  '1.0',\n",
       "  '1'),\n",
       " ('$\\\\rho_{al}$',\n",
       "  'rho_al',\n",
       "  'Density of air at the leaf surface.',\n",
       "  '',\n",
       "  '-',\n",
       "  'kg m$^{-3}$'),\n",
       " ('$a_s$',\n",
       "  'a_s',\n",
       "  'Fraction of one-sided leaf area covered by stomata.\\n\\n    (1 if stomata are on one side only, 2 if they are on both sides).\\n    ',\n",
       "  '',\n",
       "  '-',\n",
       "  '1'),\n",
       " ('$a_{sh}$',\n",
       "  'a_sh',\n",
       "  'Fraction of projected area exchanging sensible heat with the air.',\n",
       "  '',\n",
       "  '2.0',\n",
       "  '1'),\n",
       " ('$C_{wl}$',\n",
       "  'C_wl',\n",
       "  'Concentration of water in the leaf air space.',\n",
       "  '',\n",
       "  '-',\n",
       "  'mol m$^{-3}$'),\n",
       " ('$E_l$',\n",
       "  'E_l',\n",
       "  'Latent heat flux from leaf.',\n",
       "  '',\n",
       "  '-',\n",
       "  'J s$^{-1}$ m$^{-2}$'),\n",
       " ('$E_{l,mol}$',\n",
       "  'E_lmol',\n",
       "  'Transpiration rate in molar units.',\n",
       "  '',\n",
       "  '-',\n",
       "  'mol s$^{-1}$ m$^{-2}$'),\n",
       " ('$g_{bw,mol}$',\n",
       "  'g_bwmol',\n",
       "  'Boundary layer conductance to water vapour.',\n",
       "  '',\n",
       "  '-',\n",
       "  'mol s$^{-1}$ m$^{-2}$'),\n",
       " ('$g_{bw}$',\n",
       "  'g_bw',\n",
       "  'Boundary layer conductance to water vapour.',\n",
       "  '',\n",
       "  '-',\n",
       "  'm s$^{-1}$'),\n",
       " ('$g_{sw,mol}$',\n",
       "  'g_swmol',\n",
       "  'Stomatal conductance to water vapour.',\n",
       "  '',\n",
       "  '-',\n",
       "  'mol s$^{-1}$ m$^{-2}$'),\n",
       " ('$g_{sw}$',\n",
       "  'g_sw',\n",
       "  'Stomatal conductance to water vapour.',\n",
       "  '',\n",
       "  '-',\n",
       "  'm s$^{-1}$'),\n",
       " ('$g_{tw,mol}$',\n",
       "  'g_twmol',\n",
       "  'Total leaf layer conductance to water vapour.',\n",
       "  '',\n",
       "  '-',\n",
       "  'mol s$^{-1}$ m$^{-2}$'),\n",
       " ('$g_{tw}$',\n",
       "  'g_tw',\n",
       "  'Total leaf conductance to water vapour.',\n",
       "  '',\n",
       "  '-',\n",
       "  'm s$^{-1}$'),\n",
       " ('$h_c$',\n",
       "  'h_c',\n",
       "  'Average 1-sided convective heat transfer coefficient.',\n",
       "  '',\n",
       "  '-',\n",
       "  'J K$^{-1}$ s$^{-1}$ m$^{-2}$'),\n",
       " ('$H_l$',\n",
       "  'H_l',\n",
       "  'Sensible heat flux from leaf.',\n",
       "  '',\n",
       "  '-',\n",
       "  'J s$^{-1}$ m$^{-2}$'),\n",
       " ('$L_A$', 'L_A', 'Leaf area.', '', '-', 'm$^{2}$'),\n",
       " ('$L_l$',\n",
       "  'L_l',\n",
       "  'Leaf width as characteristic length scale for convection.',\n",
       "  '',\n",
       "  '-',\n",
       "  'm'),\n",
       " ('$N_{Gr_L}$', 'Gr', 'Grashof number.', '', '-', '1'),\n",
       " ('$P_{wl}$', 'P_wl', 'Water vapour pressure inside the leaf.', '', '-', 'Pa'),\n",
       " ('$r_{bw}$',\n",
       "  'r_bw',\n",
       "  'Boundary layer resistance to water vapour, inverse of $g_{bw}$.',\n",
       "  '',\n",
       "  '-',\n",
       "  's m$^{-1}$'),\n",
       " ('$R_{la}$',\n",
       "  'R_la',\n",
       "  'Longwave radiation absorbed by leaf.',\n",
       "  '',\n",
       "  '-',\n",
       "  'W m$^{-2}$'),\n",
       " ('$R_{ld}$',\n",
       "  'R_ld',\n",
       "  'Downwards emitted/reflected global radiation from leaf.',\n",
       "  '',\n",
       "  '-',\n",
       "  'W m$^{-2}$'),\n",
       " ('$R_{ll}$',\n",
       "  'R_ll',\n",
       "  'Longwave radiation away from leaf.',\n",
       "  '',\n",
       "  '-',\n",
       "  'W m$^{-2}$'),\n",
       " ('$R_{lu}$',\n",
       "  'R_lu',\n",
       "  'Upwards emitted/reflected global radiation from leaf.',\n",
       "  '',\n",
       "  '-',\n",
       "  'W m$^{-2}$'),\n",
       " ('$r_{sw}$',\n",
       "  'r_sw',\n",
       "  'Stomatal resistance to water vapour, inverse of $g_{sw}$.',\n",
       "  '',\n",
       "  '-',\n",
       "  's m$^{-1}$'),\n",
       " ('$r_{tw}$',\n",
       "  'r_tw',\n",
       "  'Total leaf resistance to water vapour, $r_{bv} + r_{sv}$.',\n",
       "  '',\n",
       "  '-',\n",
       "  's m$^{-1}$'),\n",
       " ('$T_l$', 'T_l', 'Leaf temperature.', '', '-', 'K'),\n",
       " ('$T_w$',\n",
       "  'T_w',\n",
       "  'Radiative temperature of objects surrounding the leaf.',\n",
       "  '',\n",
       "  '-',\n",
       "  'K')]"
      ]
     },
     "execution_count": 9,
     "metadata": {},
     "output_type": "execute_result"
    }
   ],
   "source": [
    "import essm.variables.leaf.energy_water as leaf_energy\n",
    "vars = ['leaf_energy.' + name for name in leaf_energy.__all__]\n",
    "generate_metadata_table([eval(name) for name in vars])"
   ]
  },
  {
   "cell_type": "markdown",
   "metadata": {},
   "source": [
    "### Equations for leaf energy and water balance\n",
    "General equations based on the above variables can be imported from `essm.equations.physics.thermodynamics`:"
   ]
  },
  {
   "cell_type": "code",
   "execution_count": 10,
   "metadata": {},
   "outputs": [
    {
     "data": {
      "text/html": [
       "<table><tr><td>eq_Rs_enbal</td><td>Calculate R_s from energy balance.\n",
       "\n",
       "    (Eq. 1 in :cite:`schymanski_leaf-scale_2017`)\n",
       "    </td><td>$R_s = E_l + H_l + R_{ll}$</td></tr><tr><td>eq_Rll</td><td>R_ll as function of T_l and T_w.\n",
       "\n",
       "    (Eq. 2 in :cite:`schymanski_leaf-scale_2017`)\n",
       "    </td><td>$R_{ll} = a_{sh} \\epsilon_l \\sigma \\left(T_l^{4} - T_w^{4}\\right)$</td></tr><tr><td>eq_Hl</td><td>H_l as function of T_l.\n",
       "\n",
       "    (Eq. 3 in :cite:`schymanski_leaf-scale_2017`)\n",
       "    </td><td>$H_l = a_{sh} h_c \\left(- T_a + T_l\\right)$</td></tr><tr><td>eq_El</td><td>E_l as function of E_lmol.\n",
       "\n",
       "    (Eq. 4 in :cite:`schymanski_leaf-scale_2017`)\n",
       "    </td><td>$E_l = E_{l,mol} M_w \\lambda_E$</td></tr><tr><td>eq_Elmol</td><td>E_lmol as functino of g_tw and C_wl.\n",
       "\n",
       "    (Eq. 5 in :cite:`schymanski_leaf-scale_2017`)\n",
       "    </td><td>$E_{l,mol} = g_{tw} \\left(- C_{wa} + C_{wl}\\right)$</td></tr><tr><td>eq_gtw</td><td>g_tw from g_sw and g_bw.\n",
       "\n",
       "    (Eq. 6 in :cite:`schymanski_leaf-scale_2017`)\n",
       "    </td><td>$g_{tw} = \\frac{1}{\\frac{1}{g_{sw}} + \\frac{1}{g_{bw}}}$</td></tr><tr><td>eq_gbw_hc</td><td>g_bw as function of h_c.\n",
       "\n",
       "    (Eq. B2 in :cite:`schymanski_leaf-scale_2017`)\n",
       "    </td><td>$g_{bw} = \\frac{a_s h_c}{N_{Le}^{\\frac{2}{3}} c_{pa} \\rho_a}$</td></tr><tr><td>eq_Cwl</td><td>C_wl as function of P_wl and T_l.\n",
       "\n",
       "    (Eq. B4 in :cite:`schymanski_leaf-scale_2017`)\n",
       "    </td><td>$C_{wl} = \\frac{P_{wl}}{R_{mol} T_l}$</td></tr><tr><td>eq_Pwl</td><td>Clausius-Clapeyron P_wl as function of T_l.\n",
       "\n",
       "    (Eq. B3 in :cite:`hartmann_global_1994`)\n",
       "    </td><td>$P_{wl} = p_1 e^{- \\frac{M_w \\lambda_E \\left(- \\frac{1}{p_2} + \\frac{1}{T_l}\\right)}{R_{mol}}}$</td></tr><tr><td>eq_Elmol_conv</td><td>E_lmol as function of g_twmol and P_wl.\n",
       "\n",
       "    (Eq. B6 in :cite:`schymanski_leaf-scale_2017`)\n",
       "    </td><td>$E_{l,mol} = \\frac{g_{tw,mol} \\left(- P_{wa} + P_{wl}\\right)}{P_a}$</td></tr><tr><td>eq_gtwmol_gtw</td><td>g_twmol as a function of g_tw.\n",
       "\n",
       "    It uses eq_Elmol, eq_Cwl and eq_Elmol_conv.\n",
       "    </td><td>$g_{tw,mol} = \\frac{g_{tw} \\left(P_a P_{wa} T_l - P_a P_{wl} T_a\\right)}{R_{mol} T_a T_l \\left(P_{wa} - P_{wl}\\right)}$</td></tr><tr><td>eq_gtwmol_gtw_iso</td><td>g_twmol as a function of g_tw at isothermal conditions.</td><td>$g_{tw,mol} = \\frac{P_a g_{tw}}{R_{mol} T_a}$</td></tr><tr><td>eq_hc</td><td>h_c as a function of Nu and L_l.\n",
       "\n",
       "    (Eq. B10 in :cite:`schymanski_leaf-scale_2017`)\n",
       "    </td><td>$h_c = \\frac{N_{Nu_L} k_a}{L_l}$</td></tr><tr><td>eq_Re</td><td>Re as a function of v_w and L_l.\n",
       "\n",
       "    (Eq. B11 in :cite:`schymanski_leaf-scale_2017`)\n",
       "    </td><td>$N_{Re_L} = \\frac{L_l v_w}{\\nu_a}$</td></tr><tr><td>eq_Gr</td><td>Gr as function of air density within and outside of leaf.\n",
       "\n",
       "    (Eq. B12 in :cite:`schymanski_leaf-scale_2017`)\n",
       "    </td><td>$N_{Gr_L} = \\frac{L_l^{3} g \\left(\\rho_a - \\rho_{al}\\right)}{\\nu_a^{2} \\rho_{al}}$</td></tr></table>"
      ],
      "text/plain": [
       "[('eq_Rs_enbal',\n",
       "  'Calculate R_s from energy balance.\\n\\n    (Eq. 1 in :cite:`schymanski_leaf-scale_2017`)\\n    ',\n",
       "  '$R_s = E_l + H_l + R_{ll}$'),\n",
       " ('eq_Rll',\n",
       "  'R_ll as function of T_l and T_w.\\n\\n    (Eq. 2 in :cite:`schymanski_leaf-scale_2017`)\\n    ',\n",
       "  '$R_{ll} = a_{sh} \\\\epsilon_l \\\\sigma \\\\left(T_l^{4} - T_w^{4}\\\\right)$'),\n",
       " ('eq_Hl',\n",
       "  'H_l as function of T_l.\\n\\n    (Eq. 3 in :cite:`schymanski_leaf-scale_2017`)\\n    ',\n",
       "  '$H_l = a_{sh} h_c \\\\left(- T_a + T_l\\\\right)$'),\n",
       " ('eq_El',\n",
       "  'E_l as function of E_lmol.\\n\\n    (Eq. 4 in :cite:`schymanski_leaf-scale_2017`)\\n    ',\n",
       "  '$E_l = E_{l,mol} M_w \\\\lambda_E$'),\n",
       " ('eq_Elmol',\n",
       "  'E_lmol as functino of g_tw and C_wl.\\n\\n    (Eq. 5 in :cite:`schymanski_leaf-scale_2017`)\\n    ',\n",
       "  '$E_{l,mol} = g_{tw} \\\\left(- C_{wa} + C_{wl}\\\\right)$'),\n",
       " ('eq_gtw',\n",
       "  'g_tw from g_sw and g_bw.\\n\\n    (Eq. 6 in :cite:`schymanski_leaf-scale_2017`)\\n    ',\n",
       "  '$g_{tw} = \\\\frac{1}{\\\\frac{1}{g_{sw}} + \\\\frac{1}{g_{bw}}}$'),\n",
       " ('eq_gbw_hc',\n",
       "  'g_bw as function of h_c.\\n\\n    (Eq. B2 in :cite:`schymanski_leaf-scale_2017`)\\n    ',\n",
       "  '$g_{bw} = \\\\frac{a_s h_c}{N_{Le}^{\\\\frac{2}{3}} c_{pa} \\\\rho_a}$'),\n",
       " ('eq_Cwl',\n",
       "  'C_wl as function of P_wl and T_l.\\n\\n    (Eq. B4 in :cite:`schymanski_leaf-scale_2017`)\\n    ',\n",
       "  '$C_{wl} = \\\\frac{P_{wl}}{R_{mol} T_l}$'),\n",
       " ('eq_Pwl',\n",
       "  'Clausius-Clapeyron P_wl as function of T_l.\\n\\n    (Eq. B3 in :cite:`hartmann_global_1994`)\\n    ',\n",
       "  '$P_{wl} = p_1 e^{- \\\\frac{M_w \\\\lambda_E \\\\left(- \\\\frac{1}{p_2} + \\\\frac{1}{T_l}\\\\right)}{R_{mol}}}$'),\n",
       " ('eq_Elmol_conv',\n",
       "  'E_lmol as function of g_twmol and P_wl.\\n\\n    (Eq. B6 in :cite:`schymanski_leaf-scale_2017`)\\n    ',\n",
       "  '$E_{l,mol} = \\\\frac{g_{tw,mol} \\\\left(- P_{wa} + P_{wl}\\\\right)}{P_a}$'),\n",
       " ('eq_gtwmol_gtw',\n",
       "  'g_twmol as a function of g_tw.\\n\\n    It uses eq_Elmol, eq_Cwl and eq_Elmol_conv.\\n    ',\n",
       "  '$g_{tw,mol} = \\\\frac{g_{tw} \\\\left(P_a P_{wa} T_l - P_a P_{wl} T_a\\\\right)}{R_{mol} T_a T_l \\\\left(P_{wa} - P_{wl}\\\\right)}$'),\n",
       " ('eq_gtwmol_gtw_iso',\n",
       "  'g_twmol as a function of g_tw at isothermal conditions.',\n",
       "  '$g_{tw,mol} = \\\\frac{P_a g_{tw}}{R_{mol} T_a}$'),\n",
       " ('eq_hc',\n",
       "  'h_c as a function of Nu and L_l.\\n\\n    (Eq. B10 in :cite:`schymanski_leaf-scale_2017`)\\n    ',\n",
       "  '$h_c = \\\\frac{N_{Nu_L} k_a}{L_l}$'),\n",
       " ('eq_Re',\n",
       "  'Re as a function of v_w and L_l.\\n\\n    (Eq. B11 in :cite:`schymanski_leaf-scale_2017`)\\n    ',\n",
       "  '$N_{Re_L} = \\\\frac{L_l v_w}{\\\\nu_a}$'),\n",
       " ('eq_Gr',\n",
       "  'Gr as function of air density within and outside of leaf.\\n\\n    (Eq. B12 in :cite:`schymanski_leaf-scale_2017`)\\n    ',\n",
       "  '$N_{Gr_L} = \\\\frac{L_l^{3} g \\\\left(\\\\rho_a - \\\\rho_{al}\\\\right)}{\\\\nu_a^{2} \\\\rho_{al}}$')]"
      ]
     },
     "execution_count": 10,
     "metadata": {},
     "output_type": "execute_result"
    }
   ],
   "source": [
    "import essm.equations.leaf.energy_water as leaf_energy\n",
    "modstr = 'leaf_energy.'\n",
    "eqs = [name for name in leaf_energy.__all__]\n",
    "table = ListTable()\n",
    "#table.append(('Name', 'Description', 'Equation'))\n",
    "for name in eqs:\n",
    "    table.append((name, eval(modstr+name).__doc__, latex('$'+latex(eval(modstr+name))+'$')))\n",
    "table"
   ]
  },
  {
   "cell_type": "markdown",
   "metadata": {},
   "source": [
    "### Variables for leaf radiative balance\n",
    "Variables related to the model by can be imported from `essm.variables.leaf.radiation`:"
   ]
  },
  {
   "cell_type": "code",
   "execution_count": 11,
   "metadata": {},
   "outputs": [
    {
     "name": "stderr",
     "output_type": "stream",
     "text": [
      "/home/stan/Programs/essm/essm/variables/_core.py:89: UserWarning: \"essm.variables.leaf.energy_water:alpha_l\" will be overridden by \"essm.variables.leaf.radiation:<class 'essm.variables.leaf.radiation.alpha_l'>\"\n",
      "  instance[expr] = instance\n",
      "/home/stan/Programs/essm/essm/variables/_core.py:89: UserWarning: \"essm.variables.physics.thermodynamics:R_d\" will be overridden by \"essm.variables.leaf.radiation:<class 'essm.variables.leaf.radiation.R_d'>\"\n",
      "  instance[expr] = instance\n",
      "/home/stan/Programs/essm/essm/variables/_core.py:89: UserWarning: \"essm.variables.leaf.energy_water:R_la\" will be overridden by \"essm.variables.leaf.radiation:<class 'essm.variables.leaf.radiation.R_la'>\"\n",
      "  instance[expr] = instance\n",
      "/home/stan/Programs/essm/essm/variables/_core.py:89: UserWarning: \"essm.variables.leaf.energy_water:R_ld\" will be overridden by \"essm.variables.leaf.radiation:<class 'essm.variables.leaf.radiation.R_ld'>\"\n",
      "  instance[expr] = instance\n",
      "/home/stan/Programs/essm/essm/variables/_core.py:89: UserWarning: \"essm.variables.leaf.energy_water:R_lu\" will be overridden by \"essm.variables.leaf.radiation:<class 'essm.variables.leaf.radiation.R_lu'>\"\n",
      "  instance[expr] = instance\n",
      "/home/stan/Programs/essm/essm/variables/_core.py:89: UserWarning: \"essm.variables.physics.thermodynamics:R_u\" will be overridden by \"essm.variables.leaf.radiation:<class 'essm.variables.leaf.radiation.R_u'>\"\n",
      "  instance[expr] = instance\n"
     ]
    },
    {
     "data": {
      "text/html": [
       "<table><tr><td>Symbol</td><td>Name</td><td>Description</td><td>Definition</td><td>Default value</td><td>Units</td></tr><tr><td>$alpha_l$</td><td>alpha_l</td><td>Leaf albedo, fraction of shortwave radiation reflected by the leaf.</td><td></td><td>-</td><td>1</td></tr><tr><td>$R_d$</td><td>R_d</td><td>Downwelling global radiation.</td><td></td><td>-</td><td>J s$^{-1}$ m$^{-2}$</td></tr><tr><td>$R_u$</td><td>R_u</td><td>Upwelling global radiation.</td><td></td><td>-</td><td>J s$^{-1}$ m$^{-2}$</td></tr><tr><td>$R_{la}$</td><td>R_la</td><td>Longwave radiation absorbed by leaf.</td><td></td><td>-</td><td>J s$^{-1}$ m$^{-2}$</td></tr><tr><td>$R_{ld}$</td><td>R_ld</td><td>Downwards emitted/reflected global radiation from leaf.</td><td></td><td>-</td><td>J s$^{-1}$ m$^{-2}$</td></tr><tr><td>$R_{lu}$</td><td>R_lu</td><td>Upwards emitted/reflected global radiation from leaf.</td><td></td><td>-</td><td>J s$^{-1}$ m$^{-2}$</td></tr><tr><td>$S_a$</td><td>S_a</td><td>Radiation sensor above leaf reading.</td><td></td><td>-</td><td>J s$^{-1}$ m$^{-2}$</td></tr><tr><td>$S_b$</td><td>S_b</td><td>Radiation sensor below leaf reading.</td><td></td><td>-</td><td>J s$^{-1}$ m$^{-2}$</td></tr><tr><td>$S_s$</td><td>S_s</td><td>Radiation sensor beside leaf reading.</td><td></td><td>-</td><td>J s$^{-1}$ m$^{-2}$</td></tr></table>"
      ],
      "text/plain": [
       "[('Symbol', 'Name', 'Description', 'Definition', 'Default value', 'Units'),\n",
       " ('$alpha_l$',\n",
       "  'alpha_l',\n",
       "  'Leaf albedo, fraction of shortwave radiation reflected by the leaf.',\n",
       "  '',\n",
       "  '-',\n",
       "  '1'),\n",
       " ('$R_d$',\n",
       "  'R_d',\n",
       "  'Downwelling global radiation.',\n",
       "  '',\n",
       "  '-',\n",
       "  'J s$^{-1}$ m$^{-2}$'),\n",
       " ('$R_u$',\n",
       "  'R_u',\n",
       "  'Upwelling global radiation.',\n",
       "  '',\n",
       "  '-',\n",
       "  'J s$^{-1}$ m$^{-2}$'),\n",
       " ('$R_{la}$',\n",
       "  'R_la',\n",
       "  'Longwave radiation absorbed by leaf.',\n",
       "  '',\n",
       "  '-',\n",
       "  'J s$^{-1}$ m$^{-2}$'),\n",
       " ('$R_{ld}$',\n",
       "  'R_ld',\n",
       "  'Downwards emitted/reflected global radiation from leaf.',\n",
       "  '',\n",
       "  '-',\n",
       "  'J s$^{-1}$ m$^{-2}$'),\n",
       " ('$R_{lu}$',\n",
       "  'R_lu',\n",
       "  'Upwards emitted/reflected global radiation from leaf.',\n",
       "  '',\n",
       "  '-',\n",
       "  'J s$^{-1}$ m$^{-2}$'),\n",
       " ('$S_a$',\n",
       "  'S_a',\n",
       "  'Radiation sensor above leaf reading.',\n",
       "  '',\n",
       "  '-',\n",
       "  'J s$^{-1}$ m$^{-2}$'),\n",
       " ('$S_b$',\n",
       "  'S_b',\n",
       "  'Radiation sensor below leaf reading.',\n",
       "  '',\n",
       "  '-',\n",
       "  'J s$^{-1}$ m$^{-2}$'),\n",
       " ('$S_s$',\n",
       "  'S_s',\n",
       "  'Radiation sensor beside leaf reading.',\n",
       "  '',\n",
       "  '-',\n",
       "  'J s$^{-1}$ m$^{-2}$')]"
      ]
     },
     "execution_count": 11,
     "metadata": {},
     "output_type": "execute_result"
    }
   ],
   "source": [
    "import essm.variables.leaf.radiation as leaf_radiation\n",
    "vars = ['leaf_radiation.' + name for name in leaf_radiation.__all__]\n",
    "generate_metadata_table([eval(name) for name in vars])"
   ]
  },
  {
   "cell_type": "markdown",
   "metadata": {},
   "source": [
    "## Variables for leaf chamber model\n",
    "These refer to the model by Schymanski & Or (2017) and ongoing work."
   ]
  },
  {
   "cell_type": "markdown",
   "metadata": {},
   "source": [
    "### Leaf chamber insulation\n",
    "Variables related to the model by can be imported from `essm.variables.chamber.insulation`:"
   ]
  },
  {
   "cell_type": "code",
   "execution_count": 12,
   "metadata": {},
   "outputs": [
    {
     "data": {
      "text/html": [
       "<table><tr><td>Symbol</td><td>Name</td><td>Description</td><td>Definition</td><td>Default value</td><td>Units</td></tr><tr><td>$A_i$</td><td>A_i</td><td>Conducting area of insulation material.</td><td></td><td>-</td><td>m$^{2}$</td></tr><tr><td>$c_{pi}$</td><td>c_pi</td><td>Heat capacity of insulation material.</td><td></td><td>-</td><td>J K$^{-1}$ kg$^{-1}$</td></tr><tr><td>$dT_i$</td><td>dT_i</td><td>Temperature increment of insulation material.</td><td></td><td>-</td><td>K</td></tr><tr><td>$L_i$</td><td>L_i</td><td>Thickness of insulation material.</td><td></td><td>-</td><td>m</td></tr><tr><td>$lambda_i$</td><td>lambda_i</td><td>Heat conductivity of insulation material.</td><td></td><td>-</td><td>J K$^{-1}$ m$^{-1}$ s$^{-1}$</td></tr><tr><td>$Q_i$</td><td>Q_i</td><td>Heat conduction through insulation material.</td><td></td><td>-</td><td>J s$^{-1}$</td></tr><tr><td>$rho_i$</td><td>rho_i</td><td>Density of insulation material.</td><td></td><td>-</td><td>kg m$^{-3}$</td></tr></table>"
      ],
      "text/plain": [
       "[('Symbol', 'Name', 'Description', 'Definition', 'Default value', 'Units'),\n",
       " ('$A_i$',\n",
       "  'A_i',\n",
       "  'Conducting area of insulation material.',\n",
       "  '',\n",
       "  '-',\n",
       "  'm$^{2}$'),\n",
       " ('$c_{pi}$',\n",
       "  'c_pi',\n",
       "  'Heat capacity of insulation material.',\n",
       "  '',\n",
       "  '-',\n",
       "  'J K$^{-1}$ kg$^{-1}$'),\n",
       " ('$dT_i$',\n",
       "  'dT_i',\n",
       "  'Temperature increment of insulation material.',\n",
       "  '',\n",
       "  '-',\n",
       "  'K'),\n",
       " ('$L_i$', 'L_i', 'Thickness of insulation material.', '', '-', 'm'),\n",
       " ('$lambda_i$',\n",
       "  'lambda_i',\n",
       "  'Heat conductivity of insulation material.',\n",
       "  '',\n",
       "  '-',\n",
       "  'J K$^{-1}$ m$^{-1}$ s$^{-1}$'),\n",
       " ('$Q_i$',\n",
       "  'Q_i',\n",
       "  'Heat conduction through insulation material.',\n",
       "  '',\n",
       "  '-',\n",
       "  'J s$^{-1}$'),\n",
       " ('$rho_i$',\n",
       "  'rho_i',\n",
       "  'Density of insulation material.',\n",
       "  '',\n",
       "  '-',\n",
       "  'kg m$^{-3}$')]"
      ]
     },
     "execution_count": 12,
     "metadata": {},
     "output_type": "execute_result"
    }
   ],
   "source": [
    "import essm.variables.chamber.insulation as chamber_ins\n",
    "vars = ['chamber_ins.' + name for name in chamber_ins.__all__]\n",
    "generate_metadata_table([eval(name) for name in vars])"
   ]
  },
  {
   "cell_type": "markdown",
   "metadata": {},
   "source": [
    "### Leaf chamber mass balance\n",
    "Variables related to the model by can be imported from `essm.variables.chamber.mass`:"
   ]
  },
  {
   "cell_type": "code",
   "execution_count": 13,
   "metadata": {},
   "outputs": [
    {
     "name": "stderr",
     "output_type": "stream",
     "text": [
      "/home/stan/Programs/essm/essm/variables/_core.py:89: UserWarning: \"essm.variables.leaf.energy_water:L_A\" will be overridden by \"essm.variables.chamber.mass:<class 'essm.variables.chamber.mass.L_A'>\"\n",
      "  instance[expr] = instance\n"
     ]
    },
    {
     "data": {
      "text/html": [
       "<table><tr><td>Symbol</td><td>Name</td><td>Description</td><td>Definition</td><td>Default value</td><td>Units</td></tr><tr><td>$F_{in,mol,a}$</td><td>F_in_mola</td><td>Molar flow rate of dry air into chamber.</td><td></td><td>-</td><td>mol s$^{-1}$</td></tr><tr><td>$F_{in,mol,w}$</td><td>F_in_molw</td><td>Molar flow rate of water vapour into chamber.</td><td></td><td>-</td><td>mol s$^{-1}$</td></tr><tr><td>$F_{in,v}$</td><td>F_in_v</td><td>Volumetric flow rate into chamber.</td><td></td><td>-</td><td>m$^{3}$ s$^{-1}$</td></tr><tr><td>$F_{out,mol,a}$</td><td>F_out_mola</td><td>Molar flow rate of dry air out of chamber.</td><td></td><td>-</td><td>mol s$^{-1}$</td></tr><tr><td>$F_{out,mol,w}$</td><td>F_out_molw</td><td>Molar flow rate of water vapour out of chamber.</td><td></td><td>-</td><td>mol s$^{-1}$</td></tr><tr><td>$F_{out,v}$</td><td>F_out_v</td><td>Volumetric flow rate out of chamber.</td><td></td><td>-</td><td>m$^{3}$ s$^{-1}$</td></tr><tr><td>$H_c$</td><td>H_c</td><td>Chamber height.</td><td></td><td>-</td><td>m</td></tr><tr><td>$L_A$</td><td>L_A</td><td>Leaf area.</td><td></td><td>-</td><td>m$^{2}$</td></tr><tr><td>$L_c$</td><td>L_c</td><td>Chamber length.</td><td></td><td>-</td><td>m</td></tr><tr><td>$n_c$</td><td>n_c</td><td>molar mass of gas in chamber.</td><td></td><td>-</td><td>mol</td></tr><tr><td>$P_{w,in}$</td><td>P_w_in</td><td>Vapour pressure of incoming air.</td><td></td><td>-</td><td>Pa</td></tr><tr><td>$P_{w,out}$</td><td>P_w_out</td><td>Vapour pressure of outgoing air.</td><td></td><td>-</td><td>Pa</td></tr><tr><td>$R_{H,in}$</td><td>R_H_in</td><td>Relative humidity of incoming air.</td><td></td><td>-</td><td>1</td></tr><tr><td>$T_d$</td><td>T_d</td><td>Dew point temperature of incoming air.</td><td></td><td>-</td><td>K</td></tr><tr><td>$T_{in}$</td><td>T_in</td><td>Temperature of incoming air.</td><td></td><td>-</td><td>K</td></tr><tr><td>$T_{out}$</td><td>T_out</td><td>Temperature of outgoing air (= chamber T_a).</td><td></td><td>-</td><td>K</td></tr><tr><td>$T_{room}$</td><td>T_room</td><td>Lab air temperature.</td><td></td><td>-</td><td>K</td></tr><tr><td>$V_c$</td><td>V_c</td><td>Chamber volume.</td><td></td><td>-</td><td>m$^{3}$</td></tr><tr><td>$W_c$</td><td>W_c</td><td>Chamber width.</td><td></td><td>-</td><td>m</td></tr></table>"
      ],
      "text/plain": [
       "[('Symbol', 'Name', 'Description', 'Definition', 'Default value', 'Units'),\n",
       " ('$F_{in,mol,a}$',\n",
       "  'F_in_mola',\n",
       "  'Molar flow rate of dry air into chamber.',\n",
       "  '',\n",
       "  '-',\n",
       "  'mol s$^{-1}$'),\n",
       " ('$F_{in,mol,w}$',\n",
       "  'F_in_molw',\n",
       "  'Molar flow rate of water vapour into chamber.',\n",
       "  '',\n",
       "  '-',\n",
       "  'mol s$^{-1}$'),\n",
       " ('$F_{in,v}$',\n",
       "  'F_in_v',\n",
       "  'Volumetric flow rate into chamber.',\n",
       "  '',\n",
       "  '-',\n",
       "  'm$^{3}$ s$^{-1}$'),\n",
       " ('$F_{out,mol,a}$',\n",
       "  'F_out_mola',\n",
       "  'Molar flow rate of dry air out of chamber.',\n",
       "  '',\n",
       "  '-',\n",
       "  'mol s$^{-1}$'),\n",
       " ('$F_{out,mol,w}$',\n",
       "  'F_out_molw',\n",
       "  'Molar flow rate of water vapour out of chamber.',\n",
       "  '',\n",
       "  '-',\n",
       "  'mol s$^{-1}$'),\n",
       " ('$F_{out,v}$',\n",
       "  'F_out_v',\n",
       "  'Volumetric flow rate out of chamber.',\n",
       "  '',\n",
       "  '-',\n",
       "  'm$^{3}$ s$^{-1}$'),\n",
       " ('$H_c$', 'H_c', 'Chamber height.', '', '-', 'm'),\n",
       " ('$L_A$', 'L_A', 'Leaf area.', '', '-', 'm$^{2}$'),\n",
       " ('$L_c$', 'L_c', 'Chamber length.', '', '-', 'm'),\n",
       " ('$n_c$', 'n_c', 'molar mass of gas in chamber.', '', '-', 'mol'),\n",
       " ('$P_{w,in}$', 'P_w_in', 'Vapour pressure of incoming air.', '', '-', 'Pa'),\n",
       " ('$P_{w,out}$', 'P_w_out', 'Vapour pressure of outgoing air.', '', '-', 'Pa'),\n",
       " ('$R_{H,in}$', 'R_H_in', 'Relative humidity of incoming air.', '', '-', '1'),\n",
       " ('$T_d$', 'T_d', 'Dew point temperature of incoming air.', '', '-', 'K'),\n",
       " ('$T_{in}$', 'T_in', 'Temperature of incoming air.', '', '-', 'K'),\n",
       " ('$T_{out}$',\n",
       "  'T_out',\n",
       "  'Temperature of outgoing air (= chamber T_a).',\n",
       "  '',\n",
       "  '-',\n",
       "  'K'),\n",
       " ('$T_{room}$', 'T_room', 'Lab air temperature.', '', '-', 'K'),\n",
       " ('$V_c$', 'V_c', 'Chamber volume.', '', '-', 'm$^{3}$'),\n",
       " ('$W_c$', 'W_c', 'Chamber width.', '', '-', 'm')]"
      ]
     },
     "execution_count": 13,
     "metadata": {},
     "output_type": "execute_result"
    }
   ],
   "source": [
    "import essm.variables.chamber.mass as chamber_mass\n",
    "vars = ['chamber_mass.' + name for name in chamber_mass.__all__]\n",
    "generate_metadata_table([eval(name) for name in vars])"
   ]
  },
  {
   "cell_type": "markdown",
   "metadata": {},
   "source": [
    "## Bibliography\n",
    "See https://essm.readthedocs.io/en/latest/api.html#bibliography"
   ]
  },
  {
   "cell_type": "code",
   "execution_count": null,
   "metadata": {},
   "outputs": [],
   "source": []
  }
 ],
 "metadata": {
  "kernelspec": {
   "display_name": "Python 3",
   "language": "python",
   "name": "python3"
  },
  "language_info": {
   "codemirror_mode": {
    "name": "ipython",
    "version": 3
   },
   "file_extension": ".py",
   "mimetype": "text/x-python",
   "name": "python",
   "nbconvert_exporter": "python",
   "pygments_lexer": "ipython3",
   "version": "3.7.4"
  },
  "nav_menu": {},
  "toc": {
   "base_numbering": 1,
   "nav_menu": {},
   "number_sections": true,
   "sideBar": true,
   "skip_h1_title": false,
   "title_cell": "Table of Contents",
   "title_sidebar": "Contents",
   "toc_cell": false,
   "toc_position": {
    "height": "calc(100% - 180px)",
    "left": "10px",
    "top": "150px",
    "width": "253.991px"
   },
   "toc_section_display": "block",
   "toc_window_display": true
  },
  "toc_position": {
   "height": "991px",
   "left": "0px",
   "right": "888.92px",
   "top": "105px",
   "width": "212px"
  }
 },
 "nbformat": 4,
 "nbformat_minor": 4
}
