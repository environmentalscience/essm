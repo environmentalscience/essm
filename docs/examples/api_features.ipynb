{
 "cells": [
  {
   "cell_type": "markdown",
   "metadata": {},
   "source": [
    "# Use examples\n",
    "This jupyter notebook can be found at:\n",
    "[https://github.com/environmentalscience/essm/blob/master/docs/examples/api_features.ipynb](https://github.com/environmentalscience/essm/blob/master/docs/examples/api_features.ipynb)\n",
    "\n",
    "Below, we will import some generic python packages that are used in this notebook:"
   ]
  },
  {
   "cell_type": "code",
   "execution_count": 1,
   "metadata": {},
   "outputs": [
    {
     "data": {
      "text/plain": [
       "'1.2.dev0+dirty'"
      ]
     },
     "execution_count": 1,
     "metadata": {},
     "output_type": "execute_result"
    }
   ],
   "source": [
    "# Checking for essm version installed\n",
    "import pkg_resources\n",
    "pkg_resources.get_distribution(\"essm\").version"
   ]
  },
  {
   "cell_type": "code",
   "execution_count": 2,
   "metadata": {},
   "outputs": [],
   "source": [
    "from IPython.core.display import display, HTML\n",
    "#display(HTML(\"<style>.container { width:120% !important; }</style>\"))"
   ]
  },
  {
   "cell_type": "code",
   "execution_count": 3,
   "metadata": {},
   "outputs": [],
   "source": [
    "from IPython.display import display\n",
    "from sympy import init_printing, latex\n",
    "init_printing() \n",
    "from sympy.printing import StrPrinter\n",
    "StrPrinter._print_Quantity = lambda self, expr: str(expr.abbrev)    # displays short units (m instead of meter)"
   ]
  },
  {
   "cell_type": "code",
   "execution_count": 4,
   "metadata": {},
   "outputs": [],
   "source": [
    "import imp, warnings\n",
    "import scipy as sc\n",
    "# Import various functions from sympy\n",
    "from sympy import Derivative, Eq, exp, log, solve, Symbol\n",
    "from essm.equations import Equation\n",
    "from essm.variables import Variable\n",
    "from essm.variables.utils import ListTable, generate_metadata_table"
   ]
  },
  {
   "cell_type": "markdown",
   "metadata": {},
   "source": [
    "## Importing variables and equations from essm"
   ]
  },
  {
   "cell_type": "code",
   "execution_count": 5,
   "metadata": {},
   "outputs": [],
   "source": [
    "from essm.variables.chamber import *\n",
    "from essm.variables.leaf import *\n",
    "from essm.variables.physics.thermodynamics import *\n",
    "from essm.equations.leaf import * \n",
    "from essm.equations.physics.thermodynamics import *"
   ]
  },
  {
   "cell_type": "markdown",
   "metadata": {},
   "source": [
    "## Plotting\n",
    "Below, we will define a function to make plotting of equations very easy, and then show an example:"
   ]
  },
  {
   "cell_type": "code",
   "execution_count": 6,
   "metadata": {},
   "outputs": [],
   "source": [
    "import matplotlib.pyplot as plt\n",
    "from sympy import latex\n",
    "from sympy import N\n",
    "from numpy import arange\n",
    "from essm.variables.units import derive_unit, SI, Quantity\n",
    "from essm.variables.utils import markdown\n",
    "\n",
    "def plot_expr2(xvar_min_max, yldata, yllabel=None, yrdata=None,\n",
    "               yrlabel='', clf=True, npoints=100, ylmin=None, ylmax=None,\n",
    "               yrmin=None, yrmax=None, xlabel=None,\n",
    "               colors=None,\n",
    "               loc_legend_left='best', loc_legend_right='right',\n",
    "               linestylesl=['-', '--', '-.', ':'], \n",
    "               linestylesr=['-', '--', '-.', ':'],\n",
    "               fontsize=None, fontsize_ticks=None, fontsize_labels=None,\n",
    "               fontsize_legend=None,\n",
    "               fig1=None, **args):\n",
    "    '''\n",
    "    Plot expressions as function of xvar from xmin to xmax.\n",
    "    \n",
    "    **Examples:**\n",
    "    \n",
    "    from essm.variables import Variable\n",
    "    from essm.variables.physics.thermodynamics import T_a\n",
    "    from essm.equations.physics.thermodynamics import eq_nua, eq_ka\n",
    "    vdict = Variable.__defaults__.copy()    \n",
    "    expr = eq_nua.subs(vdict)\n",
    "    exprr = eq_ka.subs(vdict)\n",
    "    xvar = T_a\n",
    "    yldata = [(expr.rhs, 'full'), (expr.rhs/2, 'half')]\n",
    "    yrdata = exprr\n",
    "    plot_expr2((T_a, 273, 373), yldata, yllabel = (nu_a), yrdata=yrdata)\n",
    "    plot_expr2((T_a, 273, 373), yldata, yllabel = (nu_a), \n",
    "               yrdata=[(1/exprr.lhs, 1/exprr.rhs)],\n",
    "               loc_legend_right='lower right')\n",
    "    plot_expr2((T_a, 273, 373), expr)\n",
    "    plot_expr2((T_a, 273, 373), yldata, yllabel = (nu_a))\n",
    "    '''\n",
    "    (xvar, xmin, xmax) = xvar_min_max\n",
    "    if not colors:\n",
    "        if yrdata is not None:\n",
    "            colors = ['black', 'blue', 'red', 'green']\n",
    "        else:\n",
    "            colors = ['blue', 'black', 'red', 'green']\n",
    "    if fontsize:\n",
    "        fontsize_labels = fontsize\n",
    "        fontsize_legend = fontsize\n",
    "        fontsize_ticks = fontsize\n",
    "    if not fig1:\n",
    "        plt.close\n",
    "        plt.clf\n",
    "        fig = plt.figure(**args)\n",
    "    else: \n",
    "        fig = fig1\n",
    "    if hasattr(xvar, 'definition'): \n",
    "        unit1 = derive_unit(xvar)\n",
    "        if unit1 != 1:\n",
    "            strunit = ' (' + markdown(unit1) + ')'\n",
    "        else: \n",
    "            strunit = ''\n",
    "        if not xlabel:\n",
    "            xlabel = '$'+latex(xvar)+'$'+ strunit\n",
    "    else: \n",
    "        if not xlabel:\n",
    "            xlabel = xvar\n",
    "    if hasattr(yldata, 'lhs'):\n",
    "        yldata = (yldata.rhs, yldata.lhs)\n",
    "    if not yllabel:\n",
    "        if type(yldata) is tuple:\n",
    "            yllabel = yldata[1]\n",
    "        else:\n",
    "            try: \n",
    "                yllabel = yldata[0][1]\n",
    "            except Exception as e1:\n",
    "                print(e1)\n",
    "                print('yldata must be equation or list of (expr, name) tuples')\n",
    "                \n",
    "    if type(yllabel) is not str: \n",
    "        unit1 = derive_unit(yllabel)\n",
    "        if unit1 != 1:\n",
    "            strunit = ' (' + markdown(unit1) + ')'\n",
    "        else: \n",
    "            strunit = ''\n",
    "        \n",
    "        yllabel = '$'+latex(yllabel)+'$'+ strunit   \n",
    "    if type (yldata) is not list and type(yldata) is not tuple:\n",
    "        # If only an expression given\n",
    "        yldata = [(yldata, '')]\n",
    "    if type(yldata[0]) is not tuple:\n",
    "        yldata = [yldata]\n",
    "    if yrdata is not None:\n",
    "        if yrlabel == '':\n",
    "            if hasattr(yrdata, 'lhs'):\n",
    "                yrlabel = yrdata.lhs \n",
    "        if type (yrdata) is not list and type(yrdata) is not tuple:\n",
    "            # If only an expression given\n",
    "            yrdata = [yrdata] \n",
    "    if type(yrlabel) is not str: \n",
    "        yrlabel = '$'+latex(yrlabel)+'$'+ ' (' + markdown(derive_unit(yrlabel)) + ')'            \n",
    "    \n",
    "    xstep = (xmax - xmin)/npoints\n",
    "    xvals = arange(xmin, xmax, xstep)\n",
    "       \n",
    "    ax1 =  fig.add_subplot(1, 1, 1)\n",
    "    if yrdata is not None:\n",
    "        color = colors[0]\n",
    "    else:\n",
    "        color = 'black'\n",
    "    if ylmin:    ax1.set_ylim(ymin=float(ylmin))\n",
    "    if ylmax:    ax1.set_ylim(ymax=float(ylmax))\n",
    "    ax1.set_xlabel(xlabel)\n",
    "    ax1.set_ylabel(yllabel, color=color)\n",
    "    ax1.tick_params(axis='y', labelcolor=color)\n",
    "    i = 0\n",
    "    for (expr1, y1var) in yldata:\n",
    "        linestyle = linestylesl[i]\n",
    "        if yrdata is None:\n",
    "            color = colors[i]\n",
    "        i= i + 1\n",
    "        try: \n",
    "            y1vals = [expr1.subs(xvar, dummy).n() for dummy in xvals]                   \n",
    "            ax1.plot(xvals, y1vals, color=color, linestyle=linestyle, label=y1var)\n",
    "        except Exception as e1:\n",
    "            print([expr1.subs(xvar, dummy) for dummy in xvals])\n",
    "            print(e1)\n",
    "    if i > 1 or yrdata is not None:\n",
    "        plt.legend(loc=loc_legend_left, fontsize=fontsize_legend)\n",
    "    \n",
    "    if yrdata is not None:   \n",
    "        ax2 = ax1.twinx()  # instantiate a second axes that shares the same x-axis\n",
    "        color = colors[1]\n",
    "        ax2.set_ylabel(yrlabel, color=color)\n",
    "        i = 0\n",
    "\n",
    "        for item in yrdata:\n",
    "            if type(item) is tuple:   # if item is tuple\n",
    "                (expr2, y2var) = item\n",
    "            else:\n",
    "                try: \n",
    "                    (y2var, expr2) = (item.lhs, item.rhs)\n",
    "                except Exception as e1:\n",
    "                    print(e1)\n",
    "                    print('yrdata must be a list of equations or tuples (var, expr)')\n",
    "                    return\n",
    "            linestyle = linestylesr[i]\n",
    "            i = i + 1\n",
    "            try:\n",
    "                y2vals = [expr2.subs(xvar, dummy).n() for dummy in xvals]\n",
    "                ax2.plot(xvals, y2vals, color=color, linestyle=linestyle, label=y2var)\n",
    "            except Exception as e1:\n",
    "                print(expr2)\n",
    "                print([expr2.subs(xvar, dummy).n() for dummy in xvals])\n",
    "                print(e1)\n",
    "                \n",
    "            if not yrlabel:\n",
    "                if hasattr(yrdata[0], 'lhs'):\n",
    "                    yrlabel = yrdata[0].lhs\n",
    "\n",
    "        if type(yrlabel) is not str: \n",
    "            yrlabel = '$'+latex(yrlabel)+'$'+ ' (' + markdown(derive_unit(yrlabel)) + ')'       \n",
    "        ax2.tick_params(axis='y', labelcolor=color)\n",
    "        if yrmin:    ax2.set_ylim(ymin=float(yrmin))\n",
    "        if yrmax:    ax2.set_ylim(ymax=float(yrmax))\n",
    "        leg=ax2.legend(loc=loc_legend_right, fontsize=fontsize_legend)\n",
    "        ax2.add_artist(leg);\n",
    "        for item in ([ax2.xaxis.label, ax2.yaxis.label]):\n",
    "            item.set_fontsize(fontsize_labels)\n",
    "        ax2.tick_params(axis='both', which='major', labelsize=fontsize_ticks)\n",
    "\n",
    "    for item in ([ax1.xaxis.label, ax1.yaxis.label]):\n",
    "        item.set_fontsize(fontsize_labels)\n",
    "    ax1.tick_params(axis='both', which='major', labelsize=fontsize_ticks)\n",
    "    fig.tight_layout()  # otherwise the right y-label is slightly clipped\n",
    "    return fig"
   ]
  },
  {
   "cell_type": "code",
   "execution_count": 7,
   "metadata": {},
   "outputs": [
    {
     "data": {
      "image/png": "[encoded data removed]",
      "text/plain": [
       "<Figure size 432x288 with 2 Axes>"
      ]
     },
     "metadata": {
      "needs_background": "light"
     },
     "output_type": "display_data"
    },
    {
     "data": {
      "image/png": "[encoded data removed]",
      "text/plain": [
       "<Figure size 432x288 with 2 Axes>"
      ]
     },
     "metadata": {
      "needs_background": "light"
     },
     "output_type": "display_data"
    },
    {
     "data": {
      "image/png": "[encoded data removed]",
      "text/plain": [
       "<Figure size 432x288 with 2 Axes>"
      ]
     },
     "metadata": {
      "needs_background": "light"
     },
     "output_type": "display_data"
    },
    {
     "data": {
      "image/png": "[encoded data removed]",
      "text/plain": [
       "<Figure size 432x288 with 2 Axes>"
      ]
     },
     "metadata": {
      "needs_background": "light"
     },
     "output_type": "display_data"
    },
    {
     "data": {
      "image/png": "[encoded data removed]",
      "text/plain": [
       "<Figure size 432x288 with 1 Axes>"
      ]
     },
     "metadata": {
      "needs_background": "light"
     },
     "output_type": "display_data"
    },
    {
     "data": {
      "image/png": "[encoded data removed]",
      "text/plain": [
       "<Figure size 432x288 with 1 Axes>"
      ]
     },
     "metadata": {
      "needs_background": "light"
     },
     "output_type": "display_data"
    }
   ],
   "source": [
    "vdict = Variable.__defaults__.copy()    \n",
    "expr = eq_nua.subs(vdict)\n",
    "exprr = eq_ka.subs(vdict)\n",
    "xvar = T_a\n",
    "yldata = [(expr.rhs, 'full'), (expr.rhs/2, 'half')]\n",
    "yrdata = exprr\n",
    "fig=plot_expr2((T_a, 273, 373), yldata=expr, yrdata=exprr, yrmin=-0.0001, fontsize=14) # note that yrmin=0 would have no effect\n",
    "fig=plot_expr2((T_a, 273, 373), yldata=expr, yrdata=exprr, colors=['red', 'blue'], linestylesr=['--'])\n",
    "fig=plot_expr2((T_a, 273, 373), yldata, yllabel = (nu_a), yrdata=yrdata)\n",
    "fig=plot_expr2((T_a, 273, 373), yldata, yllabel = (nu_a), yrdata=[(1/exprr.rhs, 1/exprr.lhs)],\n",
    "           loc_legend_right='lower right')\n",
    "fig=plot_expr2((T_a, 273, 373), expr)\n",
    "fig=plot_expr2((T_a, 273, 373), yldata, yllabel = (nu_a))"
   ]
  },
  {
   "cell_type": "markdown",
   "metadata": {},
   "source": [
    "We can also manipulate the figure later, e.g. change the width:"
   ]
  },
  {
   "cell_type": "code",
   "execution_count": 8,
   "metadata": {},
   "outputs": [
    {
     "data": {
      "image/png": "[encoded data removed]",
      "text/plain": [
       "<Figure size 576x288 with 1 Axes>"
      ]
     },
     "execution_count": 8,
     "metadata": {},
     "output_type": "execute_result"
    }
   ],
   "source": [
    "%matplotlib inline\n",
    "fig.set_figwidth(8)\n",
    "fig"
   ]
  },
  {
   "cell_type": "markdown",
   "metadata": {},
   "source": [
    "\n",
    "## Creating new variables\n",
    "To create custom variables, first import `Variable`:"
   ]
  },
  {
   "cell_type": "code",
   "execution_count": 9,
   "metadata": {},
   "outputs": [],
   "source": [
    "from essm.variables import Variable"
   ]
  },
  {
   "cell_type": "markdown",
   "metadata": {},
   "source": [
    "To define units, you can either import these units from the library,\n",
    "e.g.\n",
    "\n",
    "`from essm.variables.units import joule, kelvin, meter`\n",
    "\n",
    "or import the appropriate units from sympy, e.g.\n",
    "\n",
    "`from sympy.physics.units import joule, kelvin, meter`"
   ]
  },
  {
   "cell_type": "code",
   "execution_count": 10,
   "metadata": {},
   "outputs": [],
   "source": [
    "from sympy.physics.units import joule, kelvin, meter, mole, pascal, second"
   ]
  },
  {
   "cell_type": "markdown",
   "metadata": {},
   "source": [
    "Then you can define a custom variable with its name, description, domain,\n",
    "latex_name, unit, and an optional default value, e.g.:"
   ]
  },
  {
   "cell_type": "code",
   "execution_count": 11,
   "metadata": {},
   "outputs": [
    {
     "name": "stderr",
     "output_type": "stream",
     "text": [
      "/home/stan/Programs/essm/essm/variables/_core.py:89: UserWarning: \"essm.variables.physics.thermodynamics:R_mol\" will be overridden by \"__main__:<class '__main__.R_mol'>\"\n",
      "  instance[expr] = instance\n"
     ]
    }
   ],
   "source": [
    "class R_mol(Variable):\n",
    "    \"\"\"Molar gas constant.\"\"\"\n",
    "    unit = joule/(kelvin*mole)\n",
    "    latex_name = 'R_{mol}'\n",
    "    default = 8.314472"
   ]
  },
  {
   "cell_type": "markdown",
   "metadata": {},
   "source": [
    "The variables defined above hold information about their docstring, units, latex representations and default values if any. Each can be accessed by e.g.:"
   ]
  },
  {
   "cell_type": "code",
   "execution_count": 12,
   "metadata": {},
   "outputs": [
    {
     "name": "stdout",
     "output_type": "stream",
     "text": [
      "Molar gas constant.\n",
      "J/(K*mol)\n",
      "R_{mol}\n",
      "8.314472\n"
     ]
    }
   ],
   "source": [
    "print(R_mol.__doc__)\n",
    "print(R_mol.definition.unit)\n",
    "print(R_mol.definition.latex_name)\n",
    "print(R_mol.definition.default)"
   ]
  },
  {
   "cell_type": "markdown",
   "metadata": {},
   "source": [
    "We will now define a few additional variables. "
   ]
  },
  {
   "cell_type": "code",
   "execution_count": 13,
   "metadata": {},
   "outputs": [
    {
     "name": "stderr",
     "output_type": "stream",
     "text": [
      "/home/stan/Programs/essm/essm/variables/_core.py:89: UserWarning: \"essm.variables.physics.thermodynamics:P_wa\" will be overridden by \"__main__:<class '__main__.P_wa'>\"\n",
      "  instance[expr] = instance\n"
     ]
    }
   ],
   "source": [
    "class P_g(Variable):\n",
    "    \"\"\"Pressure of gas.\"\"\"\n",
    "    unit = pascal\n",
    "\n",
    "class V_g(Variable):\n",
    "    \"\"\"Volume of gas.\"\"\"\n",
    "    unit = meter**3\n",
    "    \n",
    "class n_g(Variable):\n",
    "    \"\"\"Amount of gas.\"\"\"\n",
    "    unit = mole\n",
    "    \n",
    "class n_w(Variable):\n",
    "    \"\"\"Amount of water.\"\"\"\n",
    "    unit = mole\n",
    "\n",
    "class T_g(Variable):\n",
    "    \"\"\"Temperature of gas.\"\"\"\n",
    "    unit = kelvin\n",
    "    \n",
    "class P_wa(Variable):\n",
    "    \"\"\"Partial pressure of water vapour in air.\"\"\"\n",
    "    unit = pascal\n",
    "    latex_name = 'P_{wa}'"
   ]
  },
  {
   "cell_type": "markdown",
   "metadata": {},
   "source": [
    "### Variables with expressions as definitions"
   ]
  },
  {
   "cell_type": "code",
   "execution_count": 14,
   "metadata": {},
   "outputs": [],
   "source": [
    "class Delta_Pwa(Variable):\n",
    "    \"\"\"Slope of saturated vapour pressure, $\\partial P_{wa} / \\partial T_g$\"\"\"\n",
    "    expr = Derivative(P_wa,T_g)\n",
    "    latex_name = r'\\Delta'"
   ]
  },
  {
   "cell_type": "code",
   "execution_count": 15,
   "metadata": {},
   "outputs": [
    {
     "data": {
      "image/png": "[encoded data removed]",
      "text/latex": [
       "$\\displaystyle \\frac{\\text{Pa}}{\\text{K}}$"
      ],
      "text/plain": [
       "Pa\n",
       "──\n",
       "K "
      ]
     },
     "execution_count": 15,
     "metadata": {},
     "output_type": "execute_result"
    }
   ],
   "source": [
    "Delta_Pwa.definition.unit"
   ]
  },
  {
   "cell_type": "code",
   "execution_count": 16,
   "metadata": {},
   "outputs": [
    {
     "name": "stdout",
     "output_type": "stream",
     "text": [
      "Derivative(P_wa, T_g)\n"
     ]
    }
   ],
   "source": [
    "print(Delta_Pwa.definition.expr)"
   ]
  },
  {
   "cell_type": "code",
   "execution_count": 17,
   "metadata": {},
   "outputs": [
    {
     "data": {
      "text/html": [
       "<table><tr><td>Symbol</td><td>Name</td><td>Description</td><td>Definition</td><td>Default value</td><td>Units</td></tr><tr><td>$\\Delta$</td><td>Delta_Pwa</td><td>Slope of saturated vapour pressure, $\\partial P_{wa} / \\partial T_g$</td><td>$\\frac{d}{d T_g} P_{wa}$</td><td>-</td><td>Pa K$^{-1}$</td></tr></table>"
      ],
      "text/plain": [
       "[('Symbol', 'Name', 'Description', 'Definition', 'Default value', 'Units'),\n",
       " ('$\\\\Delta$',\n",
       "  'Delta_Pwa',\n",
       "  'Slope of saturated vapour pressure, $\\\\partial P_{wa} / \\\\partial T_g$',\n",
       "  '$\\\\frac{d}{d T_g} P_{wa}$',\n",
       "  '-',\n",
       "  'Pa K$^{-1}$')]"
      ]
     },
     "execution_count": 17,
     "metadata": {},
     "output_type": "execute_result"
    }
   ],
   "source": [
    "generate_metadata_table([Delta_Pwa])"
   ]
  },
  {
   "cell_type": "markdown",
   "metadata": {},
   "source": [
    "### Linking assumptions to variables\n",
    "We can specify if a given variable is a complex, real, integer etc. by using the `assumptions` property during variable definition:"
   ]
  },
  {
   "cell_type": "code",
   "execution_count": 18,
   "metadata": {},
   "outputs": [
    {
     "name": "stdout",
     "output_type": "stream",
     "text": [
      "[1]\n"
     ]
    }
   ],
   "source": [
    "class x(Variable):\n",
    "     \"\"\"Positive real variable.\"\"\"  \n",
    "     assumptions = {'positive': True, 'real': True}\n",
    "\n",
    "print(solve(x**2 - 1))"
   ]
  },
  {
   "cell_type": "markdown",
   "metadata": {},
   "source": [
    "## Creating new equations\n",
    "Equations have a left hand side and a right hand side and if they contain variables with units, the units of each addend must be the same.\n",
    "\n",
    "### Custom equation\n",
    "To create custom equations, first import `Equation`:"
   ]
  },
  {
   "cell_type": "code",
   "execution_count": 19,
   "metadata": {},
   "outputs": [],
   "source": [
    "from essm.equations import Equation"
   ]
  },
  {
   "cell_type": "markdown",
   "metadata": {},
   "source": [
    "We will now define an equation representing the ideal gas law, based on the variables defined above:"
   ]
  },
  {
   "cell_type": "code",
   "execution_count": 20,
   "metadata": {},
   "outputs": [],
   "source": [
    "class eq_ideal_gas_law(Equation):\n",
    "    \"\"\"Ideal gas law.\"\"\"\n",
    "    \n",
    "    expr = Eq(P_g*V_g, n_g*R_mol*T_g)"
   ]
  },
  {
   "cell_type": "markdown",
   "metadata": {},
   "source": [
    "Note that whenever an equation is defined, its units are checked for consistency in the background and if they are not consistent, an error message will be printed. To illustrate this, we will try to define the above equation again, but omit temperature on the right hand side:"
   ]
  },
  {
   "cell_type": "code",
   "execution_count": 21,
   "metadata": {},
   "outputs": [
    {
     "name": "stdout",
     "output_type": "stream",
     "text": [
      "Dimension of \"R_mol*n_g\" is Dimension(length**2*mass/(temperature*time**2)), but it should be the same as P_g*V_g, i.e. Dimension(length**2*mass/time**2)\n"
     ]
    }
   ],
   "source": [
    "try:\n",
    "    class eq_ideal_gas_law(Equation):\n",
    "        \"\"\"Ideal gas law.\"\"\"\n",
    "\n",
    "        expr = Eq(P_g*V_g, n_g*R_mol)\n",
    "except Exception as exc1:\n",
    "    print(exc1)"
   ]
  },
  {
   "cell_type": "markdown",
   "metadata": {},
   "source": [
    "The equation can be displayed in typesetted form, and the documentation string can be accessed in a similar way as for Variable:"
   ]
  },
  {
   "cell_type": "code",
   "execution_count": 22,
   "metadata": {},
   "outputs": [
    {
     "data": {
      "image/png": "[encoded data removed]",
      "text/latex": [
       "$\\displaystyle P_g V_g = R_{mol} T_g n_g$"
      ],
      "text/plain": [
       "P_g⋅V_g = Rₘₒₗ⋅T_g⋅n_g"
      ]
     },
     "metadata": {},
     "output_type": "display_data"
    },
    {
     "name": "stdout",
     "output_type": "stream",
     "text": [
      "Ideal gas law.\n"
     ]
    }
   ],
   "source": [
    "display(eq_ideal_gas_law)\n",
    "print(eq_ideal_gas_law.__doc__)"
   ]
  },
  {
   "cell_type": "markdown",
   "metadata": {},
   "source": [
    "### New equation based on manipulation of previous equations\n",
    "We can use the above equation just as any Sympy expression, and e.g. solve it for pressure:"
   ]
  },
  {
   "cell_type": "code",
   "execution_count": 23,
   "metadata": {},
   "outputs": [
    {
     "name": "stdout",
     "output_type": "stream",
     "text": [
      "[{P_g: R_mol*T_g*n_g/V_g}]\n"
     ]
    }
   ],
   "source": [
    "soln = solve(eq_ideal_gas_law, P_g, dict=True); print(soln)"
   ]
  },
  {
   "cell_type": "markdown",
   "metadata": {},
   "source": [
    "If we want to define a new equation based on a manipulation of eq_ideal_gas_law we can specify that the parent of the new equation is `eq_ideal_gas_law.definition`:"
   ]
  },
  {
   "cell_type": "code",
   "execution_count": 24,
   "metadata": {},
   "outputs": [
    {
     "data": {
      "image/png": "[encoded data removed]",
      "text/latex": [
       "$\\displaystyle P_g = \\frac{R_{mol} T_g n_g}{V_g}$"
      ],
      "text/plain": [
       "      Rₘₒₗ⋅T_g⋅n_g\n",
       "P_g = ────────────\n",
       "          V_g     "
      ]
     },
     "execution_count": 24,
     "metadata": {},
     "output_type": "execute_result"
    }
   ],
   "source": [
    "class eq_Pg(eq_ideal_gas_law.definition):\n",
    "    \"\"\"Calculate pressure of ideal gas.\"\"\"\n",
    "    \n",
    "    expr = Eq(P_g, soln[0][P_g])\n",
    "eq_Pg"
   ]
  },
  {
   "cell_type": "markdown",
   "metadata": {},
   "source": [
    "We can also have nested inheritance, if we now define another equation based on eq_Pg:"
   ]
  },
  {
   "cell_type": "code",
   "execution_count": 25,
   "metadata": {},
   "outputs": [
    {
     "data": {
      "image/png": "[encoded data removed]",
      "text/latex": [
       "$\\displaystyle P_{wa} = \\frac{R_{mol} T_g n_w}{V_g}$"
      ],
      "text/plain": [
       "       Rₘₒₗ⋅T_g⋅n_w\n",
       "P_wa = ────────────\n",
       "           V_g     "
      ]
     },
     "execution_count": 25,
     "metadata": {},
     "output_type": "execute_result"
    }
   ],
   "source": [
    "class eq_Pwa_nw(eq_Pg.definition):\n",
    "    \"\"\"Calculate vapour pressure from amount of water in gas.\"\"\"\n",
    "    \n",
    "    expr = Eq(P_wa, eq_Pg.rhs.subs(n_g, n_w))\n",
    "eq_Pwa_nw"
   ]
  },
  {
   "cell_type": "markdown",
   "metadata": {},
   "source": [
    "### Show inheritance of equations\n",
    "To see the inheritance (what other equations it depends on) of the newly created equation:"
   ]
  },
  {
   "cell_type": "code",
   "execution_count": 26,
   "metadata": {},
   "outputs": [
    {
     "data": {
      "text/plain": [
       "(__main__.eq_Pg,)"
      ]
     },
     "execution_count": 26,
     "metadata": {},
     "output_type": "execute_result"
    }
   ],
   "source": [
    "eq_Pwa_nw.definition.__bases__"
   ]
  },
  {
   "cell_type": "code",
   "execution_count": 27,
   "metadata": {},
   "outputs": [
    {
     "data": {
      "text/plain": [
       "['eq_Pg']"
      ]
     },
     "execution_count": 27,
     "metadata": {},
     "output_type": "execute_result"
    }
   ],
   "source": [
    "[parent.name for parent in eq_Pwa_nw.definition.__bases__]"
   ]
  },
  {
   "cell_type": "code",
   "execution_count": 28,
   "metadata": {},
   "outputs": [
    {
     "data": {
      "image/png": "[encoded data removed]",
      "text/latex": [
       "$\\displaystyle \\left[ P_g = \\frac{R_{mol} T_g n_g}{V_g}\\right]$"
      ],
      "text/plain": [
       "⎡      Rₘₒₗ⋅T_g⋅n_g⎤\n",
       "⎢P_g = ────────────⎥\n",
       "⎣          V_g     ⎦"
      ]
     },
     "execution_count": 28,
     "metadata": {},
     "output_type": "execute_result"
    }
   ],
   "source": [
    "[parent.expr for parent in eq_Pwa_nw.definition.__bases__]"
   ]
  },
  {
   "cell_type": "markdown",
   "metadata": {},
   "source": [
    "We can also use a pre-defined function to extract the set of parents:"
   ]
  },
  {
   "cell_type": "code",
   "execution_count": 29,
   "metadata": {},
   "outputs": [
    {
     "data": {
      "text/plain": [
       "{'eq_Pg'}"
      ]
     },
     "execution_count": 29,
     "metadata": {},
     "output_type": "execute_result"
    }
   ],
   "source": [
    "from essm.variables.utils import get_parents\n",
    "get_parents(eq_Pwa_nw)"
   ]
  },
  {
   "cell_type": "markdown",
   "metadata": {},
   "source": [
    "We can use another function to get all parents recursively:"
   ]
  },
  {
   "cell_type": "code",
   "execution_count": 30,
   "metadata": {},
   "outputs": [
    {
     "data": {
      "text/plain": [
       "{'eq_Pg', 'eq_ideal_gas_law'}"
      ]
     },
     "execution_count": 30,
     "metadata": {},
     "output_type": "execute_result"
    }
   ],
   "source": [
    "from essm.variables.utils import get_allparents\n",
    "get_allparents(eq_Pwa_nw)"
   ]
  },
  {
   "cell_type": "markdown",
   "metadata": {},
   "source": [
    "### Computational burden of deriving equations within class definition\n",
    "If we solve for a variable to derive a new equation, is the solve() command performed every time this equation is used?"
   ]
  },
  {
   "cell_type": "code",
   "execution_count": 31,
   "metadata": {},
   "outputs": [
    {
     "name": "stdout",
     "output_type": "stream",
     "text": [
      "[{P_g: R_mol*T_g*n_g/V_g}]\n"
     ]
    },
    {
     "name": "stderr",
     "output_type": "stream",
     "text": [
      "/home/stan/Programs/essm/essm/equations/_core.py:107: UserWarning: \"__main__:eq_Pg\" will be overridden by \"__main__:<class '__main__.eq_Pg1'>\"\n",
      "  instance[expr] = instance\n"
     ]
    },
    {
     "data": {
      "image/png": "[encoded data removed]",
      "text/latex": [
       "$\\displaystyle P_g = \\frac{R_{mol} T_g n_g}{V_g}$"
      ],
      "text/plain": [
       "      Rₘₒₗ⋅T_g⋅n_g\n",
       "P_g = ────────────\n",
       "          V_g     "
      ]
     },
     "execution_count": 31,
     "metadata": {},
     "output_type": "execute_result"
    }
   ],
   "source": [
    "class eq_Pg1(eq_ideal_gas_law.definition):\n",
    "    \"\"\"Calculate pressure of ideal gas.\"\"\"\n",
    "    from sympy import solve\n",
    "    soln = solve(eq_ideal_gas_law, P_g, dict=True); print(soln)\n",
    "    expr = Eq(P_g, soln[0][P_g])\n",
    "eq_Pg1"
   ]
  },
  {
   "cell_type": "code",
   "execution_count": 32,
   "metadata": {},
   "outputs": [
    {
     "name": "stdout",
     "output_type": "stream",
     "text": [
      "CPU times: user 1 µs, sys: 0 ns, total: 1 µs\n",
      "Wall time: 4.29 µs\n"
     ]
    },
    {
     "data": {
      "image/png": "[encoded data removed]",
      "text/latex": [
       "$\\displaystyle P_g = 249.42$"
      ],
      "text/plain": [
       "P_g = 249.42"
      ]
     },
     "execution_count": 32,
     "metadata": {},
     "output_type": "execute_result"
    }
   ],
   "source": [
    "%time\n",
    "eq_Pg.subs({R_mol: 8.314, T_g: 300, n_g: 0.1, V_g: 1})"
   ]
  },
  {
   "cell_type": "code",
   "execution_count": 33,
   "metadata": {},
   "outputs": [
    {
     "name": "stdout",
     "output_type": "stream",
     "text": [
      "CPU times: user 3 µs, sys: 1e+03 ns, total: 4 µs\n",
      "Wall time: 5.25 µs\n"
     ]
    },
    {
     "data": {
      "image/png": "[encoded data removed]",
      "text/latex": [
       "$\\displaystyle P_g = 249.42$"
      ],
      "text/plain": [
       "P_g = 249.42"
      ]
     },
     "execution_count": 33,
     "metadata": {},
     "output_type": "execute_result"
    }
   ],
   "source": [
    "%time\n",
    "eq_Pg1.subs({R_mol: 8.314, T_g: 300, n_g: 0.1, V_g: 1})"
   ]
  },
  {
   "cell_type": "markdown",
   "metadata": {},
   "source": [
    "There is actually no difference!"
   ]
  },
  {
   "cell_type": "markdown",
   "metadata": {},
   "source": [
    "### Empirical equations with internal variables\n",
    "Empirical equations not only contain variables but also numbers. As an example, we will try to define the Clausius-Clapeyron equation for saturation vapour pressure in the following example, after defining a few additional variables used in this equation.\n",
    "$$ P_{wa} = 611 e^\\frac{-M_w \\lambda_E (1/T_g - 1/273)}{R_{mol}}$$\n"
   ]
  },
  {
   "cell_type": "code",
   "execution_count": 34,
   "metadata": {},
   "outputs": [
    {
     "name": "stderr",
     "output_type": "stream",
     "text": [
      "/home/stan/Programs/essm/essm/variables/_core.py:89: UserWarning: \"essm.variables.physics.thermodynamics:lambda_E\" will be overridden by \"__main__:<class '__main__.lambda_E'>\"\n",
      "  instance[expr] = instance\n",
      "/home/stan/Programs/essm/essm/variables/_core.py:89: UserWarning: \"essm.variables.physics.thermodynamics:M_w\" will be overridden by \"__main__:<class '__main__.M_w'>\"\n",
      "  instance[expr] = instance\n"
     ]
    }
   ],
   "source": [
    "from sympy.physics.units import joule, kilogram\n",
    "class lambda_E(Variable):\n",
    "    \"\"\"Latent heat of evaporation.\"\"\"\n",
    "    unit = joule/kilogram\n",
    "    latex_name = '\\\\lambda_E'\n",
    "    default = 2.45e6   \n",
    "\n",
    "class M_w(Variable):\n",
    "    \"\"\"Molar mass of water.\"\"\"\n",
    "    unit = kilogram/mole\n",
    "    default = 0.018"
   ]
  },
  {
   "cell_type": "code",
   "execution_count": 35,
   "metadata": {},
   "outputs": [
    {
     "name": "stdout",
     "output_type": "stream",
     "text": [
      "Dimension of \"1/T_g\" is Dimension(1/temperature), but it should be the same as -0.00366300366300366, i.e. Dimension(1)\n"
     ]
    }
   ],
   "source": [
    "from sympy import exp\n",
    "try:\n",
    "    class eq_Pwa_CC(Equation):\n",
    "        \"\"\"Clausius-Clapeyron P_wa as function of T_g.\n",
    "\n",
    "        \\cite[Eq. B3]{hartmann_global_1994}\n",
    "        \"\"\"\n",
    "\n",
    "        expr = Eq(P_wa, 611.*exp(-M_w*lambda_E*(1/T_g - 1/273.)/R_mol))\n",
    "except Exception as exc1:\n",
    "    print(exc1)"
   ]
  },
  {
   "cell_type": "markdown",
   "metadata": {},
   "source": [
    "The unit mismatch reported in the error message stems from the fact that the numbers in the empirical equation actually need units. Since the term in the exponent has to be non-dimensional, the units of `611` must be the same as those of `P_wa`, i.e. pascal. The units of the subtraction term in the exponent must match, meaning that `273` needs units of kelvin. To avoid the error message, we can define the empirical numbers as internal variables to the equation we want to define:"
   ]
  },
  {
   "cell_type": "code",
   "execution_count": 36,
   "metadata": {},
   "outputs": [],
   "source": [
    "class eq_Pwa_CC(Equation):\n",
    "    \"\"\"Clausius-Clapeyron P_wa as function of T_g.\n",
    "\n",
    "    Eq. B3 in :cite{hartmann_global_1994}\n",
    "    \"\"\"\n",
    "        \n",
    "    class p_CC1(Variable):\n",
    "        \"\"\"Internal parameter of eq_Pwl.\"\"\"\n",
    "        unit = pascal\n",
    "        latex_name = '611'\n",
    "        default = 611.   \n",
    "    \n",
    "    \n",
    "    \n",
    "    class p_CC2(Variable):\n",
    "        \"\"\"Internal parameter of eq_Pwl.\"\"\"\n",
    "        unit = kelvin\n",
    "        latex_name = '273'\n",
    "        default = 273.   \n",
    "    \n",
    "    expr = Eq(P_wa, p_CC1*exp(-M_w*lambda_E*(1/T_g - 1/p_CC2)/R_mol))"
   ]
  },
  {
   "cell_type": "markdown",
   "metadata": {},
   "source": [
    "In the above, we defined the latex representation of the empirical constants as their actual values, so the equation displays in the familiar way:"
   ]
  },
  {
   "cell_type": "code",
   "execution_count": 37,
   "metadata": {},
   "outputs": [
    {
     "data": {
      "image/png": "[encoded data removed]",
      "text/latex": [
       "$\\displaystyle P_{wa} = 611 e^{- \\frac{M_w \\lambda_E \\left(- \\frac{1}{273} + \\frac{1}{T_g}\\right)}{R_{mol}}}$"
      ],
      "text/plain": [
       "                       ⎛    1      1 ⎞ \n",
       "              -M_w⋅λ_E⋅⎜- ───── + ───⎟ \n",
       "                       ⎝  p_CC2   T_g⎠ \n",
       "              ─────────────────────────\n",
       "                         Rₘₒₗ          \n",
       "P_wa = p_CC1⋅ℯ                         "
      ]
     },
     "execution_count": 37,
     "metadata": {},
     "output_type": "execute_result"
    }
   ],
   "source": [
    "eq_Pwa_CC"
   ]
  },
  {
   "cell_type": "markdown",
   "metadata": {},
   "source": [
    "All default values of variables defined along with the variable definitions are stored in a dictionary that can be accessed as `Variable.__defaults__`. We can substitute the values from this dictionary into our empirical equation to plot saturation vapour pressure as a function of temperature:"
   ]
  },
  {
   "cell_type": "code",
   "execution_count": 38,
   "metadata": {},
   "outputs": [
    {
     "name": "stdout",
     "output_type": "stream",
     "text": [
      "Eq(P_wa, 167405731976.232*exp(-5304.00487246815/T_g))\n"
     ]
    },
    {
     "data": {
      "image/png": "[encoded data removed]",
      "text/plain": [
       "<Figure size 432x288 with 1 Axes>"
      ]
     },
     "metadata": {
      "needs_background": "light"
     },
     "output_type": "display_data"
    }
   ],
   "source": [
    "expr = eq_Pwa_CC.subs(Variable.__defaults__)\n",
    "print(expr)\n",
    "xvar = T_g\n",
    "p = plot_expr2((xvar, 273, 373), expr)"
   ]
  },
  {
   "cell_type": "markdown",
   "metadata": {},
   "source": [
    "### Piecewise defined equations"
   ]
  },
  {
   "cell_type": "code",
   "execution_count": 39,
   "metadata": {},
   "outputs": [
    {
     "data": {
      "image/png": "[encoded data removed]",
      "text/latex": [
       "$\\displaystyle P_{wa} = \\begin{cases} 0 & \\text{for}\\: T_a < 0 \\\\611 e^{- \\frac{M_w \\lambda_E \\left(- \\frac{1}{273} + \\frac{1}{T_g}\\right)}{R_{mol}}} & \\text{otherwise} \\end{cases}$"
      ],
      "text/plain": [
       "       ⎧               0                  for Tₐ < 0\n",
       "       ⎪                                            \n",
       "       ⎪                ⎛    1      1 ⎞             \n",
       "       ⎪       -M_w⋅λ_E⋅⎜- ───── + ───⎟             \n",
       "P_wa = ⎨                ⎝  p_CC2   T_g⎠             \n",
       "       ⎪       ─────────────────────────            \n",
       "       ⎪                  Rₘₒₗ                      \n",
       "       ⎪p_CC1⋅ℯ                           otherwise \n",
       "       ⎩                                            "
      ]
     },
     "execution_count": 39,
     "metadata": {},
     "output_type": "execute_result"
    }
   ],
   "source": [
    "from sympy import Piecewise\n",
    "expr = Eq(P_wa, Piecewise((0, T_a < 0), (eq_Pwa_CC.rhs, T_a >= 0)))\n",
    "expr"
   ]
  },
  {
   "cell_type": "code",
   "execution_count": 40,
   "metadata": {},
   "outputs": [
    {
     "data": {
      "image/png": "[encoded data removed]",
      "text/latex": [
       "$\\displaystyle P_{wa} = \\begin{cases} 0 & \\text{for}\\: T_a < 0 \\\\611 e^{- \\frac{M_w \\lambda_E \\left(- \\frac{1}{273} + \\frac{1}{T_g}\\right)}{R_{mol}}} & \\text{otherwise} \\end{cases}$"
      ],
      "text/plain": [
       "       ⎧               0                  for Tₐ < 0\n",
       "       ⎪                                            \n",
       "       ⎪                ⎛    1      1 ⎞             \n",
       "       ⎪       -M_w⋅λ_E⋅⎜- ───── + ───⎟             \n",
       "P_wa = ⎨                ⎝  p_CC2   T_g⎠             \n",
       "       ⎪       ─────────────────────────            \n",
       "       ⎪                  Rₘₒₗ                      \n",
       "       ⎪p_CC1⋅ℯ                           otherwise \n",
       "       ⎩                                            "
      ]
     },
     "metadata": {},
     "output_type": "display_data"
    }
   ],
   "source": [
    "try:\n",
    "    class eq1(Equation):\n",
    "         \"\"\"Test\"\"\"\n",
    "         expr = Eq(P_wa, Piecewise((0, T_a < 0), (eq_Pwa_CC.rhs, T_a >= 0)))\n",
    "    display(eq1)\n",
    "except Exception as e1:\n",
    "    print(e1)"
   ]
  },
  {
   "cell_type": "markdown",
   "metadata": {},
   "source": [
    "**If the above returns a dimension error, then unit checking for `Piecewise` has not been implemented yet.**"
   ]
  },
  {
   "cell_type": "markdown",
   "metadata": {},
   "source": [
    "## Substituting into integrals and derivatives and evaluating\n",
    "Above, we defined `Delta_Pwa` as a variable that represents the partial derivative of `P_wa` with respect to `T_g`:\n",
    "```\n",
    "class Delta_Pwa(Variable):\n",
    "    \"\"\"Slope of saturated vapour pressure, $\\partial P_{ws} / \\partial T_g\"\"\"\n",
    "    expr = P_wa(T_g).diff(T_g)\n",
    "    #unit = pascal/kelvin\n",
    "    latex_name = r'\\Delta'\n",
    "```\n",
    "This definition can be accessed by typing `Delta_Pwa.definition.expr`. Example:"
   ]
  },
  {
   "cell_type": "code",
   "execution_count": 41,
   "metadata": {},
   "outputs": [
    {
     "name": "stdout",
     "output_type": "stream",
     "text": [
      "Derivative(P_wa, T_g)\n"
     ]
    },
    {
     "data": {
      "image/png": "[encoded data removed]",
      "text/latex": [
       "$\\displaystyle \\Delta = \\frac{d}{d T_g} P_{wa}$"
      ],
      "text/plain": [
       "         d        \n",
       "Δ_Pwa = ────(P_wa)\n",
       "        dT_g      "
      ]
     },
     "metadata": {},
     "output_type": "display_data"
    }
   ],
   "source": [
    "print(Delta_Pwa.definition.expr)\n",
    "display(Eq(Delta_Pwa, Delta_Pwa.definition.expr))"
   ]
  },
  {
   "cell_type": "markdown",
   "metadata": {},
   "source": [
    "We also defined the Clausius-Clapeyron approximation to $P_{wa}(T_g)$ as `eq_Pwa_CC`. "
   ]
  },
  {
   "cell_type": "code",
   "execution_count": 42,
   "metadata": {},
   "outputs": [
    {
     "data": {
      "image/png": "[encoded data removed]",
      "text/latex": [
       "$\\displaystyle P_{wa} = 611 e^{- \\frac{M_w \\lambda_E \\left(- \\frac{1}{273} + \\frac{1}{T_g}\\right)}{R_{mol}}}$"
      ],
      "text/plain": [
       "                       ⎛    1      1 ⎞ \n",
       "              -M_w⋅λ_E⋅⎜- ───── + ───⎟ \n",
       "                       ⎝  p_CC2   T_g⎠ \n",
       "              ─────────────────────────\n",
       "                         Rₘₒₗ          \n",
       "P_wa = p_CC1⋅ℯ                         "
      ]
     },
     "metadata": {},
     "output_type": "display_data"
    },
    {
     "name": "stdout",
     "output_type": "stream",
     "text": [
      "Clausius-Clapeyron P_wa as function of T_g.\n",
      "\n",
      "    Eq. B3 in :cite{hartmann_global_1994}\n",
      "    \n"
     ]
    }
   ],
   "source": [
    "display(eq_Pwa_CC)\n",
    "print(eq_Pwa_CC.__doc__)"
   ]
  },
  {
   "cell_type": "markdown",
   "metadata": {},
   "source": [
    "If we want to substitute this approximation into `Delta_Pwa.definition.expr`, we need to use `replace` instead of `subs` and evaluate the derivative using `doit()`:"
   ]
  },
  {
   "cell_type": "code",
   "execution_count": 43,
   "metadata": {},
   "outputs": [
    {
     "data": {
      "image/png": "[encoded data removed]",
      "text/latex": [
       "$\\displaystyle \\Delta = \\frac{M_w \\lambda_E 611 e^{- \\frac{M_w \\lambda_E \\left(- \\frac{1}{273} + \\frac{1}{T_g}\\right)}{R_{mol}}}}{R_{mol} T_g^{2}}$"
      ],
      "text/plain": [
       "                                ⎛    1      1 ⎞ \n",
       "                       -M_w⋅λ_E⋅⎜- ───── + ───⎟ \n",
       "                                ⎝  p_CC2   T_g⎠ \n",
       "                       ─────────────────────────\n",
       "                                  Rₘₒₗ          \n",
       "        M_w⋅λ_E⋅p_CC1⋅ℯ                         \n",
       "Δ_Pwa = ────────────────────────────────────────\n",
       "                               2                \n",
       "                       Rₘₒₗ⋅T_g                 "
      ]
     },
     "metadata": {},
     "output_type": "display_data"
    },
    {
     "data": {
      "image/png": "[encoded data removed]",
      "text/plain": [
       "<Figure size 432x288 with 1 Axes>"
      ]
     },
     "metadata": {
      "needs_background": "light"
     },
     "output_type": "display_data"
    }
   ],
   "source": [
    "expr = Eq(Delta_Pwa, Delta_Pwa.definition.expr.replace(P_wa, eq_Pwa_CC.rhs).doit())\n",
    "display(expr)\n",
    "p = plot_expr2((T_g, 273, 373), expr.subs(Variable.__defaults__))"
   ]
  },
  {
   "cell_type": "markdown",
   "metadata": {},
   "source": [
    "If we only had the slope of the curve, we could take the integral to get the absolute value:"
   ]
  },
  {
   "cell_type": "code",
   "execution_count": 44,
   "metadata": {},
   "outputs": [
    {
     "data": {
      "image/png": "[encoded data removed]",
      "text/latex": [
       "$\\displaystyle P_{wa} = P_{wa1} + \\int\\limits_{T_{a1}}^{T_{a2}} \\Delta\\, dT_g$"
      ],
      "text/plain": [
       "               Tₐ₂             \n",
       "                ⌠              \n",
       "P_wa = P_wa1 +  ⎮  Δ_Pwa d(T_g)\n",
       "                ⌡              \n",
       "               Tₐ₁             "
      ]
     },
     "metadata": {},
     "output_type": "display_data"
    }
   ],
   "source": [
    "from sympy import Integral\n",
    "class T_a1(Variable):\n",
    "    \"\"\"Air temperature\"\"\"\n",
    "    unit = kelvin\n",
    "    latex_name = r'T_{a1}'\n",
    "    \n",
    "class T_a2(Variable):\n",
    "    \"\"\"Air temperature\"\"\"\n",
    "    unit = kelvin\n",
    "    latex_name = r'T_{a2}'\n",
    "    \n",
    "class P_wa1(Variable):\n",
    "    \"\"\"P_wa at T1\"\"\"\n",
    "    unit = pascal\n",
    "    latex_name = r'P_{wa1}'\n",
    "    \n",
    "class eq_Pwa_Delta(Equation):\n",
    "    \"\"\"P_wa deduced from the integral of Delta\"\"\"\n",
    "    expr = Eq(P_wa, P_wa1 + Integral(Delta_Pwa, (T_g, T_a1, T_a2)))\n",
    "display(eq_Pwa_Delta)"
   ]
  },
  {
   "cell_type": "code",
   "execution_count": 45,
   "metadata": {},
   "outputs": [
    {
     "data": {
      "image/png": "[encoded data removed]",
      "text/latex": [
       "$\\displaystyle P_{wa} = 167405731976.232 e^{- \\frac{5304.00487246815}{T_{a2}}}$"
      ],
      "text/plain": [
       "                         -5304.00487246815 \n",
       "                         ──────────────────\n",
       "                                Tₐ₂        \n",
       "P_wa = 167405731976.232⋅ℯ                  "
      ]
     },
     "metadata": {},
     "output_type": "display_data"
    },
    {
     "data": {
      "image/png": "[encoded data removed]",
      "text/plain": [
       "<Figure size 432x288 with 1 Axes>"
      ]
     },
     "metadata": {
      "needs_background": "light"
     },
     "output_type": "display_data"
    }
   ],
   "source": [
    "expr_Delta = eq_Pwa_CC.rhs.diff(T_g)\n",
    "expr = Eq(P_wa, eq_Pwa_Delta.rhs.replace(Delta_Pwa, expr_Delta).doit())\n",
    "vdict = Variable.__defaults__.copy()\n",
    "vdict[T_a1] = 273.\n",
    "vdict[P_wa1] = eq_Pwa_CC.rhs.subs(T_g, T_a1).subs(vdict)\n",
    "display(expr.subs(vdict))\n",
    "p = plot_expr2((T_a2, 273, 373), expr.subs(vdict))"
   ]
  },
  {
   "cell_type": "markdown",
   "metadata": {},
   "source": [
    "## Unit conversions\n",
    "Values for variables are often given in obscure units, but to convert to our standard units, we can use the dictionary `SI_EXTENDED_DIMENSIONS`:"
   ]
  },
  {
   "cell_type": "code",
   "execution_count": 46,
   "metadata": {},
   "outputs": [
    {
     "name": "stdout",
     "output_type": "stream",
     "text": [
      "0.3*inch/hour\n",
      "2.11666666666667e-6*m/s\n"
     ]
    }
   ],
   "source": [
    "from sympy.physics.units import atm, bar, convert_to, kilo, mega, joule, kilogram, meter, second, inch, hour\n",
    "from essm.variables.units import SI_EXTENDED_DIMENSIONS, SI_EXTENDED_UNITS\n",
    "value1 = 0.3\n",
    "unit1 = inch/hour\n",
    "print(value1*unit1)\n",
    "unit2 = Variable.get_dimensional_expr(unit1).subs(SI_EXTENDED_DIMENSIONS)\n",
    "print(convert_to(value1*unit1, unit2))"
   ]
  },
  {
   "cell_type": "markdown",
   "metadata": {},
   "source": [
    "**Note that when you define an equation, essm only tests for the consistent dimensions, not units, i.e. it will not complain if you sum e.g. a variable with the unit of bar\n",
    "and a variable with the unit of pascal:**"
   ]
  },
  {
   "cell_type": "code",
   "execution_count": 47,
   "metadata": {},
   "outputs": [
    {
     "data": {
      "image/png": "[encoded data removed]",
      "text/latex": [
       "$\\displaystyle P_{wa} = P_{wa,atm} + P_{wa,bar}$"
      ],
      "text/plain": [
       "P_wa = P_wa_atm + P_wa_bar"
      ]
     },
     "metadata": {},
     "output_type": "display_data"
    }
   ],
   "source": [
    "class P_wa_bar(Variable):\n",
    "    \"\"\"P_wa in bar\"\"\"\n",
    "    unit = bar\n",
    "    latex_name = r'P_{wa,bar}'\n",
    "    \n",
    "class P_wa_atm(Variable):\n",
    "    \"\"\"P_wa in atm\"\"\"\n",
    "    unit = atm\n",
    "    latex_name = r'P_{wa,atm}'\n",
    "    \n",
    "try:\n",
    "    class eq_Pwa_bar_atm(Equation):\n",
    "        \"\"\"Test equation using variables with same dimensions but different units\"\"\"\n",
    "        expr = Eq(P_wa, P_wa_atm + P_wa_bar)\n",
    "    display(eq_Pwa_bar_atm)\n",
    "except Exception as e1:\n",
    "    print(e1)"
   ]
  },
  {
   "cell_type": "code",
   "execution_count": 48,
   "metadata": {},
   "outputs": [
    {
     "data": {
      "image/png": "[encoded data removed]",
      "text/latex": [
       "$\\displaystyle P_{wa} = P_{wa1} + P_{wa,bar}$"
      ],
      "text/plain": [
       "P_wa = P_wa1 + P_wa_bar"
      ]
     },
     "metadata": {},
     "output_type": "display_data"
    }
   ],
   "source": [
    "try:\n",
    "    class eq_Pwab_Pwa(Equation):\n",
    "        \"\"\"Test equation using variables with same dimensions but different units\"\"\"\n",
    "        expr = Eq(P_wa, P_wa1 + P_wa_bar)\n",
    "    display(eq_Pwab_Pwa)\n",
    "except Exception as e1:\n",
    "    print(e1)\n",
    "    "
   ]
  },
  {
   "cell_type": "markdown",
   "metadata": {},
   "source": [
    "Therefore, it is best practice to define all variables in standard SI units and do the conversion during data input or plotting."
   ]
  },
  {
   "cell_type": "code",
   "execution_count": 49,
   "metadata": {},
   "outputs": [
    {
     "name": "stdout",
     "output_type": "stream",
     "text": [
      "101325*Pa\n",
      "100000*Pa\n"
     ]
    }
   ],
   "source": [
    "print(convert_to(P_wa_atm.definition.unit, P_wa.definition.unit))\n",
    "print(convert_to(P_wa_bar.definition.unit, P_wa.definition.unit))"
   ]
  },
  {
   "cell_type": "markdown",
   "metadata": {},
   "source": [
    "## Exporting definitions\n",
    "The below example creates a file called `test_variable-definitions.py` with all the variable definitions and \n",
    "relevant imports used in this notebook. \n",
    "Then, we re-import all the variables from the newly created file and create another file called\n",
    "`test_equation-definitions.py` with all the equation definitions and relevant imports.\n",
    "To re-use the equations in another notebook, just execute `from test_equation-definitions.py import *`.\n",
    "**Note that it is important to re-import the variables before creating `test_equation-definitions.py`, \n",
    "otherwise the variable imports in `test_equation-definitions.py` may point the local notebook.\n",
    "\n",
    "### Passing additional imports to the writers\n",
    "The `VariableWriter` automatically includes all units contained in the variable definitions,\n",
    "and tries to extract functions from the expressions, but sometimes this does not work,\n",
    "for example in the above example for `Derivative`.\n",
    "Also, if you use combined units, such as e.g. `mega*joule`, their components may not be all included\n",
    "in the imports.\n",
    "\n",
    "Any missing imports have to be passed \n",
    "as `supplementary_imports` to the function, e.g.\n",
    "`supplementary_imports={'sympy': {'Derivative'}}`."
   ]
  },
  {
   "cell_type": "code",
   "execution_count": 50,
   "metadata": {},
   "outputs": [],
   "source": [
    "from essm._generator import EquationWriter, VariableWriter"
   ]
  },
  {
   "cell_type": "code",
   "execution_count": 51,
   "metadata": {},
   "outputs": [],
   "source": [
    "StrPrinter._print_Quantity = lambda self, expr: str(expr.name)    # displays long units (meter instead of m)\n",
    "writer = VariableWriter(docstring='Variables defined in api_features.ipynb and dependencies.',\n",
    "                       supplementary_imports={'sympy': {'Derivative'}})\n",
    "for variable in Variable.__registry__.keys():\n",
    "    writer.var(variable)\n",
    "writer.write('test_variable_definitions.py')\n",
    "StrPrinter._print_Quantity = lambda self, expr: str(expr.abbrev)    # displays short units (m instead of meter)"
   ]
  },
  {
   "cell_type": "code",
   "execution_count": 52,
   "metadata": {},
   "outputs": [
    {
     "name": "stderr",
     "output_type": "stream",
     "text": [
      "/home/stan/Programs/essm/essm/variables/_core.py:89: UserWarning: \"essm.variables.physics.thermodynamics:alpha_a\" will be overridden by \"test_variable_definitions:<class 'test_variable_definitions.alpha_a'>\"\n",
      "  instance[expr] = instance\n",
      "/home/stan/Programs/essm/essm/variables/_core.py:89: UserWarning: \"essm.variables.physics.thermodynamics:c_pa\" will be overridden by \"test_variable_definitions:<class 'test_variable_definitions.c_pa'>\"\n",
      "  instance[expr] = instance\n",
      "/home/stan/Programs/essm/essm/variables/_core.py:89: UserWarning: \"essm.variables.physics.thermodynamics:c_pamol\" will be overridden by \"test_variable_definitions:<class 'test_variable_definitions.c_pamol'>\"\n",
      "  instance[expr] = instance\n",
      "/home/stan/Programs/essm/essm/variables/_core.py:89: UserWarning: \"essm.variables.physics.thermodynamics:c_pv\" will be overridden by \"test_variable_definitions:<class 'test_variable_definitions.c_pv'>\"\n",
      "  instance[expr] = instance\n",
      "/home/stan/Programs/essm/essm/variables/_core.py:89: UserWarning: \"essm.variables.physics.thermodynamics:C_wa\" will be overridden by \"test_variable_definitions:<class 'test_variable_definitions.C_wa'>\"\n",
      "  instance[expr] = instance\n",
      "/home/stan/Programs/essm/essm/variables/_core.py:89: UserWarning: \"essm.variables.physics.thermodynamics:D_va\" will be overridden by \"test_variable_definitions:<class 'test_variable_definitions.D_va'>\"\n",
      "  instance[expr] = instance\n",
      "/home/stan/Programs/essm/essm/variables/_core.py:89: UserWarning: \"essm.variables.physics.thermodynamics:g\" will be overridden by \"test_variable_definitions:<class 'test_variable_definitions.g'>\"\n",
      "  instance[expr] = instance\n",
      "/home/stan/Programs/essm/essm/variables/_core.py:89: UserWarning: \"essm.variables.physics.thermodynamics:Gr\" will be overridden by \"test_variable_definitions:<class 'test_variable_definitions.Gr'>\"\n",
      "  instance[expr] = instance\n",
      "/home/stan/Programs/essm/essm/variables/_core.py:89: UserWarning: \"essm.variables.physics.thermodynamics:h_c\" will be overridden by \"test_variable_definitions:<class 'test_variable_definitions.h_c'>\"\n",
      "  instance[expr] = instance\n",
      "/home/stan/Programs/essm/essm/variables/_core.py:89: UserWarning: \"essm.variables.physics.thermodynamics:k_a\" will be overridden by \"test_variable_definitions:<class 'test_variable_definitions.k_a'>\"\n",
      "  instance[expr] = instance\n",
      "/home/stan/Programs/essm/essm/variables/_core.py:89: UserWarning: \"__main__:lambda_E\" will be overridden by \"test_variable_definitions:<class 'test_variable_definitions.lambda_E'>\"\n",
      "  instance[expr] = instance\n",
      "/home/stan/Programs/essm/essm/variables/_core.py:89: UserWarning: \"essm.variables.physics.thermodynamics:Le\" will be overridden by \"test_variable_definitions:<class 'test_variable_definitions.Le'>\"\n",
      "  instance[expr] = instance\n",
      "/home/stan/Programs/essm/essm/variables/_core.py:89: UserWarning: \"essm.variables.physics.thermodynamics:M_air\" will be overridden by \"test_variable_definitions:<class 'test_variable_definitions.M_air'>\"\n",
      "  instance[expr] = instance\n",
      "/home/stan/Programs/essm/essm/variables/_core.py:89: UserWarning: \"essm.variables.physics.thermodynamics:M_N2\" will be overridden by \"test_variable_definitions:<class 'test_variable_definitions.M_N2'>\"\n",
      "  instance[expr] = instance\n",
      "/home/stan/Programs/essm/essm/variables/_core.py:89: UserWarning: \"essm.variables.physics.thermodynamics:M_O2\" will be overridden by \"test_variable_definitions:<class 'test_variable_definitions.M_O2'>\"\n",
      "  instance[expr] = instance\n",
      "/home/stan/Programs/essm/essm/variables/_core.py:89: UserWarning: \"__main__:M_w\" will be overridden by \"test_variable_definitions:<class 'test_variable_definitions.M_w'>\"\n",
      "  instance[expr] = instance\n",
      "/home/stan/Programs/essm/essm/variables/_core.py:89: UserWarning: \"essm.variables.physics.thermodynamics:nu_a\" will be overridden by \"test_variable_definitions:<class 'test_variable_definitions.nu_a'>\"\n",
      "  instance[expr] = instance\n",
      "/home/stan/Programs/essm/essm/variables/_core.py:89: UserWarning: \"essm.variables.physics.thermodynamics:Nu\" will be overridden by \"test_variable_definitions:<class 'test_variable_definitions.Nu'>\"\n",
      "  instance[expr] = instance\n",
      "/home/stan/Programs/essm/essm/variables/_core.py:89: UserWarning: \"essm.variables.physics.thermodynamics:P_a\" will be overridden by \"test_variable_definitions:<class 'test_variable_definitions.P_a'>\"\n",
      "  instance[expr] = instance\n",
      "/home/stan/Programs/essm/essm/variables/_core.py:89: UserWarning: \"essm.variables.physics.thermodynamics:Pr\" will be overridden by \"test_variable_definitions:<class 'test_variable_definitions.Pr'>\"\n",
      "  instance[expr] = instance\n",
      "/home/stan/Programs/essm/essm/variables/_core.py:89: UserWarning: \"essm.variables.physics.thermodynamics:P_N2\" will be overridden by \"test_variable_definitions:<class 'test_variable_definitions.P_N2'>\"\n",
      "  instance[expr] = instance\n",
      "/home/stan/Programs/essm/essm/variables/_core.py:89: UserWarning: \"essm.variables.physics.thermodynamics:P_O2\" will be overridden by \"test_variable_definitions:<class 'test_variable_definitions.P_O2'>\"\n",
      "  instance[expr] = instance\n",
      "/home/stan/Programs/essm/essm/variables/_core.py:89: UserWarning: \"__main__:P_wa\" will be overridden by \"test_variable_definitions:<class 'test_variable_definitions.P_wa'>\"\n",
      "  instance[expr] = instance\n",
      "/home/stan/Programs/essm/essm/variables/_core.py:89: UserWarning: \"essm.variables.physics.thermodynamics:P_was\" will be overridden by \"test_variable_definitions:<class 'test_variable_definitions.P_was'>\"\n",
      "  instance[expr] = instance\n",
      "/home/stan/Programs/essm/essm/variables/_core.py:89: UserWarning: \"essm.variables.physics.thermodynamics:R_d\" will be overridden by \"test_variable_definitions:<class 'test_variable_definitions.R_d'>\"\n",
      "  instance[expr] = instance\n",
      "/home/stan/Programs/essm/essm/variables/_core.py:89: UserWarning: \"essm.variables.physics.thermodynamics:Re_c\" will be overridden by \"test_variable_definitions:<class 'test_variable_definitions.Re_c'>\"\n",
      "  instance[expr] = instance\n",
      "/home/stan/Programs/essm/essm/variables/_core.py:89: UserWarning: \"essm.variables.physics.thermodynamics:Re\" will be overridden by \"test_variable_definitions:<class 'test_variable_definitions.Re'>\"\n",
      "  instance[expr] = instance\n",
      "/home/stan/Programs/essm/essm/variables/_core.py:89: UserWarning: \"essm.variables.physics.thermodynamics:rho_a\" will be overridden by \"test_variable_definitions:<class 'test_variable_definitions.rho_a'>\"\n",
      "  instance[expr] = instance\n",
      "/home/stan/Programs/essm/essm/variables/_core.py:89: UserWarning: \"essm.variables.physics.thermodynamics:R_u\" will be overridden by \"test_variable_definitions:<class 'test_variable_definitions.R_u'>\"\n",
      "  instance[expr] = instance\n",
      "/home/stan/Programs/essm/essm/variables/_core.py:89: UserWarning: \"__main__:R_mol\" will be overridden by \"test_variable_definitions:<class 'test_variable_definitions.R_mol'>\"\n",
      "  instance[expr] = instance\n",
      "/home/stan/Programs/essm/essm/variables/_core.py:89: UserWarning: \"essm.variables.physics.thermodynamics:R_s\" will be overridden by \"test_variable_definitions:<class 'test_variable_definitions.R_s'>\"\n",
      "  instance[expr] = instance\n",
      "/home/stan/Programs/essm/essm/variables/_core.py:89: UserWarning: \"essm.variables.physics.thermodynamics:sigm\" will be overridden by \"test_variable_definitions:<class 'test_variable_definitions.sigm'>\"\n",
      "  instance[expr] = instance\n",
      "/home/stan/Programs/essm/essm/variables/_core.py:89: UserWarning: \"essm.variables.physics.thermodynamics:T0\" will be overridden by \"test_variable_definitions:<class 'test_variable_definitions.T0'>\"\n",
      "  instance[expr] = instance\n",
      "/home/stan/Programs/essm/essm/variables/_core.py:89: UserWarning: \"essm.variables.physics.thermodynamics:T_a\" will be overridden by \"test_variable_definitions:<class 'test_variable_definitions.T_a'>\"\n",
      "  instance[expr] = instance\n",
      "/home/stan/Programs/essm/essm/variables/_core.py:89: UserWarning: \"essm.variables.physics.thermodynamics:v_w\" will be overridden by \"test_variable_definitions:<class 'test_variable_definitions.v_w'>\"\n",
      "  instance[expr] = instance\n",
      "/home/stan/Programs/essm/essm/variables/_core.py:89: UserWarning: \"essm.variables.physics.thermodynamics:x_N2\" will be overridden by \"test_variable_definitions:<class 'test_variable_definitions.x_N2'>\"\n",
      "  instance[expr] = instance\n",
      "/home/stan/Programs/essm/essm/variables/_core.py:89: UserWarning: \"essm.variables.physics.thermodynamics:x_O2\" will be overridden by \"test_variable_definitions:<class 'test_variable_definitions.x_O2'>\"\n",
      "  instance[expr] = instance\n"
     ]
    },
    {
     "name": "stderr",
     "output_type": "stream",
     "text": [
      "/home/stan/Programs/essm/essm/variables/_core.py:89: UserWarning: \"essm.equations.physics.thermodynamics:p_Dva1\" will be overridden by \"test_variable_definitions:<class 'test_variable_definitions.p_Dva1'>\"\n",
      "  instance[expr] = instance\n",
      "/home/stan/Programs/essm/essm/variables/_core.py:89: UserWarning: \"essm.equations.physics.thermodynamics:p_Dva2\" will be overridden by \"test_variable_definitions:<class 'test_variable_definitions.p_Dva2'>\"\n",
      "  instance[expr] = instance\n",
      "/home/stan/Programs/essm/essm/variables/_core.py:89: UserWarning: \"essm.equations.physics.thermodynamics:p_alpha1\" will be overridden by \"test_variable_definitions:<class 'test_variable_definitions.p_alpha1'>\"\n",
      "  instance[expr] = instance\n",
      "/home/stan/Programs/essm/essm/variables/_core.py:89: UserWarning: \"essm.equations.physics.thermodynamics:p_alpha2\" will be overridden by \"test_variable_definitions:<class 'test_variable_definitions.p_alpha2'>\"\n",
      "  instance[expr] = instance\n",
      "/home/stan/Programs/essm/essm/variables/_core.py:89: UserWarning: \"essm.equations.physics.thermodynamics:p_ka1\" will be overridden by \"test_variable_definitions:<class 'test_variable_definitions.p_ka1'>\"\n",
      "  instance[expr] = instance\n",
      "/home/stan/Programs/essm/essm/variables/_core.py:89: UserWarning: \"essm.equations.physics.thermodynamics:p_ka2\" will be overridden by \"test_variable_definitions:<class 'test_variable_definitions.p_ka2'>\"\n",
      "  instance[expr] = instance\n",
      "/home/stan/Programs/essm/essm/variables/_core.py:89: UserWarning: \"essm.equations.physics.thermodynamics:p_nua1\" will be overridden by \"test_variable_definitions:<class 'test_variable_definitions.p_nua1'>\"\n",
      "  instance[expr] = instance\n",
      "/home/stan/Programs/essm/essm/variables/_core.py:89: UserWarning: \"essm.equations.physics.thermodynamics:p_nua2\" will be overridden by \"test_variable_definitions:<class 'test_variable_definitions.p_nua2'>\"\n",
      "  instance[expr] = instance\n",
      "/home/stan/Programs/essm/essm/variables/_core.py:89: UserWarning: \"__main__:P_g\" will be overridden by \"test_variable_definitions:<class 'test_variable_definitions.P_g'>\"\n",
      "  instance[expr] = instance\n",
      "/home/stan/Programs/essm/essm/variables/_core.py:89: UserWarning: \"__main__:V_g\" will be overridden by \"test_variable_definitions:<class 'test_variable_definitions.V_g'>\"\n",
      "  instance[expr] = instance\n",
      "/home/stan/Programs/essm/essm/variables/_core.py:89: UserWarning: \"__main__:n_g\" will be overridden by \"test_variable_definitions:<class 'test_variable_definitions.n_g'>\"\n",
      "  instance[expr] = instance\n",
      "/home/stan/Programs/essm/essm/variables/_core.py:89: UserWarning: \"__main__:n_w\" will be overridden by \"test_variable_definitions:<class 'test_variable_definitions.n_w'>\"\n",
      "  instance[expr] = instance\n",
      "/home/stan/Programs/essm/essm/variables/_core.py:89: UserWarning: \"__main__:T_g\" will be overridden by \"test_variable_definitions:<class 'test_variable_definitions.T_g'>\"\n",
      "  instance[expr] = instance\n",
      "/home/stan/Programs/essm/essm/variables/_core.py:89: UserWarning: \"__main__:Delta_Pwa\" will be overridden by \"test_variable_definitions:<class 'test_variable_definitions.Delta_Pwa'>\"\n",
      "  instance[expr] = instance\n",
      "/home/stan/Programs/essm/essm/variables/_core.py:89: UserWarning: \"__main__:x\" will be overridden by \"test_variable_definitions:<class 'test_variable_definitions.x'>\"\n",
      "  instance[expr] = instance\n",
      "/home/stan/Programs/essm/essm/variables/_core.py:89: UserWarning: \"__main__:p_CC1\" will be overridden by \"test_variable_definitions:<class 'test_variable_definitions.p_CC1'>\"\n",
      "  instance[expr] = instance\n",
      "/home/stan/Programs/essm/essm/variables/_core.py:89: UserWarning: \"__main__:p_CC2\" will be overridden by \"test_variable_definitions:<class 'test_variable_definitions.p_CC2'>\"\n",
      "  instance[expr] = instance\n",
      "/home/stan/Programs/essm/essm/variables/_core.py:89: UserWarning: \"__main__:T_a1\" will be overridden by \"test_variable_definitions:<class 'test_variable_definitions.T_a1'>\"\n",
      "  instance[expr] = instance\n",
      "/home/stan/Programs/essm/essm/variables/_core.py:89: UserWarning: \"__main__:T_a2\" will be overridden by \"test_variable_definitions:<class 'test_variable_definitions.T_a2'>\"\n",
      "  instance[expr] = instance\n",
      "/home/stan/Programs/essm/essm/variables/_core.py:89: UserWarning: \"__main__:P_wa1\" will be overridden by \"test_variable_definitions:<class 'test_variable_definitions.P_wa1'>\"\n",
      "  instance[expr] = instance\n",
      "/home/stan/Programs/essm/essm/variables/_core.py:89: UserWarning: \"__main__:P_wa_bar\" will be overridden by \"test_variable_definitions:<class 'test_variable_definitions.P_wa_bar'>\"\n",
      "  instance[expr] = instance\n",
      "/home/stan/Programs/essm/essm/variables/_core.py:89: UserWarning: \"__main__:P_wa_atm\" will be overridden by \"test_variable_definitions:<class 'test_variable_definitions.P_wa_atm'>\"\n",
      "  instance[expr] = instance\n"
     ]
    }
   ],
   "source": [
    "from test_variable_definitions import *"
   ]
  },
  {
   "cell_type": "markdown",
   "metadata": {},
   "source": [
    "Since we re-imported names that already had definitions associated with them, we got a warning for each of them before it was overwritten.\n",
    "\n",
    "This tells us that the same variable used before may now have a different meaning, which could introduce inconsistency in the notebook. \n",
    "Here, however, we know that they are all the same. Now that we have re-imported all variables, we can use the `EquationWriter` to generate\n",
    "another python file with all the equations and variables they depend on, as shown below. **The re-import was necessary so that the import statements do not point to `__main__`\n",
    "for locally defined variables.**\n",
    "To avoid all the error messages, one could wrap the import in:\n",
    "```\n",
    "with warnings.catch_warnings():\n",
    "    warnings.simplefilter(\"ignore\")\n",
    "    mod = imp.load_source('test_variable_definitions', 'test_variable_definitions.py')\n",
    "names = getattr(mod, '__all__', [n for n in dir(mod) if not n.startswith('_')])\n",
    "glob = globals()\n",
    "for name in names:\n",
    "    glob[name] = getattr(mod, name)\n",
    "```"
   ]
  },
  {
   "cell_type": "code",
   "execution_count": 54,
   "metadata": {},
   "outputs": [],
   "source": [
    "StrPrinter._print_Quantity = lambda self, expr: str(expr.name)    # displays long units (meter instead of m)\n",
    "writer = EquationWriter(docstring='Equations defined in api_features.ipynb and dependencies.')\n",
    "eqs_with_deps = []\n",
    "for eq in Equation.__registry__.keys():\n",
    "    parents = tuple(get_parents(eq))\n",
    "    if parents == ():\n",
    "        writer.eq(eq)\n",
    "    else:\n",
    "        eqs_with_deps.append(eq) # Equations with dependencies must be at the end\n",
    "for eq in eqs_with_deps:\n",
    "    writer.eq(eq)\n",
    "writer.write('test_equation_definitions.py')    \n",
    "        \n",
    "StrPrinter._print_Quantity = lambda self, expr: str(expr.abbrev)    # displays short units (m instead of meter)"
   ]
  },
  {
   "cell_type": "markdown",
   "metadata": {},
   "source": [
    "These definitions are re-imported in `examples_numerics.ipynb`, where you can also find examples for numerical computations using essm equations and variables."
   ]
  },
  {
   "cell_type": "code",
   "execution_count": 55,
   "metadata": {},
   "outputs": [],
   "source": [
    "StrPrinter._print_Quantity = lambda self, expr: str(expr.name)    # displays long units (meter instead of m)\n",
    "writer = VariableWriter(docstring='Variables defined in api_features.ipynb and dependencies.',\n",
    "                       supplementary_imports={'sympy': {'Derivative'}})\n",
    "for variable in Variable.__registry__.keys():\n",
    "    writer.var(variable)\n",
    "var_writer = writer\n",
    "\n",
    "writer = EquationWriter(docstring='Equations defined in api_features.ipynb and dependencies.')\n",
    "eqs_with_deps = []\n",
    "for eq in Equation.__registry__.keys():\n",
    "    parents = tuple(get_parents(eq))\n",
    "    if parents == ():\n",
    "        writer.eq(eq)\n",
    "    else:\n",
    "        eqs_with_deps.append(eq) # Equations with dependencies must be at the end\n",
    "for eq in eqs_with_deps:\n",
    "    writer.eq(eq)\n",
    "eq_writer = writer"
   ]
  },
  {
   "cell_type": "code",
   "execution_count": null,
   "metadata": {},
   "outputs": [],
   "source": []
  }
 ],
 "metadata": {
  "kernelspec": {
   "display_name": "Python 3",
   "language": "python",
   "name": "python3"
  },
  "language_info": {
   "codemirror_mode": {
    "name": "ipython",
    "version": 3
   },
   "file_extension": ".py",
   "mimetype": "text/x-python",
   "name": "python",
   "nbconvert_exporter": "python",
   "pygments_lexer": "ipython3",
   "version": "3.8.5"
  },
  "nav_menu": {},
  "toc": {
   "base_numbering": 1,
   "nav_menu": {},
   "number_sections": true,
   "sideBar": true,
   "skip_h1_title": false,
   "title_cell": "Table of Contents",
   "title_sidebar": "Contents",
   "toc_cell": false,
   "toc_position": {
    "height": "calc(100% - 180px)",
    "left": "10px",
    "top": "150px",
    "width": "253.977px"
   },
   "toc_section_display": "block",
   "toc_window_display": true
  },
  "toc_position": {
   "height": "991px",
   "left": "0px",
   "right": "888.92px",
   "top": "105px",
   "width": "212px"
  }
 },
 "nbformat": 4,
 "nbformat_minor": 4
}
