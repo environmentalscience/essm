{
 "cells": [
  {
   "cell_type": "markdown",
   "metadata": {},
   "source": [
    "# API examples\n",
    "\n",
    "This jupyter notebook can be found at:\n",
    "[https://github.com/environmentalscience/essm/blob/master/docs/examples/api_features.ipynb](https://github.com/environmentalscience/essm/blob/master/docs/examples/api_features.ipynb)\n",
    "\n",
    "Below, we will import some generic python packages that are used in this notebook:"
   ]
  },
  {
   "cell_type": "code",
   "execution_count": 1,
   "metadata": {},
   "outputs": [
    {
     "data": {
      "text/plain": [
       "'0.4.2.dev2+dirty'"
      ]
     },
     "execution_count": 1,
     "metadata": {},
     "output_type": "execute_result"
    }
   ],
   "source": [
    "# Checking for essm version installed\n",
    "import pkg_resources\n",
    "pkg_resources.get_distribution(\"essm\").version"
   ]
  },
  {
   "cell_type": "code",
   "execution_count": 2,
   "metadata": {},
   "outputs": [],
   "source": [
    "from IPython.display import display\n",
    "from sympy import init_printing, latex\n",
    "init_printing() \n",
    "from sympy.printing import StrPrinter\n",
    "StrPrinter._print_Quantity = lambda self, expr: str(expr.abbrev)    # displays short units (m instead of meter)"
   ]
  },
  {
   "cell_type": "code",
   "execution_count": 3,
   "metadata": {},
   "outputs": [],
   "source": [
    "import scipy as sc\n",
    "# Import various functions from sympy\n",
    "from sympy import Derivative, Eq, exp, log, solve, Symbol\n",
    "from essm.equations import Equation\n",
    "from essm.variables import Variable\n",
    "from essm.variables.utils import ListTable, generate_metadata_table"
   ]
  },
  {
   "cell_type": "markdown",
   "metadata": {},
   "source": [
    "## Importing variables and equations from essm"
   ]
  },
  {
   "cell_type": "code",
   "execution_count": 4,
   "metadata": {},
   "outputs": [],
   "source": [
    "from essm.variables.chamber import *\n",
    "from essm.variables.leaf import *\n",
    "from essm.variables.physics.thermodynamics import *\n",
    "from essm.equations.leaf import * \n",
    "from essm.equations.physics.thermodynamics import *"
   ]
  },
  {
   "cell_type": "markdown",
   "metadata": {},
   "source": [
    "## Plotting\n",
    "Below, we will define a function to make plotting of equations very easy, and then show an example:"
   ]
  },
  {
   "cell_type": "code",
   "execution_count": 5,
   "metadata": {},
   "outputs": [
    {
     "data": {
      "text/plain": [
       "<Figure size 640x480 with 1 Axes>"
      ]
     },
     "execution_count": 5,
     "metadata": {},
     "output_type": "execute_result"
    }
   ],
   "source": [
    "import matplotlib.pyplot as plt\n",
    "from sympy import latex\n",
    "from sympy import N\n",
    "from numpy import arange\n",
    "from essm.variables.units import derive_unit, SI, Quantity\n",
    "from essm.variables.utils import markdown\n",
    "\n",
    "def plot_expr2(xvar_min_max, yldata, yllabel=None, yrdata=None,\n",
    "               yrlabel='', clf=True, npoints=100, ylmin=None, ylmax=None,\n",
    "               yrmin=None, yrmax=None, xlabel=None,\n",
    "               colors=None,\n",
    "               loc_legend_left='best', loc_legend_right='right',\n",
    "               linestylesl=['-', '--', '-.', ':'], \n",
    "               linestylesr=['-', '--', '-.', ':'],\n",
    "               fontsize=None, fontsize_ticks=None, fontsize_labels=None,\n",
    "               fontsize_legend=None,\n",
    "               fig1=None, **args):\n",
    "    '''\n",
    "    Plot expressions as function of xvar from xmin to xmax.\n",
    "    \n",
    "    **Examples:**\n",
    "    \n",
    "    from essm.variables import Variable\n",
    "    from essm.variables.physics.thermodynamics import T_a\n",
    "    from essm.equations.physics.thermodynamics import eq_nua, eq_ka\n",
    "    vdict = Variable.__defaults__.copy()    \n",
    "    expr = eq_nua.subs(vdict)\n",
    "    exprr = eq_ka.subs(vdict)\n",
    "    xvar = T_a\n",
    "    yldata = [(expr.rhs, 'full'), (expr.rhs/2, 'half')]\n",
    "    yrdata = exprr\n",
    "    plot_expr2((T_a, 273, 373), yldata, yllabel = (nu_a), yrdata=yrdata)\n",
    "    plot_expr2((T_a, 273, 373), yldata, yllabel = (nu_a), \n",
    "               yrdata=[(1/exprr.lhs, 1/exprr.rhs)],\n",
    "               loc_legend_right='lower right')\n",
    "    plot_expr2((T_a, 273, 373), expr)\n",
    "    plot_expr2((T_a, 273, 373), yldata, yllabel = (nu_a))\n",
    "    '''\n",
    "    (xvar, xmin, xmax) = xvar_min_max\n",
    "    if not colors:\n",
    "        if yrdata is not None:\n",
    "            colors = ['black', 'blue', 'red', 'green']\n",
    "        else:\n",
    "            colors = ['blue', 'black', 'red', 'green']\n",
    "    if fontsize:\n",
    "        fontsize_labels = fontsize\n",
    "        fontsize_legend = fontsize\n",
    "        fontsize_ticks = fontsize\n",
    "    if not fig1:\n",
    "        plt.close\n",
    "        plt.clf\n",
    "        fig = plt.figure(**args)\n",
    "    else: \n",
    "        fig = fig1\n",
    "    if hasattr(xvar, 'definition'): \n",
    "        unit1 = derive_unit(xvar)\n",
    "        if unit1 != 1:\n",
    "            strunit = ' (' + markdown(unit1) + ')'\n",
    "        else: \n",
    "            strunit = ''\n",
    "        if not xlabel:\n",
    "            xlabel = '$'+latex(xvar)+'$'+ strunit\n",
    "    else: \n",
    "        if not xlabel:\n",
    "            xlabel = xvar\n",
    "    if hasattr(yldata, 'lhs'):\n",
    "        yldata = (yldata.rhs, yldata.lhs)\n",
    "    if not yllabel:\n",
    "        if type(yldata) is tuple:\n",
    "            yllabel = yldata[1]\n",
    "        else:\n",
    "            try: \n",
    "                yllabel = yldata[0][1]\n",
    "            except Exception as e1:\n",
    "                print(e1)\n",
    "                print('yldata must be equation or list of (expr, name) tuples')\n",
    "                \n",
    "    if type(yllabel) is not str: \n",
    "        unit1 = derive_unit(yllabel)\n",
    "        if unit1 != 1:\n",
    "            strunit = ' (' + markdown(unit1) + ')'\n",
    "        else: \n",
    "            strunit = ''\n",
    "        \n",
    "        yllabel = '$'+latex(yllabel)+'$'+ strunit   \n",
    "    if type (yldata) is not list and type(yldata) is not tuple:\n",
    "        # If only an expression given\n",
    "        yldata = [(yldata, '')]\n",
    "    if type(yldata[0]) is not tuple:\n",
    "        yldata = [yldata]\n",
    "    if yrdata is not None:\n",
    "        if yrlabel == '':\n",
    "            if hasattr(yrdata, 'lhs'):\n",
    "                yrlabel = yrdata.lhs \n",
    "        if type (yrdata) is not list and type(yrdata) is not tuple:\n",
    "            # If only an expression given\n",
    "            yrdata = [yrdata] \n",
    "    if type(yrlabel) is not str: \n",
    "        yrlabel = '$'+latex(yrlabel)+'$'+ ' (' + markdown(derive_unit(yrlabel)) + ')'            \n",
    "    \n",
    "    xstep = (xmax - xmin)/npoints\n",
    "    xvals = arange(xmin, xmax, xstep)\n",
    "       \n",
    "    ax1 =  fig.add_subplot(1, 1, 1)\n",
    "    if yrdata is not None:\n",
    "        color = colors[0]\n",
    "    else:\n",
    "        color = 'black'\n",
    "    if ylmin:    ax1.set_ylim(ymin=float(ylmin))\n",
    "    if ylmax:    ax1.set_ylim(ymax=float(ylmax))\n",
    "    ax1.set_xlabel(xlabel)\n",
    "    ax1.set_ylabel(yllabel, color=color)\n",
    "    ax1.tick_params(axis='y', labelcolor=color)\n",
    "    i = 0\n",
    "    for (expr1, y1var) in yldata:\n",
    "        linestyle = linestylesl[i]\n",
    "        if yrdata is None:\n",
    "            color = colors[i]\n",
    "        i= i + 1\n",
    "        try: \n",
    "            y1vals = [expr1.subs(xvar, dummy).n() for dummy in xvals]                   \n",
    "            ax1.plot(xvals, y1vals, color=color, linestyle=linestyle, label=y1var)\n",
    "        except Exception as e1:\n",
    "            print([expr1.subs(xvar, dummy) for dummy in xvals])\n",
    "            print(e1)\n",
    "    if i > 1 or yrdata is not None:\n",
    "        plt.legend(loc=loc_legend_left, fontsize=fontsize_legend)\n",
    "    \n",
    "    if yrdata is not None:   \n",
    "        ax2 = ax1.twinx()  # instantiate a second axes that shares the same x-axis\n",
    "        color = colors[1]\n",
    "        ax2.set_ylabel(yrlabel, color=color)\n",
    "        i = 0\n",
    "\n",
    "        for item in yrdata:\n",
    "            if type(item) is tuple:   # if item is tuple\n",
    "                (expr2, y2var) = item\n",
    "            else:\n",
    "                try: \n",
    "                    (y2var, expr2) = (item.lhs, item.rhs)\n",
    "                except Exception as e1:\n",
    "                    print(e1)\n",
    "                    print('yrdata must be a list of equations or tuples (var, expr)')\n",
    "                    return\n",
    "            linestyle = linestylesr[i]\n",
    "            i = i + 1\n",
    "            try:\n",
    "                y2vals = [expr2.subs(xvar, dummy).n() for dummy in xvals]\n",
    "                ax2.plot(xvals, y2vals, color=color, linestyle=linestyle, label=y2var)\n",
    "            except Exception as e1:\n",
    "                print(expr2)\n",
    "                print([expr2.subs(xvar, dummy).n() for dummy in xvals])\n",
    "                print(e1)\n",
    "                \n",
    "            if not yrlabel:\n",
    "                if hasattr(yrdata[0], 'lhs'):\n",
    "                    yrlabel = yrdata[0].lhs\n",
    "\n",
    "        if type(yrlabel) is not str: \n",
    "            yrlabel = '$'+latex(yrlabel)+'$'+ ' (' + markdown(derive_unit(yrlabel)) + ')'       \n",
    "        ax2.tick_params(axis='y', labelcolor=color)\n",
    "        if yrmin:    ax2.set_ylim(ymin=float(yrmin))\n",
    "        if yrmax:    ax2.set_ylim(ymax=float(yrmax))\n",
    "        leg=ax2.legend(loc=loc_legend_right, fontsize=fontsize_legend)\n",
    "        ax2.add_artist(leg);\n",
    "        for item in ([ax2.xaxis.label, ax2.yaxis.label]):\n",
    "            item.set_fontsize(fontsize_labels)\n",
    "        ax2.tick_params(axis='both', which='major', labelsize=fontsize_ticks)\n",
    "\n",
    "    for item in ([ax1.xaxis.label, ax1.yaxis.label]):\n",
    "        item.set_fontsize(fontsize_labels)\n",
    "    ax1.tick_params(axis='both', which='major', labelsize=fontsize_ticks)\n",
    "    fig.tight_layout()  # otherwise the right y-label is slightly clipped\n",
    "    return fig\n",
    "    \n",
    "vdict = Variable.__defaults__.copy()    \n",
    "expr = eq_nua.subs(vdict)\n",
    "exprr = eq_ka.subs(vdict)\n",
    "xvar = T_a\n",
    "yldata = [(expr.rhs, 'full'), (expr.rhs/2, 'half')]\n",
    "yrdata = exprr\n",
    "\n",
    "plot_expr2((T_a, 273, 373), yldata=expr, yrdata=exprr, yrmin=-0.0001, fontsize=14) # note that yrmin=0 would have no effect\n",
    "plot_expr2((T_a, 273, 373), yldata=expr, yrdata=exprr, colors=['red', 'blue'], linestylesr=['--'])\n",
    "plot_expr2((T_a, 273, 373), yldata, yllabel = (nu_a), yrdata=yrdata)\n",
    "plot_expr2((T_a, 273, 373), yldata, yllabel = (nu_a), yrdata=[(1/exprr.rhs, 1/exprr.lhs)],\n",
    "           loc_legend_right='lower right')\n",
    "plot_expr2((T_a, 273, 373), expr)\n",
    "plot_expr2((T_a, 273, 373), yldata, yllabel = (nu_a))"
   ]
  },
  {
   "cell_type": "markdown",
   "metadata": {},
   "source": [
    "To manipulate the figure later, we save the output to `fig` and then manipulate `fig`, e.g.:"
   ]
  },
  {
   "cell_type": "code",
   "execution_count": 6,
   "metadata": {},
   "outputs": [
    {
     "data": {
      "image/png": "[encoded data removed]",
      "text/plain": [
       "<Figure size 576x288 with 1 Axes>"
      ]
     },
     "execution_count": 6,
     "metadata": {},
     "output_type": "execute_result"
    }
   ],
   "source": [
    "# Manipulate figure\n",
    "fig = plot_expr2((T_a, 273, 373), yldata, yllabel = (nu_a))\n",
    "%matplotlib inline\n",
    "fig.set_figwidth(8)\n",
    "fig"
   ]
  },
  {
   "cell_type": "markdown",
   "metadata": {},
   "source": [
    "\n",
    "## Creating new variables\n",
    "To create custom variables, first import `Variable`:"
   ]
  },
  {
   "cell_type": "code",
   "execution_count": 7,
   "metadata": {},
   "outputs": [],
   "source": [
    "from essm.variables import Variable"
   ]
  },
  {
   "cell_type": "markdown",
   "metadata": {},
   "source": [
    "To define units, you can either import these units from the library,\n",
    "e.g.\n",
    "\n",
    "`from essm.variables.units import joule, kelvin, meter`\n",
    "\n",
    "or import the appropriate units from sympy, e.g.\n",
    "\n",
    "`from sympy.physics.units import joule, kelvin, meter`"
   ]
  },
  {
   "cell_type": "code",
   "execution_count": 8,
   "metadata": {},
   "outputs": [],
   "source": [
    "from sympy.physics.units import joule, kelvin, meter, mole, pascal, second"
   ]
  },
  {
   "cell_type": "markdown",
   "metadata": {},
   "source": [
    "Then you can define a custom variable with its name, description, domain,\n",
    "latex_name, unit, and an optional default value, e.g.:"
   ]
  },
  {
   "cell_type": "code",
   "execution_count": 9,
   "metadata": {},
   "outputs": [
    {
     "name": "stderr",
     "output_type": "stream",
     "text": [
      "/home/stan/Programs/essm/essm/variables/_core.py:89: UserWarning: \"essm.variables.physics.thermodynamics:R_mol\" will be overridden by \"__main__:<class '__main__.R_mol'>\"\n",
      "  instance[expr] = instance\n"
     ]
    }
   ],
   "source": [
    "class R_mol(Variable):\n",
    "    \"\"\"Molar gas constant.\"\"\"\n",
    "    unit = joule/(kelvin*mole)\n",
    "    latex_name = 'R_{mol}'\n",
    "    default = 8.314472"
   ]
  },
  {
   "cell_type": "markdown",
   "metadata": {},
   "source": [
    "The variables defined above hold information about their docstring, units, latex representations and default values if any. Each can be accessed by e.g.:"
   ]
  },
  {
   "cell_type": "code",
   "execution_count": 10,
   "metadata": {},
   "outputs": [
    {
     "name": "stdout",
     "output_type": "stream",
     "text": [
      "Molar gas constant.\n",
      "J/(K*mol)\n",
      "R_{mol}\n",
      "8.314472\n"
     ]
    }
   ],
   "source": [
    "print(R_mol.__doc__)\n",
    "print(R_mol.definition.unit)\n",
    "print(R_mol.definition.latex_name)\n",
    "print(R_mol.definition.default)"
   ]
  },
  {
   "cell_type": "markdown",
   "metadata": {},
   "source": [
    "We will now define a few additional variables. "
   ]
  },
  {
   "cell_type": "code",
   "execution_count": 11,
   "metadata": {},
   "outputs": [
    {
     "name": "stderr",
     "output_type": "stream",
     "text": [
      "/home/stan/Programs/essm/essm/variables/_core.py:89: UserWarning: \"essm.variables.physics.thermodynamics:P_wa\" will be overridden by \"__main__:<class '__main__.P_wa'>\"\n",
      "  instance[expr] = instance\n"
     ]
    }
   ],
   "source": [
    "class P_g(Variable):\n",
    "    \"\"\"Pressure of gas.\"\"\"\n",
    "    unit = pascal\n",
    "\n",
    "class V_g(Variable):\n",
    "    \"\"\"Volume of gas.\"\"\"\n",
    "    unit = meter**3\n",
    "    \n",
    "class n_g(Variable):\n",
    "    \"\"\"Amount of gas.\"\"\"\n",
    "    unit = mole\n",
    "    \n",
    "class n_w(Variable):\n",
    "    \"\"\"Amount of water.\"\"\"\n",
    "    unit = mole\n",
    "\n",
    "class T_g(Variable):\n",
    "    \"\"\"Temperature of gas.\"\"\"\n",
    "    unit = kelvin\n",
    "    \n",
    "class P_wa(Variable):\n",
    "    \"\"\"Partial pressure of water vapour in air.\"\"\"\n",
    "    unit = pascal\n",
    "    latex_name = 'P_{wa}'"
   ]
  },
  {
   "cell_type": "markdown",
   "metadata": {},
   "source": [
    "### Variables with expressions as definitions"
   ]
  },
  {
   "cell_type": "code",
   "execution_count": 12,
   "metadata": {},
   "outputs": [],
   "source": [
    "class Delta_Pwa(Variable):\n",
    "    \"\"\"Slope of saturated vapour pressure, $\\partial P_{wa} / \\partial T_g$\"\"\"\n",
    "    expr = Derivative(P_wa,T_g)\n",
    "    latex_name = r'\\Delta'"
   ]
  },
  {
   "cell_type": "code",
   "execution_count": 13,
   "metadata": {},
   "outputs": [
    {
     "data": {
      "image/png": "[encoded data removed]",
      "text/latex": [
       "$$\\frac{Pa}{K}$$"
      ],
      "text/plain": [
       "Pa\n",
       "──\n",
       "K "
      ]
     },
     "execution_count": 13,
     "metadata": {},
     "output_type": "execute_result"
    }
   ],
   "source": [
    "Delta_Pwa.definition.unit"
   ]
  },
  {
   "cell_type": "code",
   "execution_count": 14,
   "metadata": {},
   "outputs": [
    {
     "data": {
      "image/png": "[encoded data removed]",
      "text/latex": [
       "$$\\frac{d}{d T_g} P_{wa}$$"
      ],
      "text/plain": [
       " d        \n",
       "────(P_wa)\n",
       "dT_g      "
      ]
     },
     "execution_count": 14,
     "metadata": {},
     "output_type": "execute_result"
    }
   ],
   "source": [
    "Delta_Pwa.definition.expr"
   ]
  },
  {
   "cell_type": "code",
   "execution_count": 15,
   "metadata": {},
   "outputs": [
    {
     "data": {
      "text/html": [
       "<table><tr><td>Symbol</td><td>Name</td><td>Description</td><td>Definition</td><td>Default value</td><td>Units</td></tr><tr><td>$\\Delta$</td><td>Delta_Pwa</td><td>Slope of saturated vapour pressure, $\\partial P_{wa} / \\partial T_g$</td><td>$\\frac{d}{d T_g} P_{wa}$</td><td>-</td><td>Pa K$^{-1}$</td></tr></table>"
      ],
      "text/plain": [
       "[('Symbol', 'Name', 'Description', 'Definition', 'Default value', 'Units'),\n",
       " ('$\\\\Delta$',\n",
       "  'Delta_Pwa',\n",
       "  'Slope of saturated vapour pressure, $\\\\partial P_{wa} / \\\\partial T_g$',\n",
       "  '$\\\\frac{d}{d T_g} P_{wa}$',\n",
       "  '-',\n",
       "  'Pa K$^{-1}$')]"
      ]
     },
     "execution_count": 15,
     "metadata": {},
     "output_type": "execute_result"
    }
   ],
   "source": [
    "generate_metadata_table([Delta_Pwa])"
   ]
  },
  {
   "cell_type": "markdown",
   "metadata": {},
   "source": [
    "### Linking assumptions to variables\n",
    "We can specify if a given variable is a complex, real, integer etc. by using the `assumptions` property during variable definition:"
   ]
  },
  {
   "cell_type": "code",
   "execution_count": 16,
   "metadata": {},
   "outputs": [
    {
     "name": "stdout",
     "output_type": "stream",
     "text": [
      "[1]\n"
     ]
    }
   ],
   "source": [
    "class x(Variable):\n",
    "     \"\"\"Positive real variable.\"\"\"  \n",
    "     assumptions = {'positive': True, 'real': True}\n",
    "\n",
    "print(solve(x**2 - 1))"
   ]
  },
  {
   "cell_type": "markdown",
   "metadata": {},
   "source": [
    "## Creating new equations\n",
    "Equations have a left hand side and a right hand side and if they contain variables with units, the units of each addend must be the same.\n",
    "\n",
    "### Custom equation\n",
    "To create custom equations, first import `Equation`:"
   ]
  },
  {
   "cell_type": "code",
   "execution_count": 17,
   "metadata": {},
   "outputs": [],
   "source": [
    "from essm.equations import Equation"
   ]
  },
  {
   "cell_type": "markdown",
   "metadata": {},
   "source": [
    "We will now define an equation representing the ideal gas law, based on the variables defined above:"
   ]
  },
  {
   "cell_type": "code",
   "execution_count": 18,
   "metadata": {},
   "outputs": [],
   "source": [
    "class eq_ideal_gas_law(Equation):\n",
    "    \"\"\"Ideal gas law.\"\"\"\n",
    "    \n",
    "    expr = Eq(P_g*V_g, n_g*R_mol*T_g)"
   ]
  },
  {
   "cell_type": "markdown",
   "metadata": {},
   "source": [
    "Note that whenever an equation is defined, its units are checked for consistency in the background and if they are not consistent, an error message will be printed. To illustrate this, we will try to define the above equation again, but omit temperature on the right hand side:"
   ]
  },
  {
   "cell_type": "code",
   "execution_count": 19,
   "metadata": {},
   "outputs": [
    {
     "name": "stdout",
     "output_type": "stream",
     "text": [
      "Dimension of \"R_mol*n_g\" is Dimension(length**2*mass/(temperature*time**2)), but it should be the same as P_g*V_g, i.e. Dimension(length**2*mass/time**2)\n"
     ]
    }
   ],
   "source": [
    "try:\n",
    "    class eq_ideal_gas_law(Equation):\n",
    "        \"\"\"Ideal gas law.\"\"\"\n",
    "\n",
    "        expr = Eq(P_g*V_g, n_g*R_mol)\n",
    "except Exception as exc1:\n",
    "    print(exc1)"
   ]
  },
  {
   "cell_type": "markdown",
   "metadata": {},
   "source": [
    "The equation can be displayed in typesetted form, and the documentation string can be accessed in a similar way as for Variable:"
   ]
  },
  {
   "cell_type": "code",
   "execution_count": 20,
   "metadata": {},
   "outputs": [
    {
     "data": {
      "image/png": "[encoded data removed]",
      "text/latex": [
       "$$P_g V_g = R_{mol} T_g n_g$$"
      ],
      "text/plain": [
       "P_g⋅V_g = Rₘₒₗ⋅T_g⋅n_g"
      ]
     },
     "metadata": {},
     "output_type": "display_data"
    },
    {
     "name": "stdout",
     "output_type": "stream",
     "text": [
      "Ideal gas law.\n"
     ]
    }
   ],
   "source": [
    "display(eq_ideal_gas_law)\n",
    "print(eq_ideal_gas_law.__doc__)"
   ]
  },
  {
   "cell_type": "markdown",
   "metadata": {},
   "source": [
    "### New equation based on manipulation of previous equations\n",
    "We can use the above equation just as any Sympy expression, and e.g. solve it for pressure:"
   ]
  },
  {
   "cell_type": "code",
   "execution_count": 21,
   "metadata": {},
   "outputs": [
    {
     "name": "stdout",
     "output_type": "stream",
     "text": [
      "[{P_g: R_mol*T_g*n_g/V_g}]\n"
     ]
    }
   ],
   "source": [
    "soln = solve(eq_ideal_gas_law, P_g, dict=True); print(soln)"
   ]
  },
  {
   "cell_type": "markdown",
   "metadata": {},
   "source": [
    "If we want to define a new equation based on a manipulation of eq_ideal_gas_law we can specify that the parent of the new equation is `eq_ideal_gas_law.definition`:"
   ]
  },
  {
   "cell_type": "code",
   "execution_count": 22,
   "metadata": {},
   "outputs": [
    {
     "data": {
      "image/png": "[encoded data removed]",
      "text/latex": [
       "$$P_g = \\frac{R_{mol} T_g n_g}{V_g}$$"
      ],
      "text/plain": [
       "      Rₘₒₗ⋅T_g⋅n_g\n",
       "P_g = ────────────\n",
       "          V_g     "
      ]
     },
     "execution_count": 22,
     "metadata": {},
     "output_type": "execute_result"
    }
   ],
   "source": [
    "class eq_Pg(eq_ideal_gas_law.definition):\n",
    "    \"\"\"Calculate pressure of ideal gas.\"\"\"\n",
    "    \n",
    "    expr = Eq(P_g, soln[0][P_g])\n",
    "eq_Pg"
   ]
  },
  {
   "cell_type": "markdown",
   "metadata": {},
   "source": [
    "We can also have nested inheritance, if we now define another equation based on eq_Pg:"
   ]
  },
  {
   "cell_type": "code",
   "execution_count": 23,
   "metadata": {},
   "outputs": [
    {
     "data": {
      "image/png": "[encoded data removed]",
      "text/latex": [
       "$$P_{wa} = \\frac{R_{mol} T_g n_w}{V_g}$$"
      ],
      "text/plain": [
       "       Rₘₒₗ⋅T_g⋅n_w\n",
       "P_wa = ────────────\n",
       "           V_g     "
      ]
     },
     "execution_count": 23,
     "metadata": {},
     "output_type": "execute_result"
    }
   ],
   "source": [
    "class eq_Pwa_nw(eq_Pg.definition):\n",
    "    \"\"\"Calculate vapour pressure from amount of water in gas.\"\"\"\n",
    "    \n",
    "    expr = Eq(P_wa, eq_Pg.rhs.subs(n_g, n_w))\n",
    "eq_Pwa_nw"
   ]
  },
  {
   "cell_type": "markdown",
   "metadata": {},
   "source": [
    "### Show inheritance of equations\n",
    "To see the inheritance (what other equations it depends on) of the newly created equation:"
   ]
  },
  {
   "cell_type": "code",
   "execution_count": 24,
   "metadata": {},
   "outputs": [
    {
     "data": {
      "text/plain": [
       "(__main__.eq_Pg,)"
      ]
     },
     "execution_count": 24,
     "metadata": {},
     "output_type": "execute_result"
    }
   ],
   "source": [
    "eq_Pwa_nw.definition.__bases__"
   ]
  },
  {
   "cell_type": "code",
   "execution_count": 25,
   "metadata": {},
   "outputs": [
    {
     "data": {
      "text/plain": [
       "['eq_Pg']"
      ]
     },
     "execution_count": 25,
     "metadata": {},
     "output_type": "execute_result"
    }
   ],
   "source": [
    "[parent.name for parent in eq_Pwa_nw.definition.__bases__]"
   ]
  },
  {
   "cell_type": "code",
   "execution_count": 26,
   "metadata": {},
   "outputs": [
    {
     "data": {
      "image/png": "[encoded data removed]",
      "text/latex": [
       "$$\\left [ P_g = \\frac{R_{mol} T_g n_g}{V_g}\\right ]$$"
      ],
      "text/plain": [
       "⎡      Rₘₒₗ⋅T_g⋅n_g⎤\n",
       "⎢P_g = ────────────⎥\n",
       "⎣          V_g     ⎦"
      ]
     },
     "execution_count": 26,
     "metadata": {},
     "output_type": "execute_result"
    }
   ],
   "source": [
    "[parent.expr for parent in eq_Pwa_nw.definition.__bases__]"
   ]
  },
  {
   "cell_type": "markdown",
   "metadata": {},
   "source": [
    "We can also write a function to get all parents recursively:"
   ]
  },
  {
   "cell_type": "code",
   "execution_count": 27,
   "metadata": {},
   "outputs": [
    {
     "data": {
      "text/plain": [
       "{'eq_Pg', 'eq_ideal_gas_law'}"
      ]
     },
     "execution_count": 27,
     "metadata": {},
     "output_type": "execute_result"
    }
   ],
   "source": [
    "def get_parents(equation, allparents=set()):\n",
    "    \"\"\"Return set of recursive parents of equation.\"\"\"\n",
    "    \n",
    "    parents = equation.definition.__bases__\n",
    "    for parent in parents:\n",
    "        if hasattr(parent, 'name'):\n",
    "            allparents.update([parent.name])\n",
    "            get_parents(eval(parent.name))\n",
    "    return allparents\n",
    "get_parents(eq_Pwa_nw)"
   ]
  },
  {
   "cell_type": "markdown",
   "metadata": {},
   "source": [
    "### Computational burden of deriving equations within class definition\n",
    "If we solve for a variable to derive a new equation, is the solve() command performed every time this equation is used?"
   ]
  },
  {
   "cell_type": "code",
   "execution_count": 28,
   "metadata": {},
   "outputs": [
    {
     "name": "stdout",
     "output_type": "stream",
     "text": [
      "[{P_g: R_mol*T_g*n_g/V_g}]\n"
     ]
    },
    {
     "name": "stderr",
     "output_type": "stream",
     "text": [
      "/home/stan/Programs/essm/essm/equations/_core.py:107: UserWarning: \"__main__:eq_Pg\" will be overridden by \"__main__:<class '__main__.eq_Pg1'>\"\n",
      "  instance[expr] = instance\n"
     ]
    },
    {
     "data": {
      "image/png": "[encoded data removed]",
      "text/latex": [
       "$$P_g = \\frac{R_{mol} T_g n_g}{V_g}$$"
      ],
      "text/plain": [
       "      Rₘₒₗ⋅T_g⋅n_g\n",
       "P_g = ────────────\n",
       "          V_g     "
      ]
     },
     "execution_count": 28,
     "metadata": {},
     "output_type": "execute_result"
    }
   ],
   "source": [
    "class eq_Pg1(eq_ideal_gas_law.definition):\n",
    "    \"\"\"Calculate pressure of ideal gas.\"\"\"\n",
    "    from sympy import solve\n",
    "    soln = solve(eq_ideal_gas_law, P_g, dict=True); print(soln)\n",
    "    expr = Eq(P_g, soln[0][P_g])\n",
    "eq_Pg1"
   ]
  },
  {
   "cell_type": "code",
   "execution_count": 29,
   "metadata": {},
   "outputs": [
    {
     "name": "stdout",
     "output_type": "stream",
     "text": [
      "CPU times: user 4 µs, sys: 1 µs, total: 5 µs\n",
      "Wall time: 11 µs\n"
     ]
    },
    {
     "data": {
      "image/png": "[encoded data removed]",
      "text/latex": [
       "$$P_g = 249.42$$"
      ],
      "text/plain": [
       "P_g = 249.42"
      ]
     },
     "execution_count": 29,
     "metadata": {},
     "output_type": "execute_result"
    }
   ],
   "source": [
    "%time\n",
    "eq_Pg.subs({R_mol: 8.314, T_g: 300, n_g: 0.1, V_g: 1})"
   ]
  },
  {
   "cell_type": "code",
   "execution_count": 30,
   "metadata": {},
   "outputs": [
    {
     "name": "stdout",
     "output_type": "stream",
     "text": [
      "CPU times: user 3 µs, sys: 0 ns, total: 3 µs\n",
      "Wall time: 7.87 µs\n"
     ]
    },
    {
     "data": {
      "image/png": "[encoded data removed]",
      "text/latex": [
       "$$P_g = 249.42$$"
      ],
      "text/plain": [
       "P_g = 249.42"
      ]
     },
     "execution_count": 30,
     "metadata": {},
     "output_type": "execute_result"
    }
   ],
   "source": [
    "%time\n",
    "eq_Pg1.subs({R_mol: 8.314, T_g: 300, n_g: 0.1, V_g: 1})"
   ]
  },
  {
   "cell_type": "markdown",
   "metadata": {},
   "source": [
    "There is actually no difference!"
   ]
  },
  {
   "cell_type": "markdown",
   "metadata": {},
   "source": [
    "### Empirical equations with internal variables\n",
    "Empirical equations not only contain variables but also numbers. As an example, we will try to define the Clausius-Clapeyron equation for saturation vapour pressure in the following example, after defining a few additional variables used in this equation.\n",
    "$$ P_{wa} = 611 e^\\frac{-M_w \\lambda_E (1/T_g - 1/273)}{R_{mol}}$$\n"
   ]
  },
  {
   "cell_type": "code",
   "execution_count": 31,
   "metadata": {},
   "outputs": [
    {
     "name": "stderr",
     "output_type": "stream",
     "text": [
      "/home/stan/Programs/essm/essm/variables/_core.py:89: UserWarning: \"essm.variables.physics.thermodynamics:lambda_E\" will be overridden by \"__main__:<class '__main__.lambda_E'>\"\n",
      "  instance[expr] = instance\n",
      "/home/stan/Programs/essm/essm/variables/_core.py:89: UserWarning: \"essm.variables.physics.thermodynamics:M_w\" will be overridden by \"__main__:<class '__main__.M_w'>\"\n",
      "  instance[expr] = instance\n"
     ]
    }
   ],
   "source": [
    "from sympy.physics.units import joule, kilogram\n",
    "class lambda_E(Variable):\n",
    "    \"\"\"Latent heat of evaporation.\"\"\"\n",
    "    unit = joule/kilogram\n",
    "    latex_name = '\\\\lambda_E'\n",
    "    default = 2.45e6   \n",
    "\n",
    "class M_w(Variable):\n",
    "    \"\"\"Molar mass of water.\"\"\"\n",
    "    unit = kilogram/mole\n",
    "    default = 0.018"
   ]
  },
  {
   "cell_type": "code",
   "execution_count": 32,
   "metadata": {},
   "outputs": [
    {
     "name": "stdout",
     "output_type": "stream",
     "text": [
      "Dimension of \"1/T_g\" is Dimension(1/temperature), but it should be the same as -0.00366300366300366, i.e. Dimension(1)\n"
     ]
    }
   ],
   "source": [
    "from sympy import exp\n",
    "try:\n",
    "    class eq_Pwa_CC(Equation):\n",
    "        \"\"\"Clausius-Clapeyron P_wa as function of T_g. \n",
    "\n",
    "        \\cite[Eq. B3]{hartmann_global_1994}\n",
    "        \"\"\"\n",
    "\n",
    "        expr = Eq(P_wa, 611.*exp(-M_w*lambda_E*(1/T_g - 1/273.)/R_mol))\n",
    "except Exception as exc1:\n",
    "    print(exc1)"
   ]
  },
  {
   "cell_type": "markdown",
   "metadata": {},
   "source": [
    "The unit mismatch reported in the error message stems from the fact that the numbers in the empirical equation actually need units. Since the term in the exponent has to be non-dimensional, the units of `611` must be the same as those of `P_wa`, i.e. pascal. The units of the subtraction term in the exponent must match, meaning that `273` needs units of kelvin. To avoid the error message, we can define the empirical numbers as internal variables to the equation we want to define:"
   ]
  },
  {
   "cell_type": "code",
   "execution_count": 33,
   "metadata": {},
   "outputs": [],
   "source": [
    "class eq_Pwa_CC(Equation):\n",
    "    \"\"\"Clausius-Clapeyron P_wa as function of T_g. \n",
    "\n",
    "    Eq. B3 in :cite{hartmann_global_1994}\n",
    "    \"\"\"\n",
    "        \n",
    "    class p_CC1(Variable):\n",
    "        \"\"\"Internal parameter of eq_Pwl.\"\"\"\n",
    "        unit = pascal\n",
    "        latex_name = '611'\n",
    "        default = 611.   \n",
    "    \n",
    "    \n",
    "    \n",
    "    class p_CC2(Variable):\n",
    "        \"\"\"Internal parameter of eq_Pwl.\"\"\"\n",
    "        unit = kelvin\n",
    "        latex_name = '273'\n",
    "        default = 273.   \n",
    "    \n",
    "    expr = Eq(P_wa, p_CC1*exp(-M_w*lambda_E*(1/T_g - 1/p_CC2)/R_mol))"
   ]
  },
  {
   "cell_type": "markdown",
   "metadata": {},
   "source": [
    "In the above, we defined the latex representation of the empirical constants as their actual values, so the equation displays in the familiar way:"
   ]
  },
  {
   "cell_type": "code",
   "execution_count": 34,
   "metadata": {},
   "outputs": [
    {
     "data": {
      "image/png": "[encoded data removed]",
      "text/latex": [
       "$$P_{wa} = 611 e^{- \\frac{M_w \\lambda_E \\left(- \\frac{1}{273} + \\frac{1}{T_g}\\right)}{R_{mol}}}$$"
      ],
      "text/plain": [
       "                       ⎛    1      1 ⎞ \n",
       "              -M_w⋅λ_E⋅⎜- ───── + ───⎟ \n",
       "                       ⎝  p_CC2   T_g⎠ \n",
       "              ─────────────────────────\n",
       "                         Rₘₒₗ          \n",
       "P_wa = p_CC1⋅ℯ                         "
      ]
     },
     "execution_count": 34,
     "metadata": {},
     "output_type": "execute_result"
    }
   ],
   "source": [
    "eq_Pwa_CC"
   ]
  },
  {
   "cell_type": "markdown",
   "metadata": {},
   "source": [
    "All default values of variables defined along with the variable definitions are stored in a dictionary that can be accessed as `Variable.__defaults__`. We can substitute the values from this dictionary into our empirical equation to plot saturation vapour pressure as a function of temperature:"
   ]
  },
  {
   "cell_type": "code",
   "execution_count": 35,
   "metadata": {},
   "outputs": [
    {
     "name": "stdout",
     "output_type": "stream",
     "text": [
      "Eq(P_wa, 167405731976.232*exp(-5304.00487246815/T_g))\n"
     ]
    },
    {
     "data": {
      "image/png": "[encoded data removed]",
      "text/plain": [
       "<Figure size 432x288 with 1 Axes>"
      ]
     },
     "metadata": {
      "needs_background": "light"
     },
     "output_type": "display_data"
    }
   ],
   "source": [
    "expr = eq_Pwa_CC.subs(Variable.__defaults__)\n",
    "print(expr)\n",
    "xvar = T_g\n",
    "p = plot_expr2((xvar, 273, 373), expr)"
   ]
  },
  {
   "cell_type": "markdown",
   "metadata": {},
   "source": [
    "### Piecewise defined equations"
   ]
  },
  {
   "cell_type": "code",
   "execution_count": 36,
   "metadata": {},
   "outputs": [
    {
     "data": {
      "image/png": "[encoded data removed]",
      "text/latex": [
       "$$P_{wa} = \\begin{cases} 0 & \\text{for}\\: T_a < 0 \\\\611 e^{- \\frac{M_w \\lambda_E \\left(- \\frac{1}{273} + \\frac{1}{T_g}\\right)}{R_{mol}}} & \\text{otherwise} \\end{cases}$$"
      ],
      "text/plain": [
       "       ⎧               0                  for Tₐ < 0\n",
       "       ⎪                                            \n",
       "       ⎪                ⎛    1      1 ⎞             \n",
       "       ⎪       -M_w⋅λ_E⋅⎜- ───── + ───⎟             \n",
       "P_wa = ⎨                ⎝  p_CC2   T_g⎠             \n",
       "       ⎪       ─────────────────────────            \n",
       "       ⎪                  Rₘₒₗ                      \n",
       "       ⎪p_CC1⋅ℯ                           otherwise \n",
       "       ⎩                                            "
      ]
     },
     "execution_count": 36,
     "metadata": {},
     "output_type": "execute_result"
    }
   ],
   "source": [
    "from sympy import Piecewise\n",
    "expr = Eq(P_wa, Piecewise((0, T_a < 0), (eq_Pwa_CC.rhs, T_a >= 0)))\n",
    "expr"
   ]
  },
  {
   "cell_type": "code",
   "execution_count": 37,
   "metadata": {},
   "outputs": [
    {
     "data": {
      "image/png": "[encoded data removed]",
      "text/latex": [
       "$$P_{wa} = \\begin{cases} 0 & \\text{for}\\: T_a < 0 \\\\611 e^{- \\frac{M_w \\lambda_E \\left(- \\frac{1}{273} + \\frac{1}{T_g}\\right)}{R_{mol}}} & \\text{otherwise} \\end{cases}$$"
      ],
      "text/plain": [
       "       ⎧               0                  for Tₐ < 0\n",
       "       ⎪                                            \n",
       "       ⎪                ⎛    1      1 ⎞             \n",
       "       ⎪       -M_w⋅λ_E⋅⎜- ───── + ───⎟             \n",
       "P_wa = ⎨                ⎝  p_CC2   T_g⎠             \n",
       "       ⎪       ─────────────────────────            \n",
       "       ⎪                  Rₘₒₗ                      \n",
       "       ⎪p_CC1⋅ℯ                           otherwise \n",
       "       ⎩                                            "
      ]
     },
     "metadata": {},
     "output_type": "display_data"
    }
   ],
   "source": [
    "try:\n",
    "    class eq1(Equation):\n",
    "         \"\"\"Test\"\"\"\n",
    "         expr = Eq(P_wa, Piecewise((0, T_a < 0), (eq_Pwa_CC.rhs, T_a >= 0)))\n",
    "    display(eq1)\n",
    "except Exception as e1:\n",
    "    print(e1)"
   ]
  },
  {
   "cell_type": "markdown",
   "metadata": {},
   "source": [
    "**If the above returns a dimension error, then unit checking for `Piecewise` has not been implemented yet.**"
   ]
  },
  {
   "cell_type": "markdown",
   "metadata": {},
   "source": [
    "## Substituting into integrals and derivatives and evaluating\n",
    "Above, we defined `Delta_Pwa` as a variable that represents the partial derivative of `P_wa` with respect to `T_g`:\n",
    "```\n",
    "class Delta_Pwa(Variable):\n",
    "    \"\"\"Slope of saturated vapour pressure, $\\partial P_{ws} / \\partial T_g\"\"\"\n",
    "    expr = P_wa(T_g).diff(T_g)\n",
    "    #unit = pascal/kelvin\n",
    "    latex_name = r'\\Delta'\n",
    "```\n",
    "This definition can be accessed by typing `Delta_Pwa.definition.expr`. Example:"
   ]
  },
  {
   "cell_type": "code",
   "execution_count": 38,
   "metadata": {},
   "outputs": [
    {
     "name": "stdout",
     "output_type": "stream",
     "text": [
      "Derivative(P_wa, T_g)\n"
     ]
    },
    {
     "data": {
      "image/png": "[encoded data removed]",
      "text/latex": [
       "$$\\Delta = \\frac{d}{d T_g} P_{wa}$$"
      ],
      "text/plain": [
       "         d        \n",
       "Δ_Pwa = ────(P_wa)\n",
       "        dT_g      "
      ]
     },
     "metadata": {},
     "output_type": "display_data"
    }
   ],
   "source": [
    "print(Delta_Pwa.definition.expr)\n",
    "display(Eq(Delta_Pwa, Delta_Pwa.definition.expr))"
   ]
  },
  {
   "cell_type": "markdown",
   "metadata": {},
   "source": [
    "We also defined the Clausius-Clapeyron approximation to $P_{wa}(T_g)$ as `eq_Pwa_CC`. "
   ]
  },
  {
   "cell_type": "code",
   "execution_count": 39,
   "metadata": {},
   "outputs": [
    {
     "data": {
      "image/png": "[encoded data removed]",
      "text/latex": [
       "$$P_{wa} = 611 e^{- \\frac{M_w \\lambda_E \\left(- \\frac{1}{273} + \\frac{1}{T_g}\\right)}{R_{mol}}}$$"
      ],
      "text/plain": [
       "                       ⎛    1      1 ⎞ \n",
       "              -M_w⋅λ_E⋅⎜- ───── + ───⎟ \n",
       "                       ⎝  p_CC2   T_g⎠ \n",
       "              ─────────────────────────\n",
       "                         Rₘₒₗ          \n",
       "P_wa = p_CC1⋅ℯ                         "
      ]
     },
     "metadata": {},
     "output_type": "display_data"
    },
    {
     "name": "stdout",
     "output_type": "stream",
     "text": [
      "Clausius-Clapeyron P_wa as function of T_g. \n",
      "\n",
      "    Eq. B3 in :cite{hartmann_global_1994}\n",
      "    \n"
     ]
    }
   ],
   "source": [
    "display(eq_Pwa_CC)\n",
    "print(eq_Pwa_CC.__doc__)"
   ]
  },
  {
   "cell_type": "markdown",
   "metadata": {},
   "source": [
    "If we want to substitute this approximation into `Delta_Pwa.definition.expr`, we need to use `replace` instead of `subs` and evaluate the derivative using `doit()`:"
   ]
  },
  {
   "cell_type": "code",
   "execution_count": 40,
   "metadata": {},
   "outputs": [
    {
     "data": {
      "image/png": "[encoded data removed]",
      "text/latex": [
       "$$\\Delta = \\frac{M_w \\lambda_E 611 e^{- \\frac{M_w \\lambda_E \\left(- \\frac{1}{273} + \\frac{1}{T_g}\\right)}{R_{mol}}}}{R_{mol} T_g^{2}}$$"
      ],
      "text/plain": [
       "                                ⎛    1      1 ⎞ \n",
       "                       -M_w⋅λ_E⋅⎜- ───── + ───⎟ \n",
       "                                ⎝  p_CC2   T_g⎠ \n",
       "                       ─────────────────────────\n",
       "                                  Rₘₒₗ          \n",
       "        M_w⋅λ_E⋅p_CC1⋅ℯ                         \n",
       "Δ_Pwa = ────────────────────────────────────────\n",
       "                               2                \n",
       "                       Rₘₒₗ⋅T_g                 "
      ]
     },
     "metadata": {},
     "output_type": "display_data"
    },
    {
     "data": {
      "image/png": "[encoded data removed]",
      "text/plain": [
       "<Figure size 432x288 with 1 Axes>"
      ]
     },
     "metadata": {
      "needs_background": "light"
     },
     "output_type": "display_data"
    }
   ],
   "source": [
    "expr = Eq(Delta_Pwa, Delta_Pwa.definition.expr.replace(P_wa, eq_Pwa_CC.rhs).doit())\n",
    "display(expr)\n",
    "p = plot_expr2((T_g, 273, 373), expr.subs(Variable.__defaults__))"
   ]
  },
  {
   "cell_type": "markdown",
   "metadata": {},
   "source": [
    "If we only had the slope of the curve, we could take the integral to get the absolute value:"
   ]
  },
  {
   "cell_type": "code",
   "execution_count": 41,
   "metadata": {},
   "outputs": [
    {
     "data": {
      "image/png": "[encoded data removed]",
      "text/latex": [
       "$$P_{wa} = P_{wa1} + \\int_{T_{a1}}^{T_{a2}} \\Delta\\, dT_g$$"
      ],
      "text/plain": [
       "               Tₐ₂             \n",
       "                ⌠              \n",
       "P_wa = P_wa1 +  ⎮  Δ_Pwa d(T_g)\n",
       "                ⌡              \n",
       "               Tₐ₁             "
      ]
     },
     "metadata": {},
     "output_type": "display_data"
    }
   ],
   "source": [
    "from sympy import Integral\n",
    "class T_a1(Variable):\n",
    "    \"\"\"Air temperature\"\"\"\n",
    "    unit = kelvin\n",
    "    latex_name = r'T_{a1}'\n",
    "    \n",
    "class T_a2(Variable):\n",
    "    \"\"\"Air temperature\"\"\"\n",
    "    unit = kelvin\n",
    "    latex_name = r'T_{a2}'\n",
    "    \n",
    "class P_wa1(Variable):\n",
    "    \"\"\"P_wa at T1\"\"\"\n",
    "    unit = pascal\n",
    "    latex_name = r'P_{wa1}'\n",
    "    \n",
    "class eq_Pwa_Delta(Equation):\n",
    "    \"\"\"P_wa deduced from the integral of Delta\"\"\"\n",
    "    expr = Eq(P_wa, P_wa1 + Integral(Delta_Pwa, (T_g, T_a1, T_a2)))\n",
    "display(eq_Pwa_Delta)"
   ]
  },
  {
   "cell_type": "code",
   "execution_count": 42,
   "metadata": {},
   "outputs": [
    {
     "data": {
      "image/png": "[encoded data removed]",
      "text/latex": [
       "$$P_{wa} = 167405731976.232 e^{- \\frac{5304.00487246815}{T_{a2}}}$$"
      ],
      "text/plain": [
       "                         -5304.00487246815 \n",
       "                         ──────────────────\n",
       "                                Tₐ₂        \n",
       "P_wa = 167405731976.232⋅ℯ                  "
      ]
     },
     "metadata": {},
     "output_type": "display_data"
    },
    {
     "data": {
      "image/png": "[encoded data removed]",
      "text/plain": [
       "<Figure size 432x288 with 1 Axes>"
      ]
     },
     "metadata": {
      "needs_background": "light"
     },
     "output_type": "display_data"
    }
   ],
   "source": [
    "expr_Delta = eq_Pwa_CC.rhs.diff(T_g)\n",
    "expr = Eq(P_wa, eq_Pwa_Delta.rhs.replace(Delta_Pwa, expr_Delta).doit())\n",
    "vdict = Variable.__defaults__.copy()\n",
    "vdict[T_a1] = 273.\n",
    "vdict[P_wa1] = eq_Pwa_CC.rhs.subs(T_g, T_a1).subs(vdict)\n",
    "display(expr.subs(vdict))\n",
    "p = plot_expr2((T_a2, 273, 373), expr.subs(vdict))"
   ]
  },
  {
   "cell_type": "markdown",
   "metadata": {},
   "source": [
    "## Unit conversions\n",
    "Values for variables are often given in obscure units, but to convert to our standard units, we can use the dictionary `SI_EXTENDED_DIMENSIONS`:"
   ]
  },
  {
   "cell_type": "code",
   "execution_count": 43,
   "metadata": {},
   "outputs": [
    {
     "name": "stdout",
     "output_type": "stream",
     "text": [
      "0.3*inch/hour\n",
      "2.11666666666667e-6*m/s\n"
     ]
    }
   ],
   "source": [
    "from sympy.physics.units import convert_to, kilo, mega, joule, kilogram, meter, second, inch, hour\n",
    "from essm.variables.units import SI_EXTENDED_DIMENSIONS, SI_EXTENDED_UNITS\n",
    "value1 = 0.3\n",
    "unit1 = inch/hour\n",
    "print(value1*unit1)\n",
    "unit2 = Variable.get_dimensional_expr(unit1).subs(SI_EXTENDED_DIMENSIONS)\n",
    "print(convert_to(value1*unit1, unit2))"
   ]
  },
  {
   "cell_type": "markdown",
   "metadata": {},
   "source": [
    "## Exporting definitions\n",
    "The below example exports all relevant definitions from this jupyter notebook into a file called `test_definitions.py`, from which they can be re-imported into a different notebook just by executing `from test_definitions import *`, as shown below."
   ]
  },
  {
   "cell_type": "code",
   "execution_count": 44,
   "metadata": {},
   "outputs": [],
   "source": [
    "from sympy import preorder_traversal\n",
    "def extract_units(expr):\n",
    "    \"\"\"Traverse through expression and return set of units.\"\"\"\n",
    "    return {\n",
    "        arg\n",
    "        for arg in preorder_traversal(expr) if isinstance(arg, Quantity)\n",
    "    }"
   ]
  },
  {
   "cell_type": "code",
   "execution_count": 45,
   "metadata": {},
   "outputs": [],
   "source": [
    "with open('test_definitions.py', 'wt') as file1:\n",
    "    file1.write('from essm.variables._core import BaseVariable, Variable\\n')\n",
    "    file1.write('from essm.equations import Equation\\n')\n",
    "    file1.write('from sympy import Abs, Derivative, Eq, exp, Integral, log, Piecewise, sqrt\\n')\n",
    "    # Create import strings for all units\n",
    "    StrPrinter._print_Quantity = lambda self, expr: str(expr.name)    # displays long units (meter instead of m)\n",
    "    s = set()\n",
    "    for unit in Variable.__units__.values():\n",
    "        for item in extract_units(unit):\n",
    "            s.add(item)\n",
    "    commandstr = 'from sympy.physics.units import ' + str(s)[1:-1]\n",
    "    file1.write(commandstr.replace(\"\\n\", \" \") + \"\\n\")\n",
    "    \n",
    "    for variable in Variable.__registry__.keys():\n",
    "        symbol = variable.definition.latex_name\n",
    "        name = variable.name\n",
    "        doc = variable.__doc__\n",
    "        unit = variable.definition.unit\n",
    "        assumptions = variable.definition.assumptions\n",
    "        latex_name = variable.definition.latex_name\n",
    "        expression = Variable.__expressions__.get(variable, None)\n",
    "        default = str(Variable.__defaults__.get(variable, None))\n",
    "        commandstr = '''{0} = type('{0}', (Variable,), {{'__doc__': \"\"\"{1}\"\"\", 'unit': {2}, 'assumptions': {3}, \\\n",
    "        'latex_name': r\"{4}\", 'default': {5}, 'expr': {6}}})'''.format(\n",
    "            name, doc.replace('\\n', ' ').replace('\\r', ''), unit, assumptions, latex_name,\\\n",
    "        default, expression)\n",
    "        file1.write(commandstr + \"\\n\")\n",
    "        \n",
    "    for eq in Equation.__registry__.keys():\n",
    "        name = eq.definition.name\n",
    "        doc = eq.__doc__\n",
    "        equ = eq\n",
    "        commandstr = '''{0} = type('{0}', (Equation,), {{'__doc__': \"\"\"{1}\"\"\", 'expr': {2}}})'''.format(\n",
    "            name, doc.replace('\\n', ' ').replace('\\r', ''), equ)\n",
    "        file1.write(commandstr + \"\\n\")\n",
    "        \n",
    "StrPrinter._print_Quantity = lambda self, expr: str(expr.abbrev)    # displays short units (m instead of meter)"
   ]
  },
  {
   "cell_type": "code",
   "execution_count": 46,
   "metadata": {},
   "outputs": [
    {
     "name": "stderr",
     "output_type": "stream",
     "text": [
      "/home/stan/Programs/essm/essm/variables/_core.py:89: UserWarning: \"essm.variables.physics.thermodynamics:alpha_a\" will be overridden by \"essm.variables._core:<class 'essm.variables._core.alpha_a'>\"\n",
      "  instance[expr] = instance\n",
      "/home/stan/Programs/essm/essm/variables/_core.py:89: UserWarning: \"essm.variables.physics.thermodynamics:c_pa\" will be overridden by \"essm.variables._core:<class 'essm.variables._core.c_pa'>\"\n",
      "  instance[expr] = instance\n",
      "/home/stan/Programs/essm/essm/variables/_core.py:89: UserWarning: \"essm.variables.physics.thermodynamics:c_pamol\" will be overridden by \"essm.variables._core:<class 'essm.variables._core.c_pamol'>\"\n",
      "  instance[expr] = instance\n",
      "/home/stan/Programs/essm/essm/variables/_core.py:89: UserWarning: \"essm.variables.physics.thermodynamics:c_pv\" will be overridden by \"essm.variables._core:<class 'essm.variables._core.c_pv'>\"\n",
      "  instance[expr] = instance\n",
      "/home/stan/Programs/essm/essm/variables/_core.py:89: UserWarning: \"essm.variables.physics.thermodynamics:C_wa\" will be overridden by \"essm.variables._core:<class 'essm.variables._core.C_wa'>\"\n",
      "  instance[expr] = instance\n",
      "/home/stan/Programs/essm/essm/variables/_core.py:89: UserWarning: \"essm.variables.physics.thermodynamics:D_va\" will be overridden by \"essm.variables._core:<class 'essm.variables._core.D_va'>\"\n",
      "  instance[expr] = instance\n",
      "/home/stan/Programs/essm/essm/variables/_core.py:89: UserWarning: \"essm.variables.physics.thermodynamics:g\" will be overridden by \"essm.variables._core:<class 'essm.variables._core.g'>\"\n",
      "  instance[expr] = instance\n",
      "/home/stan/Programs/essm/essm/variables/_core.py:89: UserWarning: \"essm.variables.physics.thermodynamics:Gr\" will be overridden by \"essm.variables._core:<class 'essm.variables._core.Gr'>\"\n",
      "  instance[expr] = instance\n",
      "/home/stan/Programs/essm/essm/variables/_core.py:89: UserWarning: \"essm.variables.physics.thermodynamics:h_c\" will be overridden by \"essm.variables._core:<class 'essm.variables._core.h_c'>\"\n",
      "  instance[expr] = instance\n",
      "/home/stan/Programs/essm/essm/variables/_core.py:89: UserWarning: \"essm.variables.physics.thermodynamics:k_a\" will be overridden by \"essm.variables._core:<class 'essm.variables._core.k_a'>\"\n",
      "  instance[expr] = instance\n",
      "/home/stan/Programs/essm/essm/variables/_core.py:89: UserWarning: \"__main__:lambda_E\" will be overridden by \"essm.variables._core:<class 'essm.variables._core.lambda_E'>\"\n",
      "  instance[expr] = instance\n",
      "/home/stan/Programs/essm/essm/variables/_core.py:89: UserWarning: \"essm.variables.physics.thermodynamics:Le\" will be overridden by \"essm.variables._core:<class 'essm.variables._core.Le'>\"\n",
      "  instance[expr] = instance\n",
      "/home/stan/Programs/essm/essm/variables/_core.py:89: UserWarning: \"essm.variables.physics.thermodynamics:M_air\" will be overridden by \"essm.variables._core:<class 'essm.variables._core.M_air'>\"\n",
      "  instance[expr] = instance\n",
      "/home/stan/Programs/essm/essm/variables/_core.py:89: UserWarning: \"essm.variables.physics.thermodynamics:M_N2\" will be overridden by \"essm.variables._core:<class 'essm.variables._core.M_N2'>\"\n",
      "  instance[expr] = instance\n",
      "/home/stan/Programs/essm/essm/variables/_core.py:89: UserWarning: \"essm.variables.physics.thermodynamics:M_O2\" will be overridden by \"essm.variables._core:<class 'essm.variables._core.M_O2'>\"\n",
      "  instance[expr] = instance\n",
      "/home/stan/Programs/essm/essm/variables/_core.py:89: UserWarning: \"__main__:M_w\" will be overridden by \"essm.variables._core:<class 'essm.variables._core.M_w'>\"\n",
      "  instance[expr] = instance\n",
      "/home/stan/Programs/essm/essm/variables/_core.py:89: UserWarning: \"essm.variables.physics.thermodynamics:nu_a\" will be overridden by \"essm.variables._core:<class 'essm.variables._core.nu_a'>\"\n",
      "  instance[expr] = instance\n",
      "/home/stan/Programs/essm/essm/variables/_core.py:89: UserWarning: \"essm.variables.physics.thermodynamics:Nu\" will be overridden by \"essm.variables._core:<class 'essm.variables._core.Nu'>\"\n",
      "  instance[expr] = instance\n",
      "/home/stan/Programs/essm/essm/variables/_core.py:89: UserWarning: \"essm.variables.physics.thermodynamics:P_a\" will be overridden by \"essm.variables._core:<class 'essm.variables._core.P_a'>\"\n",
      "  instance[expr] = instance\n",
      "/home/stan/Programs/essm/essm/variables/_core.py:89: UserWarning: \"essm.variables.physics.thermodynamics:Pr\" will be overridden by \"essm.variables._core:<class 'essm.variables._core.Pr'>\"\n",
      "  instance[expr] = instance\n",
      "/home/stan/Programs/essm/essm/variables/_core.py:89: UserWarning: \"essm.variables.physics.thermodynamics:P_N2\" will be overridden by \"essm.variables._core:<class 'essm.variables._core.P_N2'>\"\n",
      "  instance[expr] = instance\n",
      "/home/stan/Programs/essm/essm/variables/_core.py:89: UserWarning: \"essm.variables.physics.thermodynamics:P_O2\" will be overridden by \"essm.variables._core:<class 'essm.variables._core.P_O2'>\"\n",
      "  instance[expr] = instance\n",
      "/home/stan/Programs/essm/essm/variables/_core.py:89: UserWarning: \"__main__:P_wa\" will be overridden by \"essm.variables._core:<class 'essm.variables._core.P_wa'>\"\n",
      "  instance[expr] = instance\n",
      "/home/stan/Programs/essm/essm/variables/_core.py:89: UserWarning: \"essm.variables.physics.thermodynamics:P_was\" will be overridden by \"essm.variables._core:<class 'essm.variables._core.P_was'>\"\n",
      "  instance[expr] = instance\n",
      "/home/stan/Programs/essm/essm/variables/_core.py:89: UserWarning: \"essm.variables.physics.thermodynamics:R_d\" will be overridden by \"essm.variables._core:<class 'essm.variables._core.R_d'>\"\n",
      "  instance[expr] = instance\n",
      "/home/stan/Programs/essm/essm/variables/_core.py:89: UserWarning: \"essm.variables.physics.thermodynamics:Re_c\" will be overridden by \"essm.variables._core:<class 'essm.variables._core.Re_c'>\"\n",
      "  instance[expr] = instance\n",
      "/home/stan/Programs/essm/essm/variables/_core.py:89: UserWarning: \"essm.variables.physics.thermodynamics:Re\" will be overridden by \"essm.variables._core:<class 'essm.variables._core.Re'>\"\n",
      "  instance[expr] = instance\n",
      "/home/stan/Programs/essm/essm/variables/_core.py:89: UserWarning: \"essm.variables.physics.thermodynamics:rho_a\" will be overridden by \"essm.variables._core:<class 'essm.variables._core.rho_a'>\"\n",
      "  instance[expr] = instance\n",
      "/home/stan/Programs/essm/essm/variables/_core.py:89: UserWarning: \"essm.variables.physics.thermodynamics:R_u\" will be overridden by \"essm.variables._core:<class 'essm.variables._core.R_u'>\"\n",
      "  instance[expr] = instance\n",
      "/home/stan/Programs/essm/essm/variables/_core.py:89: UserWarning: \"__main__:R_mol\" will be overridden by \"essm.variables._core:<class 'essm.variables._core.R_mol'>\"\n",
      "  instance[expr] = instance\n",
      "/home/stan/Programs/essm/essm/variables/_core.py:89: UserWarning: \"essm.variables.physics.thermodynamics:R_s\" will be overridden by \"essm.variables._core:<class 'essm.variables._core.R_s'>\"\n",
      "  instance[expr] = instance\n",
      "/home/stan/Programs/essm/essm/variables/_core.py:89: UserWarning: \"essm.variables.physics.thermodynamics:sigm\" will be overridden by \"essm.variables._core:<class 'essm.variables._core.sigm'>\"\n",
      "  instance[expr] = instance\n",
      "/home/stan/Programs/essm/essm/variables/_core.py:89: UserWarning: \"essm.variables.physics.thermodynamics:T0\" will be overridden by \"essm.variables._core:<class 'essm.variables._core.T0'>\"\n",
      "  instance[expr] = instance\n",
      "/home/stan/Programs/essm/essm/variables/_core.py:89: UserWarning: \"essm.variables.physics.thermodynamics:T_a\" will be overridden by \"essm.variables._core:<class 'essm.variables._core.T_a'>\"\n",
      "  instance[expr] = instance\n",
      "/home/stan/Programs/essm/essm/variables/_core.py:89: UserWarning: \"essm.variables.physics.thermodynamics:v_w\" will be overridden by \"essm.variables._core:<class 'essm.variables._core.v_w'>\"\n",
      "  instance[expr] = instance\n",
      "/home/stan/Programs/essm/essm/variables/_core.py:89: UserWarning: \"essm.variables.physics.thermodynamics:x_N2\" will be overridden by \"essm.variables._core:<class 'essm.variables._core.x_N2'>\"\n",
      "  instance[expr] = instance\n",
      "/home/stan/Programs/essm/essm/variables/_core.py:89: UserWarning: \"essm.variables.physics.thermodynamics:x_O2\" will be overridden by \"essm.variables._core:<class 'essm.variables._core.x_O2'>\"\n",
      "  instance[expr] = instance\n",
      "/home/stan/Programs/essm/essm/variables/_core.py:89: UserWarning: \"essm.equations.physics.thermodynamics:p_Dva1\" will be overridden by \"essm.variables._core:<class 'essm.variables._core.p_Dva1'>\"\n",
      "  instance[expr] = instance\n",
      "/home/stan/Programs/essm/essm/variables/_core.py:89: UserWarning: \"essm.equations.physics.thermodynamics:p_Dva2\" will be overridden by \"essm.variables._core:<class 'essm.variables._core.p_Dva2'>\"\n",
      "  instance[expr] = instance\n",
      "/home/stan/Programs/essm/essm/variables/_core.py:89: UserWarning: \"essm.equations.physics.thermodynamics:p_alpha1\" will be overridden by \"essm.variables._core:<class 'essm.variables._core.p_alpha1'>\"\n",
      "  instance[expr] = instance\n",
      "/home/stan/Programs/essm/essm/variables/_core.py:89: UserWarning: \"essm.equations.physics.thermodynamics:p_alpha2\" will be overridden by \"essm.variables._core:<class 'essm.variables._core.p_alpha2'>\"\n",
      "  instance[expr] = instance\n",
      "/home/stan/Programs/essm/essm/variables/_core.py:89: UserWarning: \"essm.equations.physics.thermodynamics:p_ka1\" will be overridden by \"essm.variables._core:<class 'essm.variables._core.p_ka1'>\"\n",
      "  instance[expr] = instance\n",
      "/home/stan/Programs/essm/essm/variables/_core.py:89: UserWarning: \"essm.equations.physics.thermodynamics:p_ka2\" will be overridden by \"essm.variables._core:<class 'essm.variables._core.p_ka2'>\"\n",
      "  instance[expr] = instance\n",
      "/home/stan/Programs/essm/essm/variables/_core.py:89: UserWarning: \"essm.equations.physics.thermodynamics:p_nua1\" will be overridden by \"essm.variables._core:<class 'essm.variables._core.p_nua1'>\"\n",
      "  instance[expr] = instance\n",
      "/home/stan/Programs/essm/essm/variables/_core.py:89: UserWarning: \"essm.equations.physics.thermodynamics:p_nua2\" will be overridden by \"essm.variables._core:<class 'essm.variables._core.p_nua2'>\"\n",
      "  instance[expr] = instance\n",
      "/home/stan/Programs/essm/essm/variables/_core.py:89: UserWarning: \"__main__:P_g\" will be overridden by \"essm.variables._core:<class 'essm.variables._core.P_g'>\"\n",
      "  instance[expr] = instance\n",
      "/home/stan/Programs/essm/essm/variables/_core.py:89: UserWarning: \"__main__:V_g\" will be overridden by \"essm.variables._core:<class 'essm.variables._core.V_g'>\"\n",
      "  instance[expr] = instance\n",
      "/home/stan/Programs/essm/essm/variables/_core.py:89: UserWarning: \"__main__:n_g\" will be overridden by \"essm.variables._core:<class 'essm.variables._core.n_g'>\"\n",
      "  instance[expr] = instance\n",
      "/home/stan/Programs/essm/essm/variables/_core.py:89: UserWarning: \"__main__:n_w\" will be overridden by \"essm.variables._core:<class 'essm.variables._core.n_w'>\"\n",
      "  instance[expr] = instance\n",
      "/home/stan/Programs/essm/essm/variables/_core.py:89: UserWarning: \"__main__:T_g\" will be overridden by \"essm.variables._core:<class 'essm.variables._core.T_g'>\"\n",
      "  instance[expr] = instance\n"
     ]
    },
    {
     "name": "stderr",
     "output_type": "stream",
     "text": [
      "/home/stan/Programs/essm/essm/variables/_core.py:89: UserWarning: \"__main__:Delta_Pwa\" will be overridden by \"essm.variables._core:<class 'essm.variables._core.Delta_Pwa'>\"\n",
      "  instance[expr] = instance\n",
      "/home/stan/Programs/essm/essm/variables/_core.py:89: UserWarning: \"__main__:x\" will be overridden by \"essm.variables._core:<class 'essm.variables._core.x'>\"\n",
      "  instance[expr] = instance\n",
      "/home/stan/Programs/essm/essm/variables/_core.py:89: UserWarning: \"__main__:p_CC1\" will be overridden by \"essm.variables._core:<class 'essm.variables._core.p_CC1'>\"\n",
      "  instance[expr] = instance\n",
      "/home/stan/Programs/essm/essm/variables/_core.py:89: UserWarning: \"__main__:p_CC2\" will be overridden by \"essm.variables._core:<class 'essm.variables._core.p_CC2'>\"\n",
      "  instance[expr] = instance\n",
      "/home/stan/Programs/essm/essm/variables/_core.py:89: UserWarning: \"__main__:T_a1\" will be overridden by \"essm.variables._core:<class 'essm.variables._core.T_a1'>\"\n",
      "  instance[expr] = instance\n",
      "/home/stan/Programs/essm/essm/variables/_core.py:89: UserWarning: \"__main__:T_a2\" will be overridden by \"essm.variables._core:<class 'essm.variables._core.T_a2'>\"\n",
      "  instance[expr] = instance\n",
      "/home/stan/Programs/essm/essm/variables/_core.py:89: UserWarning: \"__main__:P_wa1\" will be overridden by \"essm.variables._core:<class 'essm.variables._core.P_wa1'>\"\n",
      "  instance[expr] = instance\n",
      "/home/stan/Programs/essm/essm/equations/_core.py:107: UserWarning: \"essm.equations.physics.thermodynamics:eq_Le\" will be overridden by \"essm.equations._core:<class 'essm.equations._core.eq_Le'>\"\n",
      "  instance[expr] = instance\n",
      "/home/stan/Programs/essm/essm/equations/_core.py:107: UserWarning: \"essm.equations.physics.thermodynamics:eq_Cwa\" will be overridden by \"essm.equations._core:<class 'essm.equations._core.eq_Cwa'>\"\n",
      "  instance[expr] = instance\n",
      "/home/stan/Programs/essm/essm/equations/_core.py:107: UserWarning: \"essm.equations.physics.thermodynamics:eq_Dva\" will be overridden by \"essm.equations._core:<class 'essm.equations._core.eq_Dva'>\"\n",
      "  instance[expr] = instance\n",
      "/home/stan/Programs/essm/essm/equations/_core.py:107: UserWarning: \"essm.equations.physics.thermodynamics:eq_alphaa\" will be overridden by \"essm.equations._core:<class 'essm.equations._core.eq_alphaa'>\"\n",
      "  instance[expr] = instance\n",
      "/home/stan/Programs/essm/essm/equations/_core.py:107: UserWarning: \"essm.equations.physics.thermodynamics:eq_ka\" will be overridden by \"essm.equations._core:<class 'essm.equations._core.eq_ka'>\"\n",
      "  instance[expr] = instance\n",
      "/home/stan/Programs/essm/essm/equations/_core.py:107: UserWarning: \"essm.equations.physics.thermodynamics:eq_nua\" will be overridden by \"essm.equations._core:<class 'essm.equations._core.eq_nua'>\"\n",
      "  instance[expr] = instance\n",
      "/home/stan/Programs/essm/essm/equations/_core.py:107: UserWarning: \"essm.equations.physics.thermodynamics:eq_rhoa_Pwa_Ta\" will be overridden by \"essm.equations._core:<class 'essm.equations._core.eq_rhoa_Pwa_Ta'>\"\n",
      "  instance[expr] = instance\n",
      "/home/stan/Programs/essm/essm/equations/_core.py:107: UserWarning: \"essm.equations.physics.thermodynamics:eq_Pa\" will be overridden by \"essm.equations._core:<class 'essm.equations._core.eq_Pa'>\"\n",
      "  instance[expr] = instance\n",
      "/home/stan/Programs/essm/essm/equations/_core.py:107: UserWarning: \"essm.equations.physics.thermodynamics:eq_PN2_PO2\" will be overridden by \"essm.equations._core:<class 'essm.equations._core.eq_PN2_PO2'>\"\n",
      "  instance[expr] = instance\n",
      "/home/stan/Programs/essm/essm/equations/_core.py:107: UserWarning: \"essm.equations.physics.thermodynamics:eq_PO2\" will be overridden by \"essm.equations._core:<class 'essm.equations._core.eq_PO2'>\"\n",
      "  instance[expr] = instance\n",
      "/home/stan/Programs/essm/essm/equations/_core.py:107: UserWarning: \"essm.equations.physics.thermodynamics:eq_PN2\" will be overridden by \"essm.equations._core:<class 'essm.equations._core.eq_PN2'>\"\n",
      "  instance[expr] = instance\n",
      "/home/stan/Programs/essm/essm/equations/_core.py:107: UserWarning: \"essm.equations.physics.thermodynamics:eq_rhoa\" will be overridden by \"essm.equations._core:<class 'essm.equations._core.eq_rhoa'>\"\n",
      "  instance[expr] = instance\n",
      "/home/stan/Programs/essm/essm/equations/_core.py:107: UserWarning: \"__main__:eq_ideal_gas_law\" will be overridden by \"essm.equations._core:<class 'essm.equations._core.eq_ideal_gas_law'>\"\n",
      "  instance[expr] = instance\n",
      "/home/stan/Programs/essm/essm/equations/_core.py:107: UserWarning: \"__main__:eq_Pg1\" will be overridden by \"essm.equations._core:<class 'essm.equations._core.eq_Pg'>\"\n",
      "  instance[expr] = instance\n",
      "/home/stan/Programs/essm/essm/equations/_core.py:107: UserWarning: \"__main__:eq_Pwa_nw\" will be overridden by \"essm.equations._core:<class 'essm.equations._core.eq_Pwa_nw'>\"\n",
      "  instance[expr] = instance\n",
      "/home/stan/Programs/essm/essm/equations/_core.py:107: UserWarning: \"__main__:eq_Pwa_CC\" will be overridden by \"essm.equations._core:<class 'essm.equations._core.eq_Pwa_CC'>\"\n",
      "  instance[expr] = instance\n",
      "/home/stan/Programs/essm/essm/equations/_core.py:107: UserWarning: \"__main__:eq1\" will be overridden by \"essm.equations._core:<class 'essm.equations._core.eq1'>\"\n",
      "  instance[expr] = instance\n",
      "/home/stan/Programs/essm/essm/equations/_core.py:107: UserWarning: \"__main__:eq_Pwa_Delta\" will be overridden by \"essm.equations._core:<class 'essm.equations._core.eq_Pwa_Delta'>\"\n",
      "  instance[expr] = instance\n"
     ]
    }
   ],
   "source": [
    "from test_definitions import *"
   ]
  },
  {
   "cell_type": "markdown",
   "metadata": {},
   "source": [
    "Since we re-imported names that already had definitions associated with them, we got a warning for each of them before it was overwritten. This tells us that the same variable used before may now have a different meaning, which could introduce inconsistency in the notebook. Here, however, we know that they are all the same."
   ]
  },
  {
   "cell_type": "markdown",
   "metadata": {},
   "source": [
    "## Numerical evaluations\n",
    "See here for detailed instructions on how to turn sympy expressions into code: https://docs.sympy.org/latest/modules/codegen.html\n",
    "\n",
    "We will first list all equations defined in this worksheet:"
   ]
  },
  {
   "cell_type": "code",
   "execution_count": 47,
   "metadata": {},
   "outputs": [
    {
     "name": "stdout",
     "output_type": "stream",
     "text": [
      "eq_Le: Eq(Le, alpha_a/D_va)\n",
      "eq_Cwa: Eq(C_wa, P_wa/(R_mol*T_a))\n",
      "eq_Nu_forced_all: Eq(Nu, -Pr**(1/3)*(-37*Re**(4/5) + 37*(Re + Re_c - Abs(Re - Re_c)/2)**(4/5) - 664*sqrt(Re + Re_c - Abs(Re - Re_c)/2))/1000)\n",
      "eq_Dva: Eq(D_va, T_a*p_Dva1 - p_Dva2)\n",
      "eq_alphaa: Eq(alpha_a, T_a*p_alpha1 - p_alpha2)\n",
      "eq_ka: Eq(k_a, T_a*p_ka1 + p_ka2)\n",
      "eq_nua: Eq(nu_a, T_a*p_nua1 - p_nua2)\n",
      "eq_rhoa_Pwa_Ta: Eq(rho_a, (M_N2*P_N2 + M_O2*P_O2 + M_w*P_wa)/(R_mol*T_a))\n",
      "eq_Pa: Eq(P_a, P_N2 + P_O2 + P_wa)\n",
      "eq_PN2_PO2: Eq(P_N2, P_O2*x_N2/x_O2)\n",
      "eq_PO2: Eq(P_O2, (P_a*x_O2 - P_wa*x_O2)/(x_N2 + x_O2))\n",
      "eq_PN2: Eq(P_N2, (P_a*x_N2 - P_wa*x_N2)/(x_N2 + x_O2))\n",
      "eq_rhoa: Eq(rho_a, (x_N2*(M_N2*P_a - P_wa*(M_N2 - M_w)) + x_O2*(M_O2*P_a - P_wa*(M_O2 - M_w)))/(R_mol*T_a*x_N2 + R_mol*T_a*x_O2))\n",
      "eq_ideal_gas_law: Eq(P_g*V_g, R_mol*T_g*n_g)\n",
      "eq_Pg: Eq(P_g, R_mol*T_g*n_g/V_g)\n",
      "eq_Pwa_nw: Eq(P_wa, R_mol*T_g*n_w/V_g)\n",
      "eq_Pwa_CC: Eq(P_wa, p_CC1*exp(-M_w*lambda_E*(-1/p_CC2 + 1/T_g)/R_mol))\n",
      "eq1: Eq(P_wa, Piecewise((0, T_a < 0), (p_CC1*exp(-M_w*lambda_E*(-1/p_CC2 + 1/T_g)/R_mol), True)))\n",
      "eq_Pwa_Delta: Eq(P_wa, P_wa1 + Integral(Delta_Pwa, (T_g, T_a1, T_a2)))\n",
      "eq_Nu_forced_all: Eq(Nu, -Pr**0.333333333333333*(-37*Re**0.8 - 664*sqrt(Re + Re_c - Abs(Re - Re_c)/2) + 37*(Re + Re_c - Abs(Re - Re_c)/2)**0.8)/1000)\n"
     ]
    }
   ],
   "source": [
    "for eq in Equation.__registry__.keys():\n",
    "        print(eq.definition.name + ': ' + str(eq))"
   ]
  },
  {
   "cell_type": "markdown",
   "metadata": {},
   "source": [
    "### Substitution of equations and values into equations\n",
    "The easiest way is to define a dictionary with all variables we want to substitute as keys. We start with the default variables and then add more. First, however, we will define a function to display the contents of a dictionary:"
   ]
  },
  {
   "cell_type": "code",
   "execution_count": 48,
   "metadata": {},
   "outputs": [],
   "source": [
    "def print_dict(vdict, list_vars=None):\n",
    "    \"\"\"Print values and units of variables in vdict.\"\"\"\n",
    "    if not list_vars:\n",
    "        list_vars = vdict.keys()\n",
    "    for var1 in list_vars:\n",
    "        unit1 = var1.definition.unit\n",
    "        if unit1 == 1:\n",
    "            unit1 = ''\n",
    "        if vdict[var1] is not None:\n",
    "            print('{0}: {1} {2}'.format(var1.name, str(vdict[var1]), str(unit1)))"
   ]
  },
  {
   "cell_type": "code",
   "execution_count": 49,
   "metadata": {},
   "outputs": [
    {
     "name": "stdout",
     "output_type": "stream",
     "text": [
      "c_pa: 1010.0 J/(K*kg)\n",
      "c_pamol: 29.19 J/(K*mol)\n",
      "c_pv: 1864 J/(K*kg)\n",
      "g: 9.81 m/s**2\n",
      "lambda_E: 2450000.0 J/kg\n",
      "M_air: 0.02897 kg/mol\n",
      "M_N2: 0.028 kg/mol\n",
      "M_O2: 0.032 kg/mol\n",
      "M_w: 0.018 kg/mol\n",
      "R_mol: 8.314472 J/(K*mol)\n",
      "sigm: 5.67e-08 J/(K**4*m**2*s)\n",
      "T0: 273.15 K\n",
      "x_N2: 0.79 \n",
      "x_O2: 0.21 \n",
      "p_Dva1: 1.49e-07 m**2/(K*s)\n",
      "p_Dva2: 1.96e-05 m**2/s\n",
      "p_alpha1: 1.32e-07 m**2/(K*s)\n",
      "p_alpha2: 1.73e-05 m**2/s\n",
      "p_ka1: 6.84e-05 J/(K**2*m*s)\n",
      "p_ka2: 0.00563 J/(K*m*s)\n",
      "p_nua1: 9e-08 m**2/(K*s)\n",
      "p_nua2: 1.13e-05 m**2/s\n",
      "p_CC1: 611.0 Pa\n",
      "p_CC2: 273.0 K\n"
     ]
    }
   ],
   "source": [
    "vdict = Variable.__defaults__.copy()\n",
    "print_dict(vdict)"
   ]
  },
  {
   "cell_type": "markdown",
   "metadata": {},
   "source": [
    "We can substitute a range of equations into each other by using the custom function `subs_eq`:"
   ]
  },
  {
   "cell_type": "code",
   "execution_count": 50,
   "metadata": {},
   "outputs": [
    {
     "data": {
      "image/png": "[encoded data removed]",
      "text/latex": [
       "$$N_{Le} = \\frac{T_a p_1 - p_2}{T_a p_1 - p_2}$$"
      ],
      "text/plain": [
       "     Tₐ⋅pₐₗₚₕₐ₁ - pₐₗₚₕₐ₂\n",
       "Le = ────────────────────\n",
       "      Tₐ⋅p_Dva1 - p_Dva2 "
      ]
     },
     "execution_count": 50,
     "metadata": {},
     "output_type": "execute_result"
    }
   ],
   "source": [
    "from essm.variables.utils import subs_eq\n",
    "subs_eq(eq_Le, [eq_alphaa, eq_Dva])"
   ]
  },
  {
   "cell_type": "markdown",
   "metadata": {},
   "source": [
    "We can also use subs_eq to substitute equations into each other and a dictionary with values. We will first add an entry for T_a into the dictionary and then substitute:"
   ]
  },
  {
   "cell_type": "code",
   "execution_count": 51,
   "metadata": {},
   "outputs": [
    {
     "data": {
      "image/png": "[encoded data removed]",
      "text/latex": [
       "$$N_{Le} = 0.888446215139442$$"
      ],
      "text/plain": [
       "Le = 0.888446215139442"
      ]
     },
     "execution_count": 51,
     "metadata": {},
     "output_type": "execute_result"
    }
   ],
   "source": [
    "vdict[T_a] = 300.\n",
    "subs_eq(eq_Le, [eq_alphaa, eq_Dva], vdict)"
   ]
  },
  {
   "cell_type": "markdown",
   "metadata": {},
   "source": [
    "### Evaluation of equations for long lists of variable sets\n",
    "Substitution of variables into equations takes a lot of time if they need to be evaluated for a large number of variables. We can use theano to speed this up:"
   ]
  },
  {
   "cell_type": "code",
   "execution_count": 52,
   "metadata": {},
   "outputs": [
    {
     "name": "stderr",
     "output_type": "stream",
     "text": [
      "WARNING (theano.tensor.blas): Using NumPy C-API based implementation for BLAS functions.\n"
     ]
    }
   ],
   "source": [
    "#import theano\n",
    "from sympy.printing.theanocode import theano_function\n",
    "import numpy as np"
   ]
  },
  {
   "cell_type": "markdown",
   "metadata": {},
   "source": [
    "We will now create two long lists of values representing T_g and n_g respectively and show how long it takes to compute ideal gas law values."
   ]
  },
  {
   "cell_type": "code",
   "execution_count": 53,
   "metadata": {},
   "outputs": [],
   "source": [
    "npoints = 10000\n",
    "xmin = 290.\n",
    "xmax = 310.\n",
    "Tvals = np.arange(xmin, xmax, (xmax - xmin)/npoints)\n",
    "xmin = 0.1\n",
    "xmax = 0.5\n",
    "nvals = np.arange(xmin, xmax, (xmax-xmin)/npoints)"
   ]
  },
  {
   "cell_type": "code",
   "execution_count": 54,
   "metadata": {},
   "outputs": [
    {
     "name": "stdout",
     "output_type": "stream",
     "text": [
      "CPU times: user 20.6 s, sys: 335 ms, total: 20.9 s\n",
      "Wall time: 26.4 s\n"
     ]
    }
   ],
   "source": [
    "%%time\n",
    "# looping\n",
    "expr = eq_ideal_gas_law.rhs.subs(Variable.__defaults__)\n",
    "resvals0 = []\n",
    "for i in range(len(Tvals)):\n",
    "    resvals0.append(expr.subs({T_g: Tvals[i], n_g: nvals[i]}))"
   ]
  },
  {
   "cell_type": "code",
   "execution_count": 55,
   "metadata": {},
   "outputs": [
    {
     "name": "stdout",
     "output_type": "stream",
     "text": [
      "CPU times: user 88 ms, sys: 41.3 ms, total: 129 ms\n",
      "Wall time: 1.82 s\n"
     ]
    }
   ],
   "source": [
    "%%time\n",
    "# Using theano\n",
    "f1 = theano_function([T_g, n_g], [eq_ideal_gas_law.rhs.subs(Variable.__defaults__)], dims={T_g:1, n_g:1})\n",
    "resvals1 = f1(Tvals,nvals)"
   ]
  },
  {
   "cell_type": "code",
   "execution_count": 56,
   "metadata": {},
   "outputs": [
    {
     "data": {
      "text/plain": [
       "True"
      ]
     },
     "execution_count": 56,
     "metadata": {},
     "output_type": "execute_result"
    }
   ],
   "source": [
    "list(resvals0) == list(resvals1)"
   ]
  },
  {
   "cell_type": "markdown",
   "metadata": {},
   "source": [
    "**Both approaches give identical results, but `theano_function` makes it a lot faster.**"
   ]
  },
  {
   "cell_type": "markdown",
   "metadata": {},
   "source": [
    "### Numerical solution\n",
    "Some equations cannot be solved analytically for a given variable, e.g. eq_Nu_forced_all cannot be solved analytically for Re if Nu is given, so we can use numerical solvers instead:"
   ]
  },
  {
   "cell_type": "code",
   "execution_count": 57,
   "metadata": {},
   "outputs": [],
   "source": [
    "from sympy import nsolve"
   ]
  },
  {
   "cell_type": "code",
   "execution_count": 58,
   "metadata": {},
   "outputs": [
    {
     "data": {
      "image/png": "[encoded data removed]",
      "text/latex": [
       "$$690263.0346446$$"
      ],
      "text/plain": [
       "690263.034644600"
      ]
     },
     "execution_count": 58,
     "metadata": {},
     "output_type": "execute_result"
    }
   ],
   "source": [
    "vdict = Variable.__defaults__.copy()\n",
    "vdict[Pr] = 0.71\n",
    "vdict[Re_c] = 3000.\n",
    "vdict[Nu] = 1000.\n",
    "expr = eq_Nu_forced_all.subs(vdict)\n",
    "nsolve(expr, 1000.)"
   ]
  },
  {
   "cell_type": "markdown",
   "metadata": {},
   "source": [
    "Now applying to a long list of Nu-values:"
   ]
  },
  {
   "cell_type": "code",
   "execution_count": 59,
   "metadata": {},
   "outputs": [],
   "source": [
    "npoints = 100\n",
    "xmin = 1000.\n",
    "xmax = 1200.\n",
    "Nuvals = np.arange(xmin, xmax, (xmax - xmin)/npoints)"
   ]
  },
  {
   "cell_type": "code",
   "execution_count": 60,
   "metadata": {},
   "outputs": [
    {
     "name": "stdout",
     "output_type": "stream",
     "text": [
      "CPU times: user 3.99 s, sys: 37.9 ms, total: 4.02 s\n",
      "Wall time: 4.49 s\n"
     ]
    }
   ],
   "source": [
    "%%time\n",
    "# Solving for a range of Nu values\n",
    "vdict = Variable.__defaults__.copy()\n",
    "vdict[Pr] = 0.71\n",
    "vdict[Re_c] = 3000.\n",
    "resvals = []\n",
    "for Nu1 in Nuvals:\n",
    "    vdict[Nu] = Nu1\n",
    "    resvals.append(nsolve(eq_Nu_forced_all.subs(vdict), 1000.))"
   ]
  },
  {
   "cell_type": "markdown",
   "metadata": {},
   "source": [
    "We will now again use a theano function to make it faster. First we import optimize from scipy and preapre the theano_function:"
   ]
  },
  {
   "cell_type": "code",
   "execution_count": 61,
   "metadata": {},
   "outputs": [],
   "source": [
    "import scipy.optimize as sciopt\n",
    "vdict = Variable.__defaults__.copy()\n",
    "vdict[Pr] = 0.71\n",
    "vdict[Re_c] = 3000.\n",
    "expr = eq_Nu_forced_all.subs(vdict)\n",
    "expr1 = expr.rhs - expr.lhs\n",
    "fun_tf = theano_function([Re, Nu], [expr1], dims={Nu:1, Re:1})\n",
    "x0vals = np.full(Nuvals.shape, fill_value=2000.) # array of same shape as Nuvals, with initial guess"
   ]
  },
  {
   "cell_type": "code",
   "execution_count": 62,
   "metadata": {},
   "outputs": [
    {
     "name": "stdout",
     "output_type": "stream",
     "text": [
      "CPU times: user 14.1 ms, sys: 3.78 ms, total: 17.9 ms\n",
      "Wall time: 30.4 ms\n"
     ]
    }
   ],
   "source": [
    "%%time\n",
    "# Solving for a range of Nu values\n",
    "resvals1 = sciopt.fsolve(fun_tf, args=Nuvals, x0=x0vals)"
   ]
  },
  {
   "cell_type": "code",
   "execution_count": 63,
   "metadata": {},
   "outputs": [
    {
     "data": {
      "image/png": "[encoded data removed]",
      "text/latex": [
       "$$5.35695812626465 \\cdot 10^{-11}$$"
      ],
      "text/plain": [
       "5.35695812626465e-11"
      ]
     },
     "execution_count": 63,
     "metadata": {},
     "output_type": "execute_result"
    }
   ],
   "source": [
    "np.mean(abs((resvals - resvals1)/resvals))"
   ]
  },
  {
   "cell_type": "markdown",
   "metadata": {},
   "source": [
    "**Using theano and scipy makes it 2 orders of magnitude faster and the results are different only by 10$^{-10}$%!**\n",
    "**Note, however, that scipy gets slowed down for large arrays, so it is more efficient to re-run it repreatedly with subsections of the arra:**"
   ]
  },
  {
   "cell_type": "code",
   "execution_count": 64,
   "metadata": {},
   "outputs": [],
   "source": [
    "npoints = 1000\n",
    "xmin = 1000.\n",
    "xmax = 1200.\n",
    "Nuvals = np.arange(xmin, xmax, (xmax - xmin)/npoints)\n",
    "x0vals = np.full(Nuvals.shape, fill_value=2000.)"
   ]
  },
  {
   "cell_type": "code",
   "execution_count": 65,
   "metadata": {},
   "outputs": [
    {
     "name": "stdout",
     "output_type": "stream",
     "text": [
      "CPU times: user 3.23 s, sys: 30.4 ms, total: 3.26 s\n",
      "Wall time: 4.15 s\n"
     ]
    }
   ],
   "source": [
    "%%time\n",
    "# Solving for a range of Nu values\n",
    "resvals1 = sciopt.fsolve(fun_tf, args=Nuvals, x0=x0vals)"
   ]
  },
  {
   "cell_type": "markdown",
   "metadata": {},
   "source": [
    "We will now test that we can process Nuvals bit by bit and re-create it consistently:"
   ]
  },
  {
   "cell_type": "code",
   "execution_count": 66,
   "metadata": {},
   "outputs": [
    {
     "name": "stdout",
     "output_type": "stream",
     "text": [
      "True\n"
     ]
    }
   ],
   "source": [
    "# Solving for a range of Nu values\n",
    "imax = len(Nuvals)\n",
    "i0 = 0\n",
    "idiff = 100\n",
    "i1 = i0\n",
    "resvals2 = []\n",
    "while i1 < imax - 1:\n",
    "    i0 = i1    # note that resvals[0:2] + resvals[2:4] = resvals[0:4]\n",
    "    i1 = min(i0+idiff, imax)\n",
    "    resvals0 = Nuvals[i0:i1]\n",
    "    resvals2 = np.append(resvals2,resvals0)\n",
    "print(list(resvals2) == list(Nuvals))"
   ]
  },
  {
   "cell_type": "markdown",
   "metadata": {},
   "source": [
    "Now we will run fsolve for portions of Nuvals bit by bit:"
   ]
  },
  {
   "cell_type": "code",
   "execution_count": 67,
   "metadata": {},
   "outputs": [
    {
     "name": "stdout",
     "output_type": "stream",
     "text": [
      "CPU times: user 120 ms, sys: 4.12 ms, total: 124 ms\n",
      "Wall time: 164 ms\n"
     ]
    }
   ],
   "source": [
    "%%time\n",
    "# Solving for a range of Nu values\n",
    "imax = len(Nuvals)\n",
    "i0 = 0\n",
    "idiff = 100\n",
    "i1 = i0\n",
    "resvals2 = []\n",
    "while i1 < imax - 1:\n",
    "    i0 = i1    # note that resvals[0:2] + resvals[2:4] = resvals[0:4]\n",
    "    i1 = min(i0+idiff, imax)\n",
    "    resvals0 = sciopt.fsolve(fun_tf, args=Nuvals[i0:i1], x0=x0vals[i0:i1])\n",
    "    resvals2 = np.append(resvals2,resvals0)"
   ]
  },
  {
   "cell_type": "code",
   "execution_count": 68,
   "metadata": {},
   "outputs": [
    {
     "data": {
      "image/png": "[encoded data removed]",
      "text/latex": [
       "$$7.122603685219754e-10$$"
      ],
      "text/plain": [
       "7.122603685219754e-10"
      ]
     },
     "execution_count": 68,
     "metadata": {},
     "output_type": "execute_result"
    }
   ],
   "source": [
    "np.mean(abs((resvals1 - resvals2)/resvals1))"
   ]
  },
  {
   "cell_type": "markdown",
   "metadata": {},
   "source": [
    "**It is strange that resvals1 and resvals2 are different at all, but anyway, it is clear that slicing the data in relatively small portions is important to keep `scipy.optimize.fsolve` time-efficient.**"
   ]
  },
  {
   "cell_type": "markdown",
   "metadata": {},
   "source": [
    "### Generate code from sympy expressions and execute\n",
    "Need to install gfortran system-wide first!"
   ]
  },
  {
   "cell_type": "code",
   "execution_count": 69,
   "metadata": {},
   "outputs": [],
   "source": [
    "from sympy.utilities.autowrap import autowrap"
   ]
  },
  {
   "cell_type": "code",
   "execution_count": 70,
   "metadata": {},
   "outputs": [],
   "source": [
    "from sympy import symbols\n",
    "x, y, z = symbols('x y z')\n",
    "expr = ((x - y + z)**(13)).expand()\n",
    "autowrap_func = autowrap(expr)"
   ]
  },
  {
   "cell_type": "code",
   "execution_count": 71,
   "metadata": {},
   "outputs": [
    {
     "name": "stdout",
     "output_type": "stream",
     "text": [
      "CPU times: user 12 µs, sys: 1 µs, total: 13 µs\n",
      "Wall time: 19.6 µs\n"
     ]
    },
    {
     "data": {
      "image/png": "[encoded data removed]",
      "text/latex": [
       "$$-1.0$$"
      ],
      "text/plain": [
       "-1.0"
      ]
     },
     "execution_count": 71,
     "metadata": {},
     "output_type": "execute_result"
    }
   ],
   "source": [
    "%%time\n",
    "autowrap_func(1, 4, 2)"
   ]
  },
  {
   "cell_type": "code",
   "execution_count": 72,
   "metadata": {},
   "outputs": [
    {
     "name": "stdout",
     "output_type": "stream",
     "text": [
      "CPU times: user 146 ms, sys: 14.3 ms, total: 161 ms\n",
      "Wall time: 333 ms\n"
     ]
    },
    {
     "data": {
      "image/png": "[encoded data removed]",
      "text/latex": [
       "$$-1$$"
      ],
      "text/plain": [
       "-1"
      ]
     },
     "execution_count": 72,
     "metadata": {},
     "output_type": "execute_result"
    }
   ],
   "source": [
    "%%time\n",
    "expr.subs({x:1, y:4, z:2})"
   ]
  },
  {
   "cell_type": "markdown",
   "metadata": {},
   "source": [
    "Use of `autowrap` made the calculation 3 orders of magnitude faster than substitution of values into the original expression!"
   ]
  },
  {
   "cell_type": "markdown",
   "metadata": {},
   "source": [
    "Another way is to use `binary_function`:"
   ]
  },
  {
   "cell_type": "code",
   "execution_count": 73,
   "metadata": {},
   "outputs": [],
   "source": [
    "from sympy.utilities.autowrap import binary_function\n",
    "f = binary_function('f', expr)"
   ]
  },
  {
   "cell_type": "code",
   "execution_count": 74,
   "metadata": {},
   "outputs": [
    {
     "name": "stdout",
     "output_type": "stream",
     "text": [
      "CPU times: user 5.36 ms, sys: 0 ns, total: 5.36 ms\n",
      "Wall time: 6.78 ms\n"
     ]
    },
    {
     "data": {
      "image/png": "[encoded data removed]",
      "text/latex": [
       "$$-1.0$$"
      ],
      "text/plain": [
       "-1.0"
      ]
     },
     "execution_count": 74,
     "metadata": {},
     "output_type": "execute_result"
    }
   ],
   "source": [
    "%%time\n",
    "f(x,y,z).evalf(2, subs={x:1, y:4, z:2})"
   ]
  },
  {
   "cell_type": "markdown",
   "metadata": {},
   "source": [
    "However, for the above example, `binary_function` was 10 times slower than `autowrap`."
   ]
  }
 ],
 "metadata": {
  "kernelspec": {
   "display_name": "Python 3",
   "language": "python",
   "name": "python3"
  },
  "language_info": {
   "codemirror_mode": {
    "name": "ipython",
    "version": 3
   },
   "file_extension": ".py",
   "mimetype": "text/x-python",
   "name": "python",
   "nbconvert_exporter": "python",
   "pygments_lexer": "ipython3",
   "version": "3.7.4"
  },
  "nav_menu": {},
  "toc": {
   "base_numbering": 1,
   "nav_menu": {},
   "number_sections": true,
   "sideBar": true,
   "skip_h1_title": false,
   "title_cell": "Table of Contents",
   "title_sidebar": "Contents",
   "toc_cell": false,
   "toc_position": {
    "height": "calc(100% - 180px)",
    "left": "10px",
    "top": "150px",
    "width": "253.991px"
   },
   "toc_section_display": "block",
   "toc_window_display": true
  },
  "toc_position": {
   "height": "991px",
   "left": "0px",
   "right": "888.92px",
   "top": "105px",
   "width": "212px"
  }
 },
 "nbformat": 4,
 "nbformat_minor": 4
}
