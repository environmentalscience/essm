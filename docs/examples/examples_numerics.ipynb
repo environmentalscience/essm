{
 "cells": [
  {
   "cell_type": "markdown",
   "metadata": {},
   "source": [
    "# Use examples for numerical calculations\n",
    "This jupyter notebook can be found at:\n",
    "[https://github.com/environmentalscience/essm/blob/master/docs/examples/examples_numerics.ipynb](https://github.com/environmentalscience/essm/blob/master/docs/examples/examples_numerics.ipynb)\n",
    "\n",
    "Below, we will import variable and equation defintions that were previously exported from api_features.ipynb\n",
    "by running the file `test_equation_definitions.py`:"
   ]
  },
  {
   "cell_type": "code",
   "execution_count": 1,
   "metadata": {},
   "outputs": [],
   "source": [
    "from IPython.display import display\n",
    "from sympy import init_printing, latex\n",
    "init_printing() \n",
    "from sympy.printing import StrPrinter\n",
    "StrPrinter._print_Quantity = lambda self, expr: str(expr.abbrev)    # displays short units (m instead of meter)"
   ]
  },
  {
   "cell_type": "code",
   "execution_count": 2,
   "metadata": {},
   "outputs": [
    {
     "name": "stderr",
     "output_type": "stream",
     "text": [
      "/home/stan/Programs/essm/essm/variables/_core.py:89: UserWarning: \"test_variable_definitions:p_Dva1\" will be overridden by \"__main__:<class '__main__.eq_Dva.p_Dva1'>\"\n",
      "  instance[expr] = instance\n",
      "/home/stan/Programs/essm/essm/variables/_core.py:89: UserWarning: \"test_variable_definitions:p_Dva2\" will be overridden by \"__main__:<class '__main__.eq_Dva.p_Dva2'>\"\n",
      "  instance[expr] = instance\n",
      "/home/stan/Programs/essm/essm/variables/_core.py:89: UserWarning: \"test_variable_definitions:p_alpha2\" will be overridden by \"__main__:<class '__main__.eq_alphaa.p_alpha2'>\"\n",
      "  instance[expr] = instance\n",
      "/home/stan/Programs/essm/essm/variables/_core.py:89: UserWarning: \"test_variable_definitions:p_alpha1\" will be overridden by \"__main__:<class '__main__.eq_alphaa.p_alpha1'>\"\n",
      "  instance[expr] = instance\n",
      "/home/stan/Programs/essm/essm/variables/_core.py:89: UserWarning: \"test_variable_definitions:p_ka2\" will be overridden by \"__main__:<class '__main__.eq_ka.p_ka2'>\"\n",
      "  instance[expr] = instance\n",
      "/home/stan/Programs/essm/essm/variables/_core.py:89: UserWarning: \"test_variable_definitions:p_ka1\" will be overridden by \"__main__:<class '__main__.eq_ka.p_ka1'>\"\n",
      "  instance[expr] = instance\n",
      "/home/stan/Programs/essm/essm/variables/_core.py:89: UserWarning: \"test_variable_definitions:p_nua1\" will be overridden by \"__main__:<class '__main__.eq_nua.p_nua1'>\"\n",
      "  instance[expr] = instance\n",
      "/home/stan/Programs/essm/essm/variables/_core.py:89: UserWarning: \"test_variable_definitions:p_nua2\" will be overridden by \"__main__:<class '__main__.eq_nua.p_nua2'>\"\n",
      "  instance[expr] = instance\n",
      "/home/stan/Programs/essm/essm/variables/_core.py:89: UserWarning: \"test_variable_definitions:p_CC2\" will be overridden by \"__main__:<class '__main__.eq_Pwa_CC.p_CC2'>\"\n",
      "  instance[expr] = instance\n",
      "/home/stan/Programs/essm/essm/variables/_core.py:89: UserWarning: \"test_variable_definitions:p_CC1\" will be overridden by \"__main__:<class '__main__.eq_Pwa_CC.p_CC1'>\"\n",
      "  instance[expr] = instance\n"
     ]
    }
   ],
   "source": [
    "%run -i 'test_equation_definitions.py'"
   ]
  },
  {
   "cell_type": "markdown",
   "metadata": {},
   "source": [
    "## Numerical evaluations\n",
    "See here for detailed instructions on how to turn sympy expressions into code: https://docs.sympy.org/latest/modules/codegen.html\n",
    "\n",
    "We will first list all equations defined in this worksheet:"
   ]
  },
  {
   "cell_type": "code",
   "execution_count": 3,
   "metadata": {},
   "outputs": [
    {
     "name": "stdout",
     "output_type": "stream",
     "text": [
      "eq_Le: Eq(Le, alpha_a/D_va)\n",
      "eq_Cwa: Eq(C_wa, P_wa/(R_mol*T_a))\n",
      "eq_Nu_forced_all: Eq(Nu, -Pr**(1/3)*(-37*Re**(4/5) + 37*(Re + Re_c - Abs(Re - Re_c)/2)**(4/5) - 664*sqrt(Re + Re_c - Abs(Re - Re_c)/2))/1000)\n",
      "eq_Dva: Eq(D_va, T_a*p_Dva1 - p_Dva2)\n",
      "eq_alphaa: Eq(alpha_a, T_a*p_alpha1 - p_alpha2)\n",
      "eq_ka: Eq(k_a, T_a*p_ka1 + p_ka2)\n",
      "eq_nua: Eq(nu_a, T_a*p_nua1 - p_nua2)\n",
      "eq_rhoa_Pwa_Ta: Eq(rho_a, (M_N2*P_N2 + M_O2*P_O2 + M_w*P_wa)/(R_mol*T_a))\n",
      "eq_Pa: Eq(P_a, P_N2 + P_O2 + P_wa)\n",
      "eq_PN2_PO2: Eq(P_N2, P_O2*x_N2/x_O2)\n",
      "eq_ideal_gas_law: Eq(P_g*V_g, R_mol*T_g*n_g)\n",
      "eq_Pwa_CC: Eq(P_wa, p_CC1*exp(-M_w*lambda_E*(-1/p_CC2 + 1/T_g)/R_mol))\n",
      "eq1: Eq(P_wa, Piecewise((0, T_a < 0), (p_CC1*exp(-M_w*lambda_E*(-1/p_CC2 + 1/T_g)/R_mol), True)))\n",
      "eq_Pwa_Delta: Eq(P_wa, P_wa1 + Integral(Delta_Pwa, (T_g, T_a1, T_a2)))\n",
      "eq_PO2: Eq(P_O2, (P_a*x_O2 - P_wa*x_O2)/(x_N2 + x_O2))\n",
      "eq_PN2: Eq(P_N2, (P_a*x_N2 - P_wa*x_N2)/(x_N2 + x_O2))\n",
      "eq_rhoa: Eq(rho_a, (x_N2*(M_N2*P_a - P_wa*(M_N2 - M_w)) + x_O2*(M_O2*P_a - P_wa*(M_O2 - M_w)))/(R_mol*T_a*x_N2 + R_mol*T_a*x_O2))\n",
      "eq_Pg: Eq(P_g, R_mol*T_g*n_g/V_g)\n",
      "eq_Pwa_nw: Eq(P_wa, R_mol*T_g*n_w/V_g)\n"
     ]
    }
   ],
   "source": [
    "for eq in Equation.__registry__.keys():\n",
    "        print(eq.definition.name + ': ' + str(eq))"
   ]
  },
  {
   "cell_type": "markdown",
   "metadata": {},
   "source": [
    "### Substitution of equations and values into equations\n",
    "The easiest way is to define a dictionary with all variables we want to substitute as keys. We start with the default variables and then add more. First, however, we will define a function to display the contents of a dictionary:"
   ]
  },
  {
   "cell_type": "code",
   "execution_count": 4,
   "metadata": {},
   "outputs": [],
   "source": [
    "def print_dict(vdict, list_vars=None):\n",
    "    \"\"\"Print values and units of variables in vdict.\"\"\"\n",
    "    if not list_vars:\n",
    "        list_vars = vdict.keys()\n",
    "    for var1 in list_vars:\n",
    "        unit1 = var1.definition.unit\n",
    "        if unit1 == 1:\n",
    "            unit1 = ''\n",
    "        if vdict[var1] is not None:\n",
    "            print('{0}: {1} {2}'.format(var1.name, str(vdict[var1]), str(unit1)))"
   ]
  },
  {
   "cell_type": "code",
   "execution_count": 5,
   "metadata": {},
   "outputs": [
    {
     "name": "stdout",
     "output_type": "stream",
     "text": [
      "c_pa: 1010.0 J/(K*kg)\n",
      "c_pamol: 29.19 J/(K*mol)\n",
      "c_pv: 1864 J/(K*kg)\n",
      "g: 9.81 m/s**2\n",
      "lambda_E: 2450000.0 J/kg\n",
      "M_air: 0.02897 kg/mol\n",
      "M_N2: 0.028 kg/mol\n",
      "M_O2: 0.032 kg/mol\n",
      "M_w: 0.018 kg/mol\n",
      "R_mol: 8.314472 J/(K*mol)\n",
      "sigm: 5.67e-08 J/(K**4*m**2*s)\n",
      "T0: 273.15 K\n",
      "x_N2: 0.79 \n",
      "x_O2: 0.21 \n",
      "p_Dva1: 1.49e-07 m**2/(K*s)\n",
      "p_Dva2: 1.96e-05 m**2/s\n",
      "p_alpha1: 1.32e-07 m**2/(K*s)\n",
      "p_alpha2: 1.73e-05 m**2/s\n",
      "p_ka1: 6.84e-05 J/(K**2*m*s)\n",
      "p_ka2: 0.00563 J/(K*m*s)\n",
      "p_nua1: 9e-08 m**2/(K*s)\n",
      "p_nua2: 1.13e-05 m**2/s\n",
      "p_CC1: 611.0 Pa\n",
      "p_CC2: 273.0 K\n"
     ]
    }
   ],
   "source": [
    "vdict = Variable.__defaults__.copy()\n",
    "print_dict(vdict)"
   ]
  },
  {
   "cell_type": "markdown",
   "metadata": {},
   "source": [
    "We can substitute a range of equations into each other by using the custom function `subs_eq`:"
   ]
  },
  {
   "cell_type": "code",
   "execution_count": 6,
   "metadata": {},
   "outputs": [
    {
     "data": {
      "image/png": "[encoded data removed]",
      "text/latex": [
       "$$N_{Le} = \\frac{T_a p_1 - p_2}{T_a p_1 - p_2}$$"
      ],
      "text/plain": [
       "     Tₐ⋅pₐₗₚₕₐ₁ - pₐₗₚₕₐ₂\n",
       "Le = ────────────────────\n",
       "      Tₐ⋅p_Dva1 - p_Dva2 "
      ]
     },
     "execution_count": 6,
     "metadata": {},
     "output_type": "execute_result"
    }
   ],
   "source": [
    "from essm.variables.utils import subs_eq\n",
    "subs_eq(eq_Le, [eq_alphaa, eq_Dva])"
   ]
  },
  {
   "cell_type": "markdown",
   "metadata": {},
   "source": [
    "We can also use subs_eq to substitute equations into each other and a dictionary with values. We will first add an entry for T_a into the dictionary and then substitute:"
   ]
  },
  {
   "cell_type": "code",
   "execution_count": 7,
   "metadata": {},
   "outputs": [
    {
     "data": {
      "image/png": "[encoded data removed]",
      "text/latex": [
       "$$N_{Le} = 0.888446215139442$$"
      ],
      "text/plain": [
       "Le = 0.888446215139442"
      ]
     },
     "execution_count": 7,
     "metadata": {},
     "output_type": "execute_result"
    }
   ],
   "source": [
    "vdict[T_a] = 300.\n",
    "subs_eq(eq_Le, [eq_alphaa, eq_Dva], vdict)"
   ]
  },
  {
   "cell_type": "markdown",
   "metadata": {},
   "source": [
    "### Evaluation of equations for long lists of variable sets\n",
    "Substitution of variables into equations takes a lot of time if they need to be evaluated for a large number of variables. We can use theano to speed this up:"
   ]
  },
  {
   "cell_type": "code",
   "execution_count": 8,
   "metadata": {},
   "outputs": [
    {
     "name": "stderr",
     "output_type": "stream",
     "text": [
      "WARNING (theano.tensor.blas): Using NumPy C-API based implementation for BLAS functions.\n"
     ]
    }
   ],
   "source": [
    "#import theano\n",
    "from sympy.printing.theanocode import theano_function\n",
    "import numpy as np"
   ]
  },
  {
   "cell_type": "markdown",
   "metadata": {},
   "source": [
    "We will now create two long lists of values representing T_g and n_g respectively and show how long it takes to compute ideal gas law values."
   ]
  },
  {
   "cell_type": "code",
   "execution_count": 9,
   "metadata": {},
   "outputs": [],
   "source": [
    "npoints = 10000\n",
    "xmin = 290.\n",
    "xmax = 310.\n",
    "Tvals = np.arange(xmin, xmax, (xmax - xmin)/npoints)\n",
    "xmin = 0.1\n",
    "xmax = 0.5\n",
    "nvals = np.arange(xmin, xmax, (xmax-xmin)/npoints)"
   ]
  },
  {
   "cell_type": "code",
   "execution_count": 10,
   "metadata": {},
   "outputs": [
    {
     "name": "stdout",
     "output_type": "stream",
     "text": [
      "CPU times: user 7.46 s, sys: 43.4 ms, total: 7.5 s\n",
      "Wall time: 7.68 s\n"
     ]
    }
   ],
   "source": [
    "%%time\n",
    "# looping\n",
    "expr = eq_ideal_gas_law.rhs.subs(Variable.__defaults__)\n",
    "resvals0 = []\n",
    "for i in range(len(Tvals)):\n",
    "    resvals0.append(expr.subs({T_g: Tvals[i], n_g: nvals[i]}))"
   ]
  },
  {
   "cell_type": "code",
   "execution_count": 11,
   "metadata": {},
   "outputs": [
    {
     "name": "stdout",
     "output_type": "stream",
     "text": [
      "CPU times: user 106 ms, sys: 11.7 ms, total: 118 ms\n",
      "Wall time: 623 ms\n"
     ]
    }
   ],
   "source": [
    "%%time\n",
    "# Using theano\n",
    "f1 = theano_function([T_g, n_g], [eq_ideal_gas_law.rhs.subs(Variable.__defaults__)], dims={T_g:1, n_g:1})\n",
    "resvals1 = f1(Tvals,nvals)"
   ]
  },
  {
   "cell_type": "code",
   "execution_count": 12,
   "metadata": {},
   "outputs": [
    {
     "data": {
      "text/plain": [
       "True"
      ]
     },
     "execution_count": 12,
     "metadata": {},
     "output_type": "execute_result"
    }
   ],
   "source": [
    "list(resvals0) == list(resvals1)"
   ]
  },
  {
   "cell_type": "markdown",
   "metadata": {},
   "source": [
    "**Both approaches give identical results, but `theano_function` makes it a lot faster.**"
   ]
  },
  {
   "cell_type": "markdown",
   "metadata": {},
   "source": [
    "### Numerical solution\n",
    "Some equations cannot be solved analytically for a given variable, e.g. eq_Nu_forced_all cannot be solved analytically for Re if Nu is given, so we can use numerical solvers instead:"
   ]
  },
  {
   "cell_type": "code",
   "execution_count": 13,
   "metadata": {},
   "outputs": [],
   "source": [
    "from sympy import nsolve"
   ]
  },
  {
   "cell_type": "code",
   "execution_count": 14,
   "metadata": {},
   "outputs": [
    {
     "data": {
      "image/png": "[encoded data removed]",
      "text/latex": [
       "$$690263.0346446$$"
      ],
      "text/plain": [
       "690263.034644600"
      ]
     },
     "execution_count": 14,
     "metadata": {},
     "output_type": "execute_result"
    }
   ],
   "source": [
    "vdict = Variable.__defaults__.copy()\n",
    "vdict[Pr] = 0.71\n",
    "vdict[Re_c] = 3000.\n",
    "vdict[Nu] = 1000.\n",
    "expr = eq_Nu_forced_all.subs(vdict)\n",
    "nsolve(expr, 1000.)"
   ]
  },
  {
   "cell_type": "markdown",
   "metadata": {},
   "source": [
    "Now applying to a long list of Nu-values:"
   ]
  },
  {
   "cell_type": "code",
   "execution_count": 15,
   "metadata": {},
   "outputs": [],
   "source": [
    "npoints = 100\n",
    "xmin = 1000.\n",
    "xmax = 1200.\n",
    "Nuvals = np.arange(xmin, xmax, (xmax - xmin)/npoints)"
   ]
  },
  {
   "cell_type": "code",
   "execution_count": 16,
   "metadata": {},
   "outputs": [
    {
     "name": "stdout",
     "output_type": "stream",
     "text": [
      "CPU times: user 1.56 s, sys: 3.9 ms, total: 1.56 s\n",
      "Wall time: 1.56 s\n"
     ]
    }
   ],
   "source": [
    "%%time\n",
    "# Solving for a range of Nu values\n",
    "vdict = Variable.__defaults__.copy()\n",
    "vdict[Pr] = 0.71\n",
    "vdict[Re_c] = 3000.\n",
    "resvals = []\n",
    "for Nu1 in Nuvals:\n",
    "    vdict[Nu] = Nu1\n",
    "    resvals.append(nsolve(eq_Nu_forced_all.subs(vdict), 1000.))"
   ]
  },
  {
   "cell_type": "markdown",
   "metadata": {},
   "source": [
    "We will now again use a theano function to make it faster. First we import optimize from scipy and preapre the theano_function:"
   ]
  },
  {
   "cell_type": "code",
   "execution_count": 17,
   "metadata": {},
   "outputs": [],
   "source": [
    "import scipy.optimize as sciopt\n",
    "vdict = Variable.__defaults__.copy()\n",
    "vdict[Pr] = 0.71\n",
    "vdict[Re_c] = 3000.\n",
    "expr = eq_Nu_forced_all.subs(vdict)\n",
    "expr1 = expr.rhs - expr.lhs\n",
    "fun_tf = theano_function([Re, Nu], [expr1], dims={Nu:1, Re:1})\n",
    "x0vals = np.full(Nuvals.shape, fill_value=2000.) # array of same shape as Nuvals, with initial guess"
   ]
  },
  {
   "cell_type": "code",
   "execution_count": 18,
   "metadata": {},
   "outputs": [
    {
     "name": "stdout",
     "output_type": "stream",
     "text": [
      "CPU times: user 7.35 ms, sys: 0 ns, total: 7.35 ms\n",
      "Wall time: 7.24 ms\n"
     ]
    }
   ],
   "source": [
    "%%time\n",
    "# Solving for a range of Nu values\n",
    "resvals1 = sciopt.fsolve(fun_tf, args=Nuvals, x0=x0vals)"
   ]
  },
  {
   "cell_type": "code",
   "execution_count": 19,
   "metadata": {},
   "outputs": [
    {
     "data": {
      "image/png": "[encoded data removed]",
      "text/latex": [
       "$$5.35695853236626 \\cdot 10^{-11}$$"
      ],
      "text/plain": [
       "5.35695853236626e-11"
      ]
     },
     "execution_count": 19,
     "metadata": {},
     "output_type": "execute_result"
    }
   ],
   "source": [
    "np.mean(abs((resvals - resvals1)/resvals))"
   ]
  },
  {
   "cell_type": "markdown",
   "metadata": {},
   "source": [
    "**Using theano and scipy makes it 2 orders of magnitude faster and the results are different only by 10$^{-10}$%!**\n",
    "**Note, however, that scipy gets slowed down for large arrays, so it is more efficient to re-run it repreatedly with subsections of the arra:**"
   ]
  },
  {
   "cell_type": "code",
   "execution_count": 20,
   "metadata": {},
   "outputs": [],
   "source": [
    "npoints = 1000\n",
    "xmin = 1000.\n",
    "xmax = 1200.\n",
    "Nuvals = np.arange(xmin, xmax, (xmax - xmin)/npoints)\n",
    "x0vals = np.full(Nuvals.shape, fill_value=2000.)"
   ]
  },
  {
   "cell_type": "code",
   "execution_count": 21,
   "metadata": {},
   "outputs": [
    {
     "name": "stdout",
     "output_type": "stream",
     "text": [
      "CPU times: user 1.6 s, sys: 4.13 ms, total: 1.61 s\n",
      "Wall time: 1.61 s\n"
     ]
    }
   ],
   "source": [
    "%%time\n",
    "# Solving for a range of Nu values\n",
    "resvals1 = sciopt.fsolve(fun_tf, args=Nuvals, x0=x0vals)"
   ]
  },
  {
   "cell_type": "markdown",
   "metadata": {},
   "source": [
    "We will now test that we can process Nuvals bit by bit and re-create it consistently:"
   ]
  },
  {
   "cell_type": "code",
   "execution_count": 22,
   "metadata": {},
   "outputs": [
    {
     "name": "stdout",
     "output_type": "stream",
     "text": [
      "True\n"
     ]
    }
   ],
   "source": [
    "# Solving for a range of Nu values\n",
    "imax = len(Nuvals)\n",
    "i0 = 0\n",
    "idiff = 100\n",
    "i1 = i0\n",
    "resvals2 = []\n",
    "while i1 < imax - 1:\n",
    "    i0 = i1    # note that resvals[0:2] + resvals[2:4] = resvals[0:4]\n",
    "    i1 = min(i0+idiff, imax)\n",
    "    resvals0 = Nuvals[i0:i1]\n",
    "    resvals2 = np.append(resvals2,resvals0)\n",
    "print(list(resvals2) == list(Nuvals))"
   ]
  },
  {
   "cell_type": "markdown",
   "metadata": {},
   "source": [
    "Now we will run fsolve for portions of Nuvals bit by bit:"
   ]
  },
  {
   "cell_type": "code",
   "execution_count": 23,
   "metadata": {},
   "outputs": [
    {
     "name": "stdout",
     "output_type": "stream",
     "text": [
      "CPU times: user 56.5 ms, sys: 16 µs, total: 56.5 ms\n",
      "Wall time: 56 ms\n"
     ]
    }
   ],
   "source": [
    "%%time\n",
    "# Solving for a range of Nu values\n",
    "imax = len(Nuvals)\n",
    "i0 = 0\n",
    "idiff = 100\n",
    "i1 = i0\n",
    "resvals2 = []\n",
    "while i1 < imax - 1:\n",
    "    i0 = i1    # note that resvals[0:2] + resvals[2:4] = resvals[0:4]\n",
    "    i1 = min(i0+idiff, imax)\n",
    "    resvals0 = sciopt.fsolve(fun_tf, args=Nuvals[i0:i1], x0=x0vals[i0:i1])\n",
    "    resvals2 = np.append(resvals2,resvals0)"
   ]
  },
  {
   "cell_type": "code",
   "execution_count": 24,
   "metadata": {},
   "outputs": [
    {
     "data": {
      "image/png": "[encoded data removed]",
      "text/latex": [
       "$$7.122603685219754e-10$$"
      ],
      "text/plain": [
       "7.122603685219754e-10"
      ]
     },
     "execution_count": 24,
     "metadata": {},
     "output_type": "execute_result"
    }
   ],
   "source": [
    "np.mean(abs((resvals1 - resvals2)/resvals1))"
   ]
  },
  {
   "cell_type": "markdown",
   "metadata": {},
   "source": [
    "**It is strange that resvals1 and resvals2 are different at all, but anyway, it is clear that slicing the data in relatively small portions is important to keep `scipy.optimize.fsolve` time-efficient.**"
   ]
  },
  {
   "cell_type": "markdown",
   "metadata": {},
   "source": [
    "### Generate code from sympy expressions and execute\n",
    "Need to install gfortran system-wide first!"
   ]
  },
  {
   "cell_type": "code",
   "execution_count": 25,
   "metadata": {},
   "outputs": [],
   "source": [
    "from sympy.utilities.autowrap import autowrap"
   ]
  },
  {
   "cell_type": "code",
   "execution_count": 26,
   "metadata": {},
   "outputs": [],
   "source": [
    "from sympy import symbols\n",
    "x, y, z = symbols('x y z')\n",
    "expr = ((x - y + z)**(13)).expand()\n",
    "autowrap_func = autowrap(expr)"
   ]
  },
  {
   "cell_type": "code",
   "execution_count": 27,
   "metadata": {},
   "outputs": [
    {
     "name": "stdout",
     "output_type": "stream",
     "text": [
      "CPU times: user 8 µs, sys: 0 ns, total: 8 µs\n",
      "Wall time: 13.4 µs\n"
     ]
    },
    {
     "data": {
      "image/png": "[encoded data removed]",
      "text/latex": [
       "$$-1.0$$"
      ],
      "text/plain": [
       "-1.0"
      ]
     },
     "execution_count": 27,
     "metadata": {},
     "output_type": "execute_result"
    }
   ],
   "source": [
    "%%time\n",
    "autowrap_func(1, 4, 2)"
   ]
  },
  {
   "cell_type": "code",
   "execution_count": 28,
   "metadata": {},
   "outputs": [
    {
     "name": "stdout",
     "output_type": "stream",
     "text": [
      "CPU times: user 70 ms, sys: 3.77 ms, total: 73.8 ms\n",
      "Wall time: 72.4 ms\n"
     ]
    },
    {
     "data": {
      "image/png": "[encoded data removed]",
      "text/latex": [
       "$$-1$$"
      ],
      "text/plain": [
       "-1"
      ]
     },
     "execution_count": 28,
     "metadata": {},
     "output_type": "execute_result"
    }
   ],
   "source": [
    "%%time\n",
    "expr.subs({x:1, y:4, z:2})"
   ]
  },
  {
   "cell_type": "markdown",
   "metadata": {},
   "source": [
    "Use of `autowrap` made the calculation 3 orders of magnitude faster than substitution of values into the original expression!"
   ]
  },
  {
   "cell_type": "markdown",
   "metadata": {},
   "source": [
    "Another way is to use `binary_function`:"
   ]
  },
  {
   "cell_type": "code",
   "execution_count": 29,
   "metadata": {},
   "outputs": [],
   "source": [
    "from sympy.utilities.autowrap import binary_function\n",
    "f = binary_function('f', expr)"
   ]
  },
  {
   "cell_type": "code",
   "execution_count": 30,
   "metadata": {},
   "outputs": [
    {
     "name": "stdout",
     "output_type": "stream",
     "text": [
      "CPU times: user 2.47 ms, sys: 0 ns, total: 2.47 ms\n",
      "Wall time: 2.65 ms\n"
     ]
    },
    {
     "data": {
      "image/png": "[encoded data removed]",
      "text/latex": [
       "$$-1.0$$"
      ],
      "text/plain": [
       "-1.0"
      ]
     },
     "execution_count": 30,
     "metadata": {},
     "output_type": "execute_result"
    }
   ],
   "source": [
    "%%time\n",
    "f(x,y,z).evalf(2, subs={x:1, y:4, z:2})"
   ]
  },
  {
   "cell_type": "markdown",
   "metadata": {},
   "source": [
    "However, for the above example, `binary_function` was 2 orders of magnitude slower than `autowrap`."
   ]
  },
  {
   "cell_type": "code",
   "execution_count": null,
   "metadata": {},
   "outputs": [],
   "source": []
  }
 ],
 "metadata": {
  "kernelspec": {
   "display_name": "Python 3",
   "language": "python",
   "name": "python3"
  },
  "language_info": {
   "codemirror_mode": {
    "name": "ipython",
    "version": 3
   },
   "file_extension": ".py",
   "mimetype": "text/x-python",
   "name": "python",
   "nbconvert_exporter": "python",
   "pygments_lexer": "ipython3",
   "version": "3.7.4"
  },
  "toc": {
   "base_numbering": 1,
   "nav_menu": {},
   "number_sections": true,
   "sideBar": true,
   "skip_h1_title": false,
   "title_cell": "Table of Contents",
   "title_sidebar": "Contents",
   "toc_cell": false,
   "toc_position": {},
   "toc_section_display": true,
   "toc_window_display": false
  }
 },
 "nbformat": 4,
 "nbformat_minor": 2
}
